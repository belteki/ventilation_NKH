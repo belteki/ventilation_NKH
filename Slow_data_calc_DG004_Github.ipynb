{
 "cells": [
  {
   "cell_type": "markdown",
   "metadata": {},
   "source": [
    "# ANALYZING VENTILATOR DATA DG004"
   ]
  },
  {
   "cell_type": "markdown",
   "metadata": {},
   "source": [
    "### Importing the necessary libraries and setting options"
   ]
  },
  {
   "cell_type": "code",
   "execution_count": null,
   "metadata": {},
   "outputs": [],
   "source": [
    "import pandas as pd\n",
    "import numpy as np\n",
    "import matplotlib.pyplot as plt\n",
    "from pandas import Series, DataFrame\n",
    "from datetime import datetime, timedelta\n",
    "from pprint import pprint\n",
    "%matplotlib inline\n",
    "pd.set_option('display.max_rows', 200)\n",
    "pd.set_option('display.max_columns', 50)"
   ]
  },
  {
   "cell_type": "markdown",
   "metadata": {},
   "source": [
    "### Clinical details and blood gases"
   ]
  },
  {
   "cell_type": "code",
   "execution_count": null,
   "metadata": {},
   "outputs": [],
   "source": [
    "clin_details = pd.read_excel('/Users/guszti/Desktop/ventilation_data/data_grabber_patient_data.xlsx', \n",
    "                             sheetname = 'DG004')"
   ]
  },
  {
   "cell_type": "code",
   "execution_count": null,
   "metadata": {},
   "outputs": [],
   "source": [
    "clin_details"
   ]
  },
  {
   "cell_type": "code",
   "execution_count": null,
   "metadata": {},
   "outputs": [],
   "source": [
    "gestation = clin_details.ix[0, 1]; bw = clin_details.ix[2, 1]/1000; cw = clin_details.ix[4, 1]/1000\n",
    "gestation"
   ]
  },
  {
   "cell_type": "code",
   "execution_count": null,
   "metadata": {},
   "outputs": [],
   "source": [
    "bw"
   ]
  },
  {
   "cell_type": "code",
   "execution_count": null,
   "metadata": {},
   "outputs": [],
   "source": [
    "cw "
   ]
  },
  {
   "cell_type": "code",
   "execution_count": null,
   "metadata": {},
   "outputs": [],
   "source": [
    "dg = clin_details.ix[5, 1].split(',')\n",
    "dg"
   ]
  },
  {
   "cell_type": "code",
   "execution_count": null,
   "metadata": {},
   "outputs": [],
   "source": [
    "comments = clin_details.ix[9, 1].split(',')\n",
    "comments"
   ]
  },
  {
   "cell_type": "markdown",
   "metadata": {},
   "source": [
    "#### Blood gases"
   ]
  },
  {
   "cell_type": "code",
   "execution_count": null,
   "metadata": {},
   "outputs": [],
   "source": [
    "gases = pd.read_excel('/Users/guszti/Desktop/ventilation_data/data_grabber_gases.xlsx', sheetname = 'DG004')\n",
    "gases = gases.T\n",
    "gases.columns = gases.ix[0]\n",
    "gases = gases.reset_index()\n",
    "\n",
    "gases[[0,1,5,6,7,8,9,14,30]]\n"
   ]
  },
  {
   "cell_type": "markdown",
   "metadata": {},
   "source": [
    "### Importing and cleaning up the ventilator data"
   ]
  },
  {
   "cell_type": "markdown",
   "metadata": {},
   "source": [
    "### List and set the working directories"
   ]
  },
  {
   "cell_type": "code",
   "execution_count": null,
   "metadata": {},
   "outputs": [],
   "source": [
    "%cd /Users/guszti/Desktop/ventilation_data/DG004\n",
    "cwd = '/Users/guszti/Desktop/ventilation_data/DG004'\n",
    "!ls -l"
   ]
  },
  {
   "cell_type": "code",
   "execution_count": null,
   "metadata": {},
   "outputs": [],
   "source": [
    "fnames = ['CsvLogBase_2015-10-12_085111.498_', 'CsvLogBase_2015-10-12_175541.015_']"
   ]
  },
  {
   "cell_type": "code",
   "execution_count": null,
   "metadata": {},
   "outputs": [],
   "source": [
    "dir_write = '/Users/guszti/Desktop/ventilation_data/Analyses/DG004'"
   ]
  },
  {
   "cell_type": "code",
   "execution_count": null,
   "metadata": {},
   "outputs": [],
   "source": [
    "fnames2 = 'DG004_'"
   ]
  },
  {
   "cell_type": "markdown",
   "metadata": {},
   "source": [
    "### Writing out clinical details in an Excel file"
   ]
  },
  {
   "cell_type": "code",
   "execution_count": null,
   "metadata": {},
   "outputs": [],
   "source": [
    "writer = pd.ExcelWriter('%s/%s%s' % (dir_write, fnames2, 'clinical details.xlsx'))\n",
    "clin_details.to_excel(writer,'clinical_details')\n",
    "writer.save()"
   ]
  },
  {
   "cell_type": "markdown",
   "metadata": {},
   "source": [
    "###  Importing slow measurement data"
   ]
  },
  {
   "cell_type": "code",
   "execution_count": null,
   "metadata": {},
   "outputs": [],
   "source": [
    "slow_Measurement_1 = pd.read_csv('%s/%s%s' % (cwd, fnames[0], 'slow_Measurement.csv'), parse_dates = [[1, 2]])\n",
    "slow_Measurement_1.index = slow_Measurement_1.Date_Time\n",
    "slow_Measurement_2 = pd.read_csv('%s/%s%s' % (cwd, fnames[1], 'slow_Measurement.csv'), parse_dates = [[1, 2]])\n",
    "slow_Measurement_2.index = slow_Measurement_2.Date_Time"
   ]
  },
  {
   "cell_type": "code",
   "execution_count": null,
   "metadata": {},
   "outputs": [],
   "source": [
    "slow_Measurement = pd.concat([slow_Measurement_1, slow_Measurement_2])\n",
    "del slow_Measurement_1\n",
    "del slow_Measurement_2"
   ]
  },
  {
   "cell_type": "code",
   "execution_count": null,
   "metadata": {
    "scrolled": true
   },
   "outputs": [],
   "source": [
    "slow_Measurement.head()"
   ]
  },
  {
   "cell_type": "markdown",
   "metadata": {},
   "source": [
    "### Renaming slow measurement data and clean-up"
   ]
  },
  {
   "cell_type": "code",
   "execution_count": null,
   "metadata": {},
   "outputs": [],
   "source": [
    "slow_Measurement.info()"
   ]
  },
  {
   "cell_type": "code",
   "execution_count": null,
   "metadata": {},
   "outputs": [],
   "source": [
    "columns = list(slow_Measurement.columns)\n",
    "column_list = [(i, name) for i, name in enumerate(columns)]\n",
    "column_list"
   ]
  },
  {
   "cell_type": "code",
   "execution_count": null,
   "metadata": {},
   "outputs": [],
   "source": [
    "slow_Measurement[[38, 40]].head()"
   ]
  },
  {
   "cell_type": "code",
   "execution_count": null,
   "metadata": {},
   "outputs": [],
   "source": [
    "slow_Measurement = slow_Measurement.drop(slow_Measurement[[38, 40]], axis = 1)"
   ]
  },
  {
   "cell_type": "code",
   "execution_count": null,
   "metadata": {},
   "outputs": [],
   "source": [
    "columns = list(slow_Measurement.columns)\n",
    "column_list = [(i, name) for i, name in enumerate(columns)]\n",
    "column_list"
   ]
  },
  {
   "cell_type": "code",
   "execution_count": null,
   "metadata": {},
   "outputs": [],
   "source": [
    "pprint([column_list[1], column_list[0] , column_list[9], column_list[4], column_list[2]])"
   ]
  },
  {
   "cell_type": "code",
   "execution_count": null,
   "metadata": {},
   "outputs": [],
   "source": [
    "columns[1] = '5001|leak_pc'\n",
    "columns[0] = '5001|MVspon_pc'\n",
    "columns[9] = '5001|Iie'\n",
    "columns[4] = '5001|Eie'\n",
    "columns[2] = '5001|C20_Cdyn'"
   ]
  },
  {
   "cell_type": "code",
   "execution_count": null,
   "metadata": {},
   "outputs": [],
   "source": [
    "columns"
   ]
  },
  {
   "cell_type": "code",
   "execution_count": null,
   "metadata": {},
   "outputs": [],
   "source": [
    "new_names = [name.split(' ')[0][5:] for name in columns if name.startswith('5001')]\n",
    "[(i, name) for i, name in enumerate(new_names)]"
   ]
  },
  {
   "cell_type": "code",
   "execution_count": null,
   "metadata": {},
   "outputs": [],
   "source": [
    "columns = new_names  + ['date_time',  'rel_time', 'time_ms', ]\n",
    "columns"
   ]
  },
  {
   "cell_type": "code",
   "execution_count": null,
   "metadata": {},
   "outputs": [],
   "source": [
    "slow_Measurement.columns = columns\n",
    "slow_Measurement.columns"
   ]
  },
  {
   "cell_type": "code",
   "execution_count": null,
   "metadata": {},
   "outputs": [],
   "source": [
    "slow_Measurement.info()"
   ]
  },
  {
   "cell_type": "markdown",
   "metadata": {},
   "source": [
    "### Calculating parameters / body weight kg"
   ]
  },
  {
   "cell_type": "code",
   "execution_count": null,
   "metadata": {},
   "outputs": [],
   "source": [
    "slow_Measurement['VT_kg'] = slow_Measurement.VT / cw\n",
    "slow_Measurement['VTmand_kg'] = slow_Measurement.VTmand / cw\n",
    "slow_Measurement['VTspon_kg'] = slow_Measurement.VTspon / cw\n",
    "slow_Measurement['VTi_kg'] = slow_Measurement.VTi / cw\n",
    "slow_Measurement['VTe_kg'] = slow_Measurement.VTe / cw\n",
    "slow_Measurement['VTimand_kg'] = slow_Measurement.VTimand / cw\n",
    "slow_Measurement['VTemand_kg'] = slow_Measurement.VTemand / cw\n",
    "slow_Measurement['VTispon_kg'] = slow_Measurement.VTispon / cw\n",
    "slow_Measurement['VTespon_kg'] = slow_Measurement.VTespon / cw"
   ]
  },
  {
   "cell_type": "code",
   "execution_count": null,
   "metadata": {},
   "outputs": [],
   "source": [
    "slow_Measurement['MV_kg'] = slow_Measurement.MV / cw\n",
    "slow_Measurement['MVleak_kg'] = slow_Measurement.MVleak / cw\n",
    "slow_Measurement['MVi_kg'] = slow_Measurement.MVi / cw\n",
    "slow_Measurement['MVe_kg'] = slow_Measurement.MVe / cw\n",
    "slow_Measurement['MVemand_kg'] = slow_Measurement.MVemand / cw\n",
    "slow_Measurement['MVespon_kg'] = slow_Measurement.MVespon / cw"
   ]
  },
  {
   "cell_type": "markdown",
   "metadata": {},
   "source": [
    "### Calcultating the I:E ratios"
   ]
  },
  {
   "cell_type": "code",
   "execution_count": null,
   "metadata": {},
   "outputs": [],
   "source": [
    "slow_Measurement['IE_mand'] = slow_Measurement.Iie / slow_Measurement.Eie"
   ]
  },
  {
   "cell_type": "code",
   "execution_count": null,
   "metadata": {},
   "outputs": [],
   "source": [
    "slow_Measurement.info()"
   ]
  },
  {
   "cell_type": "markdown",
   "metadata": {},
   "source": [
    "### Resampling to remove half-empty rows"
   ]
  },
  {
   "cell_type": "code",
   "execution_count": null,
   "metadata": {},
   "outputs": [],
   "source": [
    "slow_Measurement = slow_Measurement.resample('1S')"
   ]
  },
  {
   "cell_type": "markdown",
   "metadata": {},
   "source": [
    "### Limiting the interval"
   ]
  },
  {
   "cell_type": "code",
   "execution_count": null,
   "metadata": {},
   "outputs": [],
   "source": [
    "slow_Measurement.head()"
   ]
  },
  {
   "cell_type": "markdown",
   "metadata": {},
   "source": [
    "### Calculate the recording period"
   ]
  },
  {
   "cell_type": "code",
   "execution_count": null,
   "metadata": {},
   "outputs": [],
   "source": [
    "slow_Measurement.index[-1], slow_Measurement.index[0]"
   ]
  },
  {
   "cell_type": "code",
   "execution_count": null,
   "metadata": {},
   "outputs": [],
   "source": [
    "recording_period = (slow_Measurement.index[-1] - slow_Measurement.index[0]).total_seconds()\n",
    "recording_period"
   ]
  },
  {
   "cell_type": "code",
   "execution_count": null,
   "metadata": {},
   "outputs": [],
   "source": [
    "recording_period_2 = (slow_Measurement.index[-1] - slow_Measurement.index[0])\n",
    "print(recording_period_2)"
   ]
  },
  {
   "cell_type": "markdown",
   "metadata": {},
   "source": [
    "### Writing out recording period in a text file¶"
   ]
  },
  {
   "cell_type": "code",
   "execution_count": null,
   "metadata": {},
   "outputs": [],
   "source": [
    "fileout = open('%s/%s%s' % (dir_write, fnames2, 'slow_data_info.txt'), 'w')\n",
    "fileout.write('Start point %s \\n' % slow_Measurement.index[0])\n",
    "fileout.write('End point %s \\n' % slow_Measurement.index[-1])\n",
    "fileout.write('Recording period: %s ' % recording_period_2)\n",
    "fileout.write('\\n\\n\\n')\n",
    "fileout.close()"
   ]
  },
  {
   "cell_type": "markdown",
   "metadata": {},
   "source": [
    "### Importing ventilator settings"
   ]
  },
  {
   "cell_type": "code",
   "execution_count": null,
   "metadata": {},
   "outputs": [],
   "source": [
    "slow_Setting_1 = pd.read_csv('%s/%s%s' % (cwd, fnames[0], 'slow_Setting.csv'), parse_dates = [[1, 2]])\n",
    "slow_Setting_1.index = slow_Setting_1.Date_Time\n",
    "slow_Setting_2 = pd.read_csv('%s/%s%s' % (cwd, fnames[1], 'slow_Setting.csv'), parse_dates = [[1, 2]])\n",
    "slow_Setting_2.index = slow_Setting_2.Date_Time"
   ]
  },
  {
   "cell_type": "code",
   "execution_count": null,
   "metadata": {},
   "outputs": [],
   "source": [
    "slow_Setting = pd.concat([slow_Setting_1, slow_Setting_2])\n",
    "del slow_Setting_1\n",
    "del slow_Setting_2"
   ]
  },
  {
   "cell_type": "code",
   "execution_count": null,
   "metadata": {
    "scrolled": false
   },
   "outputs": [],
   "source": [
    "slow_Setting"
   ]
  },
  {
   "cell_type": "code",
   "execution_count": null,
   "metadata": {},
   "outputs": [],
   "source": [
    "slow_Text_1 = pd.read_csv('%s/%s%s' % (cwd, fnames[0], 'slow_Text.csv'), parse_dates = [[1, 2]])\n",
    "slow_Text_2 = pd.read_csv('%s/%s%s' % (cwd, fnames[1], 'slow_Text.csv'), parse_dates = [[1, 2]])\n",
    "slow_Text_1.index = slow_Text_1.Date_Time\n",
    "slow_Text_2.index = slow_Text_2.Date_Time"
   ]
  },
  {
   "cell_type": "code",
   "execution_count": null,
   "metadata": {},
   "outputs": [],
   "source": [
    "slow_Text = pd.concat([slow_Text_1, slow_Text_2])\n",
    "del slow_Text_1\n",
    "del slow_Text_2"
   ]
  },
  {
   "cell_type": "code",
   "execution_count": null,
   "metadata": {},
   "outputs": [],
   "source": [
    "slow_Text.index = range(len(slow_Text))\n",
    "slow_Text"
   ]
  },
  {
   "cell_type": "markdown",
   "metadata": {},
   "source": [
    "### 7. Filtering important slow settings"
   ]
  },
  {
   "cell_type": "code",
   "execution_count": null,
   "metadata": {
    "scrolled": false
   },
   "outputs": [],
   "source": [
    "set_Pinsp = slow_Setting.ix[slow_Setting.Id == 'Pinsp']\n",
    "set_VTi = slow_Setting.ix[slow_Setting.Id == 'VTi']\n",
    "set_Ti = slow_Setting.ix[slow_Setting.Id == 'Ti']\n",
    "set_Te = slow_Setting.ix[slow_Setting.Id == 'Te']\n",
    "set_Pmax = slow_Setting.ix[slow_Setting.Id == 'Pmax']\n",
    "set_PEEP = slow_Setting.ix[slow_Setting.Id == 'PEEP']\n",
    "set_RR = slow_Setting.ix[slow_Setting.Id == 'RR']\n",
    "set_MAPhf = slow_Setting.ix[slow_Setting.Id == 'MAPhf']\n",
    "set_VThf = slow_Setting.ix[slow_Setting.Id == 'VThf']\n",
    "set_fhf = slow_Setting.ix[slow_Setting.Id == 'fhf']\n",
    "pd.concat([set_Pinsp, set_VTi, set_Ti, set_Te, set_Pmax, set_PEEP, set_RR, set_MAPhf, set_VThf, set_fhf]).sort()"
   ]
  },
  {
   "cell_type": "code",
   "execution_count": null,
   "metadata": {},
   "outputs": [],
   "source": [
    "slow_Text.ix[[0, 5]]"
   ]
  },
  {
   "cell_type": "markdown",
   "metadata": {},
   "source": [
    "### Writing slow measurements and ventilator settings into .csv text files"
   ]
  },
  {
   "cell_type": "code",
   "execution_count": null,
   "metadata": {},
   "outputs": [],
   "source": [
    "writer = pd.ExcelWriter('%s/%s%s' % (dir_write, fnames2, 'ventilator_settings.xlsx'))\n",
    "slow_Setting.to_excel(writer,'Vent_Settings')\n",
    "slow_Text.to_excel(writer,'Vent_Modes')\n",
    "writer.save()"
   ]
  },
  {
   "cell_type": "markdown",
   "metadata": {},
   "source": [
    "### Defining custom functions"
   ]
  },
  {
   "cell_type": "code",
   "execution_count": null,
   "metadata": {},
   "outputs": [],
   "source": [
    "def pc5(x):\n",
    "    return np.percentile(x, 5)\n",
    "\n",
    "def pc25(x):\n",
    "    return np.percentile(x, 25)\n",
    "\n",
    "# slow_Measurement.resample('1min', how = 'median') - This code gives an Assertion error for reasons uncertain to me; \n",
    "# median cannot be calculated for all parameters at once.\n",
    "# This also gives the median (almost) and it works\n",
    "def pc50(x):\n",
    "    return np.percentile(x, 50) \n",
    "\n",
    "def pc75(x):\n",
    "    return np.percentile(x, 75)\n",
    "\n",
    "def pc95(x):\n",
    "    return np.percentile(x, 95)"
   ]
  },
  {
   "cell_type": "code",
   "execution_count": null,
   "metadata": {},
   "outputs": [],
   "source": [
    "def par_stats(par):\n",
    "    '''\n",
    "    input: DataFrame containing aggregated data (e.g. 1-min medians etc...)\n",
    "    This function return detailed statistics about the reduced data ;\n",
    "    - number of data points in the aggregated data set, mean, standard deviation, median, mean absolute deviation,\n",
    "      minium,5th centila, 25th centile, 75th centile, 95th centile, maximum of the time periods over the recording time \n",
    "    '''\n",
    "    return (par.size, par.mean(), par.std(), par.median(), par.mad(), par.min(), par.quantile(0.05), \n",
    "            par.quantile(0.25), par.quantile(0.75), par.quantile(0.95), par.max())"
   ]
  },
  {
   "cell_type": "markdown",
   "metadata": {},
   "source": [
    "### Calculating descriptive statistics on the slow data (1/sec) without resampling and writing them to files"
   ]
  },
  {
   "cell_type": "markdown",
   "metadata": {},
   "source": [
    "### Fraction of inspired oxygen"
   ]
  },
  {
   "cell_type": "code",
   "execution_count": null,
   "metadata": {},
   "outputs": [],
   "source": [
    "data = par_stats(slow_Measurement['FiO2'])\n",
    "FiO2_stats = DataFrame([data], columns = ['number_of_minutes', 'mean', 'stdev', 'median', 'mad',\n",
    "                'min', '5pc', '25pc', '75pc', '95pc', 'max' ])\n",
    "FiO2_stats['FiO2'] = 'FiO2'\n",
    "FiO2_stats"
   ]
  },
  {
   "cell_type": "markdown",
   "metadata": {},
   "source": [
    "### Pressures"
   ]
  },
  {
   "cell_type": "code",
   "execution_count": null,
   "metadata": {},
   "outputs": [],
   "source": [
    "pressure_list = ['PIP', 'Pmean', 'PEEP', 'EIP', 'Pmin']\n",
    "slow_Measurement_pressures = slow_Measurement[pressure_list]"
   ]
  },
  {
   "cell_type": "code",
   "execution_count": null,
   "metadata": {},
   "outputs": [],
   "source": [
    "pressure_stats = []\n",
    "for column in slow_Measurement_pressures.columns:\n",
    "    data = par_stats(slow_Measurement_pressures[column])\n",
    "    frame = DataFrame([data], columns = ['number_of_seconds', 'mean', 'stdev', 'median', 'mad',\n",
    "                'min', '5pc', '25pc', '75pc', '95pc', 'max' ])\n",
    "    frame['pressures'] = column\n",
    "    pressure_stats.append(frame)\n",
    "\n",
    "pressure_stats_all = pd.concat(pressure_stats)\n",
    "pressure_stats_all"
   ]
  },
  {
   "cell_type": "markdown",
   "metadata": {},
   "source": [
    "### Tidal volumes"
   ]
  },
  {
   "cell_type": "code",
   "execution_count": null,
   "metadata": {},
   "outputs": [],
   "source": [
    "VT_list = ['VT_kg', 'VTi_kg', 'VTe_kg', 'VTmand_kg', 'VTspon_kg', 'VTimand_kg',  'VTemand_kg', 'VTispon_kg',\n",
    "           'VTespon_kg']\n",
    "slow_Measurement_VTs = slow_Measurement[VT_list]"
   ]
  },
  {
   "cell_type": "code",
   "execution_count": null,
   "metadata": {},
   "outputs": [],
   "source": [
    "VT_stats = []\n",
    "for column in slow_Measurement_VTs.columns:\n",
    "    data = par_stats(slow_Measurement_VTs[column])\n",
    "    frame = DataFrame([data], columns = ['number_of_seconds', 'mean', 'stdev', 'median', 'mad',\n",
    "                'min', '5pc', '25pc', '75pc', '95pc', 'max' ])\n",
    "    frame['tidal volumes'] = column\n",
    "    VT_stats.append(frame)\n",
    "\n",
    "VT_stats_all = pd.concat(VT_stats)\n",
    "VT_stats_all"
   ]
  },
  {
   "cell_type": "markdown",
   "metadata": {},
   "source": [
    "### Minute volumes"
   ]
  },
  {
   "cell_type": "code",
   "execution_count": null,
   "metadata": {},
   "outputs": [],
   "source": [
    "MV_list = ['MV_kg', 'MVi_kg', 'MVe_kg', 'MVemand_kg','MVespon_kg', 'MVspon_pc', 'MVleak_kg']\n",
    "slow_Measurement_MVs = slow_Measurement[MV_list]"
   ]
  },
  {
   "cell_type": "code",
   "execution_count": null,
   "metadata": {},
   "outputs": [],
   "source": [
    "MV_stats = []\n",
    "for column in slow_Measurement_MVs.columns:\n",
    "    data = par_stats(slow_Measurement_MVs[column])\n",
    "    frame = DataFrame([data], columns = ['number_of_seconds', 'mean', 'stdev', 'median', 'mad',\n",
    "                'min', '5pc', '25pc', '75pc', '95pc', 'max' ])\n",
    "    frame['minute volumes'] = column\n",
    "    MV_stats.append(frame)\n",
    "\n",
    "MV_stats_all = pd.concat(MV_stats)\n",
    "MV_stats_all"
   ]
  },
  {
   "cell_type": "markdown",
   "metadata": {},
   "source": [
    "### Respiratory rates"
   ]
  },
  {
   "cell_type": "code",
   "execution_count": null,
   "metadata": {},
   "outputs": [],
   "source": [
    "RR_list = ['RR', 'RRmand', 'RRspon']\n",
    "slow_Measurement_RRs = slow_Measurement[RR_list]"
   ]
  },
  {
   "cell_type": "code",
   "execution_count": null,
   "metadata": {},
   "outputs": [],
   "source": [
    "RR_stats = []\n",
    "for column in slow_Measurement_RRs.columns:\n",
    "    data = par_stats(slow_Measurement_RRs[column])\n",
    "    frame = DataFrame([data], columns = ['number_of_seconds', 'mean', 'stdev', 'median', 'mad',\n",
    "                'min', '5pc', '25pc', '75pc', '95pc', 'max' ])\n",
    "    frame['rates'] = column\n",
    "    RR_stats.append(frame)\n",
    "\n",
    "RR_stats_all = pd.concat(RR_stats)\n",
    "RR_stats_all"
   ]
  },
  {
   "cell_type": "markdown",
   "metadata": {},
   "source": [
    "## Leak"
   ]
  },
  {
   "cell_type": "code",
   "execution_count": null,
   "metadata": {},
   "outputs": [],
   "source": [
    "leak_list = ['MVleak_kg', 'leak_pc',]\n",
    "slow_Measurement_leaks = slow_Measurement[leak_list]"
   ]
  },
  {
   "cell_type": "code",
   "execution_count": null,
   "metadata": {},
   "outputs": [],
   "source": [
    "leak_stats = []\n",
    "for column in slow_Measurement_leaks.columns:\n",
    "    data = par_stats(slow_Measurement_leaks[column])\n",
    "    frame = DataFrame([data], columns = ['number_of_seconds', 'mean', 'stdev', 'median', 'mad',\n",
    "                'min', '5pc', '25pc', '75pc', '95pc', 'max' ])\n",
    "    frame['leak'] = column\n",
    "    leak_stats.append(frame)\n",
    "\n",
    "leak_stats_all = pd.concat(leak_stats)\n",
    "leak_stats_all"
   ]
  },
  {
   "cell_type": "markdown",
   "metadata": {},
   "source": [
    "### Device flow"
   ]
  },
  {
   "cell_type": "code",
   "execution_count": null,
   "metadata": {},
   "outputs": [],
   "source": [
    "data = par_stats(slow_Measurement['FlowDev'])\n",
    "flow_stats = DataFrame([data], columns = ['number_of_minutes', 'mean', 'stdev', 'median', 'mad',\n",
    "                'min', '5pc', '25pc', '75pc', '95pc', 'max' ])\n",
    "flow_stats['FlowDev'] = 'FlowDev'\n",
    "flow_stats"
   ]
  },
  {
   "cell_type": "markdown",
   "metadata": {},
   "source": [
    "### I:E ratio of mandatory breaths"
   ]
  },
  {
   "cell_type": "code",
   "execution_count": null,
   "metadata": {},
   "outputs": [],
   "source": [
    "data = par_stats(slow_Measurement['IE_mand'])\n",
    "IE_stats = DataFrame([data], columns = ['number_of_minutes', 'mean', 'stdev', 'median', 'mad',\n",
    "                'min', '5pc', '25pc', '75pc', '95pc', 'max' ])\n",
    "IE_stats['IE_mand'] = 'IE_mand'\n",
    "IE_stats"
   ]
  },
  {
   "cell_type": "markdown",
   "metadata": {},
   "source": [
    "### Compliance, resistance and time constant"
   ]
  },
  {
   "cell_type": "code",
   "execution_count": null,
   "metadata": {},
   "outputs": [],
   "source": [
    "der_data_list = ['Cdyn', 'R', 'TC']\n",
    "slow_Measurement_der_data = slow_Measurement[der_data_list]"
   ]
  },
  {
   "cell_type": "code",
   "execution_count": null,
   "metadata": {},
   "outputs": [],
   "source": [
    "der_data_stats = []\n",
    "for column in slow_Measurement_der_data.columns:\n",
    "    data = par_stats(slow_Measurement_der_data[column])\n",
    "    frame = DataFrame([data], columns = ['number_of_seconds', 'mean', 'stdev', 'median', 'mad',\n",
    "                'min', '5pc', '25pc', '75pc', '95pc', 'max' ])\n",
    "    frame['derived data'] = column\n",
    "    der_data_stats.append(frame)\n",
    "\n",
    "der_data_stats_all = pd.concat(der_data_stats)\n",
    "der_data_stats_all"
   ]
  },
  {
   "cell_type": "markdown",
   "metadata": {},
   "source": [
    "### Writing data to Excel file"
   ]
  },
  {
   "cell_type": "code",
   "execution_count": null,
   "metadata": {},
   "outputs": [],
   "source": [
    "writer = pd.ExcelWriter('%s/%s%s' % (dir_write, fnames2, 'stats_1sec_data.xlsx'))\n",
    "pressure_stats_all.to_excel(writer, 'pressures')\n",
    "VT_stats_all.to_excel(writer, 'VTs')\n",
    "MV_stats_all.to_excel(writer, 'MVs')\n",
    "RR_stats_all.to_excel(writer, 'RRs')\n",
    "leak_stats_all.to_excel(writer, 'leaks')\n",
    "flow_stats.to_excel(writer, 'flow')\n",
    "IE_stats.to_excel(writer, 'IE')\n",
    "FiO2_stats.to_excel(writer, 'FiO2')\n",
    "der_data_stats_all.to_excel(writer, 'derived data')\n",
    "writer.save()"
   ]
  },
  {
   "cell_type": "markdown",
   "metadata": {},
   "source": [
    "### Calculating statistics for 1-minute time windows and writing them to files"
   ]
  },
  {
   "cell_type": "markdown",
   "metadata": {},
   "source": [
    "### Fraction of inspired oxygen"
   ]
  },
  {
   "cell_type": "code",
   "execution_count": null,
   "metadata": {},
   "outputs": [],
   "source": [
    "slow_Measurement_FiO2_1min_median = slow_Measurement[['FiO2']].resample('1min', how = 'median')"
   ]
  },
  {
   "cell_type": "code",
   "execution_count": null,
   "metadata": {},
   "outputs": [],
   "source": [
    "# descriptive statistics about 1-minute medians and showing the results\n",
    "data = par_stats(slow_Measurement_FiO2_1min_median['FiO2'])\n",
    "FiO2_1min_median_stats = DataFrame([data], columns = ['number_of_minutes', 'mean', 'stdev', 'median', 'mad',\n",
    "                'min', '5pc', '25pc', '75pc', '95pc', 'max' ])\n",
    "FiO2_1min_median_stats['FiO2'] = 'FiO2'\n",
    "FiO2_1min_median_stats"
   ]
  },
  {
   "cell_type": "markdown",
   "metadata": {},
   "source": [
    "### Pressures"
   ]
  },
  {
   "cell_type": "code",
   "execution_count": null,
   "metadata": {},
   "outputs": [],
   "source": [
    "slow_Measurement_pressures_1min_median = slow_Measurement[pressure_list].resample('1min', how = 'median')\n",
    "slow_Measurement_pressures_1min_pc25 = slow_Measurement[pressure_list].resample('1min', how = pc25)\n",
    "slow_Measurement_pressures_1min_pc75 = slow_Measurement[pressure_list].resample('1min', how = pc75)\n",
    "slow_Measurement_pressures_1min_IQR = slow_Measurement_pressures_1min_pc75 - slow_Measurement_pressures_1min_pc25\n"
   ]
  },
  {
   "cell_type": "code",
   "execution_count": null,
   "metadata": {},
   "outputs": [],
   "source": [
    "# descriptive statistics about 1-minute medians and showing the results\n",
    "pressure_1min_median_stats = []\n",
    "for column in slow_Measurement_pressures_1min_median.columns:\n",
    "    data = par_stats(slow_Measurement_pressures_1min_median[column])\n",
    "    frame = DataFrame([data], columns = ['number_of_minutes', 'mean', 'stdev', 'median', 'mad',\n",
    "                'min', '5pc', '25pc', '75pc', '95pc', 'max' ])\n",
    "    frame['pressure'] = column\n",
    "    pressure_1min_median_stats.append(frame)\n",
    "\n",
    "pressure_1min_median_stats_all = pd.concat(pressure_1min_median_stats)\n",
    "pressure_1min_median_stats_all"
   ]
  },
  {
   "cell_type": "code",
   "execution_count": null,
   "metadata": {},
   "outputs": [],
   "source": [
    "# descriptive statistics about 1-minute IQRs and showing the results\n",
    "pressure_1min_IQR_stats = []\n",
    "for column in slow_Measurement_pressures_1min_IQR.columns:\n",
    "    data = par_stats(slow_Measurement_pressures_1min_IQR[column])\n",
    "    frame = DataFrame([data], columns = ['number_of_minutes', 'mean', 'stdev', 'median', 'mad',\n",
    "                'min', '5pc', '25pc', '75pc', '95pc', 'max' ])\n",
    "    frame['pressure'] = column\n",
    "    pressure_1min_IQR_stats.append(frame)\n",
    "\n",
    "pressure_1min_IQR_stats_all = pd.concat(pressure_1min_IQR_stats)\n",
    "pressure_1min_IQR_stats_all"
   ]
  },
  {
   "cell_type": "markdown",
   "metadata": {},
   "source": [
    "### Tidal volumes"
   ]
  },
  {
   "cell_type": "code",
   "execution_count": null,
   "metadata": {},
   "outputs": [],
   "source": [
    "slow_Measurement_VT_1min_median = slow_Measurement[VT_list].resample('1min', how = 'median')\n",
    "slow_Measurement_VT_1min_pc25 = slow_Measurement[VT_list].resample('1min', how = pc25)\n",
    "slow_Measurement_VT_1min_pc75 = slow_Measurement[VT_list].resample('1min', how = pc75)\n",
    "slow_Measurement_VT_1min_IQR = slow_Measurement_VT_1min_pc75 - slow_Measurement_VT_1min_pc25"
   ]
  },
  {
   "cell_type": "code",
   "execution_count": null,
   "metadata": {},
   "outputs": [],
   "source": [
    "# descriptive statistics about 1-minute medians and showing the results\n",
    "VT_1min_median_stats = []\n",
    "for column in slow_Measurement_VT_1min_median.columns:\n",
    "    data = par_stats(slow_Measurement_VT_1min_median[column])\n",
    "    frame = DataFrame([data], columns = ['number_of_minutes', 'mean', 'stdev', 'median', 'mad',\n",
    "                'min', '5pc', '25pc', '75pc', '95pc', 'max' ])\n",
    "    frame['tidal volume'] = column\n",
    "    VT_1min_median_stats.append(frame)\n",
    "\n",
    "VT_1min_median_stats_all = pd.concat(VT_1min_median_stats)\n",
    "VT_1min_median_stats_all"
   ]
  },
  {
   "cell_type": "code",
   "execution_count": null,
   "metadata": {},
   "outputs": [],
   "source": [
    "# descriptive statistics about 1-minute IQRs and showing the results\n",
    "VT_1min_IQR_stats = []\n",
    "for column in slow_Measurement_VT_1min_IQR.columns:\n",
    "    data = par_stats(slow_Measurement_VT_1min_IQR[column])\n",
    "    frame = DataFrame([data], columns = ['number_of_minutes', 'mean', 'stdev', 'median', 'mad',\n",
    "                'min', '5pc', '25pc', '75pc', '95pc', 'max' ])\n",
    "    frame['tidal volume'] = column\n",
    "    VT_1min_IQR_stats.append(frame)\n",
    "\n",
    "VT_1min_IQR_stats_all = pd.concat(VT_1min_IQR_stats)\n",
    "VT_1min_IQR_stats_all"
   ]
  },
  {
   "cell_type": "markdown",
   "metadata": {},
   "source": [
    "### Minute volumes"
   ]
  },
  {
   "cell_type": "code",
   "execution_count": null,
   "metadata": {},
   "outputs": [],
   "source": [
    "slow_Measurement_MV_1min_median = slow_Measurement[MV_list].resample('1min', how = 'median')\n",
    "slow_Measurement_MV_1min_pc25 = slow_Measurement[MV_list].resample('1min', how = pc25)\n",
    "slow_Measurement_MV_1min_pc75 = slow_Measurement[MV_list].resample('1min', how = pc75)\n",
    "slow_Measurement_MV_1min_IQR = slow_Measurement_MV_1min_pc75 - slow_Measurement_MV_1min_pc25"
   ]
  },
  {
   "cell_type": "code",
   "execution_count": null,
   "metadata": {},
   "outputs": [],
   "source": [
    "# descriptive statistics about 1-minute medians and showing the results\n",
    "MV_1min_median_stats = []\n",
    "for column in slow_Measurement_MV_1min_median.columns:\n",
    "    data = par_stats(slow_Measurement_MV_1min_median[column])\n",
    "    frame = DataFrame([data], columns = ['number_of_minutes', 'mean', 'stdev', 'median', 'mad',\n",
    "                'min', '5pc', '25pc', '75pc', '95pc', 'max' ])\n",
    "    frame['minute volume'] = column\n",
    "    MV_1min_median_stats.append(frame)\n",
    "\n",
    "MV_1min_median_stats_all = pd.concat(MV_1min_median_stats)\n",
    "MV_1min_median_stats_all"
   ]
  },
  {
   "cell_type": "code",
   "execution_count": null,
   "metadata": {},
   "outputs": [],
   "source": [
    "# descriptive statistics about 1-minute IQRs and showing the results\n",
    "MV_1min_IQR_stats = []\n",
    "for column in slow_Measurement_MV_1min_IQR.columns:\n",
    "    data = par_stats(slow_Measurement_MV_1min_IQR[column])\n",
    "    frame = DataFrame([data], columns = ['number_of_minutes', 'mean', 'stdev', 'median', 'mad',\n",
    "                'min', '5pc', '25pc', '75pc', '95pc', 'max' ])\n",
    "    frame['minute volume'] = column\n",
    "    MV_1min_IQR_stats.append(frame)\n",
    "\n",
    "MV_1min_IQR_stats_all = pd.concat(MV_1min_IQR_stats)\n",
    "MV_1min_IQR_stats_all"
   ]
  },
  {
   "cell_type": "markdown",
   "metadata": {},
   "source": [
    "### Respiratory rates"
   ]
  },
  {
   "cell_type": "code",
   "execution_count": null,
   "metadata": {},
   "outputs": [],
   "source": [
    "slow_Measurement_RR_1min_median = slow_Measurement[RR_list].resample('1min', how = 'median')\n",
    "slow_Measurement_RR_1min_pc25 = slow_Measurement[RR_list].resample('1min', how = pc25)\n",
    "slow_Measurement_RR_1min_pc75 = slow_Measurement[RR_list].resample('1min', how = pc75)\n",
    "slow_Measurement_RR_1min_IQR = slow_Measurement_RR_1min_pc75 - slow_Measurement_RR_1min_pc25"
   ]
  },
  {
   "cell_type": "code",
   "execution_count": null,
   "metadata": {},
   "outputs": [],
   "source": [
    "# descriptive statistics about 1-minute medians and showing the results\n",
    "RR_1min_median_stats = []\n",
    "for column in slow_Measurement_RR_1min_median.columns:\n",
    "    data = par_stats(slow_Measurement_RR_1min_median[column])\n",
    "    frame = DataFrame([data], columns = ['number_of_minutes', 'mean', 'stdev', 'median', 'mad',\n",
    "                'min', '5pc', '25pc', '75pc', '95pc', 'max' ])\n",
    "    frame['respiratory rate'] = column\n",
    "    RR_1min_median_stats.append(frame)\n",
    "\n",
    "RR_1min_median_stats_all = pd.concat(RR_1min_median_stats)\n",
    "RR_1min_median_stats_all"
   ]
  },
  {
   "cell_type": "code",
   "execution_count": null,
   "metadata": {},
   "outputs": [],
   "source": [
    "# descriptive statistics about 1-minute IQRs and showing the results\n",
    "RR_1min_IQR_stats = []\n",
    "for column in slow_Measurement_RR_1min_IQR.columns:\n",
    "    data = par_stats(slow_Measurement_RR_1min_IQR[column])\n",
    "    frame = DataFrame([data], columns = ['number_of_minutes', 'mean', 'stdev', 'median', 'mad',\n",
    "                'min', '5pc', '25pc', '75pc', '95pc', 'max' ])\n",
    "    frame['respiratory rate'] = column\n",
    "    RR_1min_IQR_stats.append(frame)\n",
    "\n",
    "RR_1min_IQR_stats_all = pd.concat(RR_1min_IQR_stats)\n",
    "RR_1min_IQR_stats_all"
   ]
  },
  {
   "cell_type": "markdown",
   "metadata": {},
   "source": [
    "### Leak"
   ]
  },
  {
   "cell_type": "code",
   "execution_count": null,
   "metadata": {},
   "outputs": [],
   "source": [
    "slow_Measurement_leak_1min_median = slow_Measurement[leak_list].resample('1min', how = 'median')\n",
    "slow_Measurement_leak_1min_pc25 = slow_Measurement[leak_list].resample('1min', how = pc25)\n",
    "slow_Measurement_leak_1min_pc75 = slow_Measurement[leak_list].resample('1min', how = pc75)\n",
    "slow_Measurement_leak_1min_IQR = slow_Measurement_leak_1min_pc75 - slow_Measurement_leak_1min_pc25"
   ]
  },
  {
   "cell_type": "code",
   "execution_count": null,
   "metadata": {},
   "outputs": [],
   "source": [
    "# descriptive statistics about 1-minute medians and showing the results\n",
    "leak_1min_median_stats = []\n",
    "for column in slow_Measurement_leak_1min_median.columns:\n",
    "    data = par_stats(slow_Measurement_leak_1min_median[column])\n",
    "    frame = DataFrame([data], columns = ['number_of_minutes', 'mean', 'stdev', 'median', 'mad',\n",
    "                'min', '5pc', '25pc', '75pc', '95pc', 'max' ])\n",
    "    frame['leak parameter'] = column\n",
    "    leak_1min_median_stats.append(frame)\n",
    "\n",
    "leak_1min_median_stats_all = pd.concat(leak_1min_median_stats)\n",
    "leak_1min_median_stats_all"
   ]
  },
  {
   "cell_type": "code",
   "execution_count": null,
   "metadata": {},
   "outputs": [],
   "source": [
    "# descriptive statistics about 1-minute IQRs and showing the results\n",
    "leak_1min_IQR_stats = []\n",
    "for column in slow_Measurement_leak_1min_IQR.columns:\n",
    "    data = par_stats(slow_Measurement_leak_1min_IQR[column])\n",
    "    frame = DataFrame([data], columns = ['number_of_minutes', 'mean', 'stdev', 'median', 'mad',\n",
    "                'min', '5pc', '25pc', '75pc', '95pc', 'max' ])\n",
    "    frame['leak parameter'] = column\n",
    "    leak_1min_IQR_stats.append(frame)\n",
    "\n",
    "leak_1min_IQR_stats_all = pd.concat(leak_1min_IQR_stats)\n",
    "leak_1min_IQR_stats_all"
   ]
  },
  {
   "cell_type": "markdown",
   "metadata": {},
   "source": [
    "### Device flow"
   ]
  },
  {
   "cell_type": "code",
   "execution_count": null,
   "metadata": {},
   "outputs": [],
   "source": [
    "slow_Measurement_flow_1min_median = slow_Measurement[['FlowDev',]].resample('1min', how = 'median')\n",
    "slow_Measurement_flow_1min_pc25 = slow_Measurement[['FlowDev',]].resample('1min', how = pc25)\n",
    "slow_Measurement_flow_1min_pc75 = slow_Measurement[['FlowDev']].resample('1min', how = pc75)\n",
    "slow_Measurement_flow_1min_IQR = slow_Measurement_flow_1min_pc75 - slow_Measurement_flow_1min_pc25"
   ]
  },
  {
   "cell_type": "code",
   "execution_count": null,
   "metadata": {},
   "outputs": [],
   "source": [
    "# descriptive statistics about 1-minute medians and showing the results\n",
    "data = par_stats(slow_Measurement_flow_1min_median['FlowDev'])\n",
    "flow_1min_median_stats = DataFrame([data], columns = ['number_of_minutes', 'mean', 'stdev', 'median', 'mad',\n",
    "                'min', '5pc', '25pc', '75pc', '95pc', 'max' ])\n",
    "flow_1min_median_stats['flow'] = 'Device flow'\n",
    "flow_1min_median_stats"
   ]
  },
  {
   "cell_type": "code",
   "execution_count": null,
   "metadata": {},
   "outputs": [],
   "source": [
    "# descriptive statistics about 1-minute IQRs and showing the results\n",
    "data = par_stats(slow_Measurement_flow_1min_IQR['FlowDev'])\n",
    "flow_1min_IQR_stats = DataFrame([data], columns = ['number_of_minutes', 'mean', 'stdev', 'median', 'mad',\n",
    "                'min', '5pc', '25pc', '75pc', '95pc', 'max' ])\n",
    "flow_1min_IQR_stats['flow'] = 'Device flow'\n",
    "flow_1min_IQR_stats"
   ]
  },
  {
   "cell_type": "markdown",
   "metadata": {},
   "source": [
    "### I:E ratio of mandatory breaths"
   ]
  },
  {
   "cell_type": "code",
   "execution_count": null,
   "metadata": {},
   "outputs": [],
   "source": [
    "slow_Measurement_IE_1min_median = slow_Measurement[['IE_mand',]].resample('1min', how = 'median')\n",
    "slow_Measurement_IE_1min_pc25 = slow_Measurement[['IE_mand',]].resample('1min', how = pc25)\n",
    "slow_Measurement_IE_1min_pc75 = slow_Measurement[['IE_mand']].resample('1min', how = pc75)\n",
    "slow_Measurement_IE_1min_IQR = slow_Measurement_IE_1min_pc75 - slow_Measurement_IE_1min_pc25"
   ]
  },
  {
   "cell_type": "code",
   "execution_count": null,
   "metadata": {},
   "outputs": [],
   "source": [
    "# descriptive statistics about 1-minute medians and showing the results\n",
    "data = par_stats(slow_Measurement_IE_1min_median['IE_mand'])\n",
    "IE_1min_median_stats = DataFrame([data], columns = ['number_of_minutes', 'mean', 'stdev', 'median', 'mad',\n",
    "                'min', '5pc', '25pc', '75pc', '95pc', 'max' ])\n",
    "IE_1min_median_stats['I:E ratio'] = 'I:E ratio of mandatory breaths'\n",
    "IE_1min_median_stats"
   ]
  },
  {
   "cell_type": "code",
   "execution_count": null,
   "metadata": {},
   "outputs": [],
   "source": [
    "# descriptive statistics about 1-minute IQRs and showing the results\n",
    "data = par_stats(slow_Measurement_IE_1min_IQR['IE_mand'])\n",
    "IE_1min_IQR_stats = DataFrame([data], columns = ['number_of_minutes', 'mean', 'stdev', 'median', 'mad',\n",
    "                'min', '5pc', '25pc', '75pc', '95pc', 'max' ])\n",
    "IE_1min_IQR_stats['I:E ratio'] = 'I:E ratio of mandatory breaths'\n",
    "IE_1min_IQR_stats"
   ]
  },
  {
   "cell_type": "markdown",
   "metadata": {},
   "source": [
    "### Compliance, resistance and time constant"
   ]
  },
  {
   "cell_type": "code",
   "execution_count": null,
   "metadata": {},
   "outputs": [],
   "source": [
    "slow_Measurement_der_data_1min_median = slow_Measurement[der_data_list].resample('1min', how = 'median')\n",
    "slow_Measurement_der_data_1min_pc25 = slow_Measurement[der_data_list].resample('1min', how = pc25)\n",
    "slow_Measurement_der_data_1min_pc75 = slow_Measurement[der_data_list].resample('1min', how = pc75)\n",
    "slow_Measurement_der_data_1min_IQR = slow_Measurement_der_data_1min_pc75 - slow_Measurement_der_data_1min_pc25"
   ]
  },
  {
   "cell_type": "code",
   "execution_count": null,
   "metadata": {},
   "outputs": [],
   "source": [
    "# descriptive statistics about 1-minute medians and showing the results\n",
    "der_data_1min_median_stats = []\n",
    "for column in slow_Measurement_der_data_1min_median.columns:\n",
    "    data = par_stats(slow_Measurement_der_data_1min_median[column])\n",
    "    frame = DataFrame([data], columns = ['number_of_minutes', 'mean', 'stdev', 'median', 'mad',\n",
    "                'min', '5pc', '25pc', '75pc', '95pc', 'max' ])\n",
    "    frame['derived data'] = column\n",
    "    der_data_1min_median_stats.append(frame)\n",
    "der_data_1min_median_stats_all = pd.concat(der_data_1min_median_stats)\n",
    "der_data_1min_median_stats_all"
   ]
  },
  {
   "cell_type": "code",
   "execution_count": null,
   "metadata": {},
   "outputs": [],
   "source": [
    "# descriptive statistics about 1-minute medians and showing the results\n",
    "der_data_1min_IQR_stats = []\n",
    "for column in slow_Measurement_der_data_1min_IQR.columns:\n",
    "    data = par_stats(slow_Measurement_der_data_1min_IQR[column])\n",
    "    frame = DataFrame([data], columns = ['number_of_minutes', 'mean', 'stdev', 'median', 'mad',\n",
    "                'min', '5pc', '25pc', '75pc', '95pc', 'max' ])\n",
    "    frame['derived data'] = column\n",
    "    der_data_1min_IQR_stats.append(frame)\n",
    "\n",
    "der_data_1min_IQR_stats_all = pd.concat(der_data_1min_IQR_stats)\n",
    "der_data_1min_IQR_stats_all"
   ]
  },
  {
   "cell_type": "markdown",
   "metadata": {},
   "source": [
    "### Writing data into an Excel file"
   ]
  },
  {
   "cell_type": "code",
   "execution_count": null,
   "metadata": {},
   "outputs": [],
   "source": [
    "writer = pd.ExcelWriter('%s/%s%s' % (dir_write, fnames2, 'stats_1min_windows.xlsx'))\n",
    "pressure_1min_median_stats_all.to_excel(writer, 'pressure_medians')\n",
    "pressure_1min_IQR_stats_all.to_excel(writer, 'pressure_IQRs')\n",
    "VT_1min_median_stats_all.to_excel(writer, 'VT_medians')\n",
    "VT_1min_IQR_stats_all.to_excel(writer, 'VT_IQRs')\n",
    "MV_1min_median_stats_all.to_excel(writer, 'MV_medians')\n",
    "MV_1min_IQR_stats_all.to_excel(writer, 'MV_IQRs')\n",
    "RR_1min_median_stats_all.to_excel(writer, 'RR_medians')\n",
    "RR_1min_IQR_stats_all.to_excel(writer, 'RR_IQRs')\n",
    "leak_1min_median_stats_all.to_excel(writer, 'leak_medians')\n",
    "leak_1min_IQR_stats_all.to_excel(writer, 'leak_IQRs')\n",
    "flow_1min_median_stats.to_excel(writer, 'flow_medians')\n",
    "flow_1min_IQR_stats.to_excel(writer, 'flow_IQRs')\n",
    "IE_1min_median_stats.to_excel(writer, 'IE_medians')\n",
    "IE_1min_IQR_stats.to_excel(writer, 'IE_IQRs')\n",
    "FiO2_1min_median_stats.to_excel(writer, 'FiO2_medians')\n",
    "der_data_1min_median_stats_all.to_excel(writer, 'derived_data_medians')\n",
    "der_data_1min_IQR_stats_all.to_excel(writer, 'derived_data_IQRs')\n",
    "writer.save()"
   ]
  },
  {
   "cell_type": "markdown",
   "metadata": {},
   "source": [
    "# Visualization"
   ]
  },
  {
   "cell_type": "markdown",
   "metadata": {},
   "source": [
    "### FiO2"
   ]
  },
  {
   "cell_type": "code",
   "execution_count": null,
   "metadata": {},
   "outputs": [],
   "source": [
    "fig = plt.figure()\n",
    "fig.set_size_inches(12, 8)\n",
    "fig.subplots_adjust(left=None, bottom=None, right=None, top=None,\n",
    "wspace=None, hspace=0.7)\n",
    "ax1 = fig.add_subplot(1, 1, 1);\n",
    "slow_Measurement_FiO2_1min_median.plot(ax = ax1, color = 'blue', ylim = [-5, 100])\n",
    "ax1.set_title('FiO2 - 1-minute medians', size = 16, color = 'black')\n",
    "ax1.set_xlabel('Time (hours)', size = 14, color = 'black', )\n",
    "ax1.set_ylabel('%', size = 14, color = 'black')\n",
    "ax1.grid('on', linestyle='-', linewidth=0.5, color = 'gray')"
   ]
  },
  {
   "cell_type": "markdown",
   "metadata": {},
   "source": [
    "### Pressures"
   ]
  },
  {
   "cell_type": "markdown",
   "metadata": {},
   "source": [
    "### Boxplot of of the medians and IQR"
   ]
  },
  {
   "cell_type": "code",
   "execution_count": null,
   "metadata": {
    "scrolled": false
   },
   "outputs": [],
   "source": [
    "fig = plt.figure()\n",
    "fig.set_size_inches(12, 35)\n",
    "fig.suptitle('Boxplots of 1-minute medians \\n\\n Pressures', color = 'black', size = 22, weight = 'bold')\n",
    "fig.subplots_adjust(left=None, bottom=None, right=None, top=None,\n",
    "wspace=0.3, hspace=0.3)\n",
    "for i, column in enumerate(slow_Measurement_pressures_1min_median.columns):\n",
    "    ax = fig.add_subplot(8, 3, i+1)\n",
    "    ax.boxplot(slow_Measurement_pressures_1min_median[column], )\n",
    "    ax.set_title(column, size = 16, color = 'black')\n",
    "    ax.set_xlabel('values', size = 14, color = 'black')\n",
    "    ax.set_ylabel('number', size = 14, color = 'black');\n",
    "\n",
    "fig.savefig('%s/%s%s' % (dir_write, fnames2, 'boxplot_pressures_1min_medians.pdf'), dpi=100, facecolor='w', edgecolor='w',\n",
    "        orientation='portrait', papertype=None, format='pdf',\n",
    "        transparent=False, bbox_inches=None, pad_inches=0.1,\n",
    "        frameon=None)"
   ]
  },
  {
   "cell_type": "code",
   "execution_count": null,
   "metadata": {},
   "outputs": [],
   "source": [
    "fig = plt.figure()\n",
    "fig.set_size_inches(12, 35)\n",
    "fig.suptitle('Boxplots of 1-minute IQRs \\n\\n Pressures', color = 'black', size = 22, weight = 'bold')\n",
    "fig.subplots_adjust(left=None, bottom=None, right=None, top=None,\n",
    "wspace=0.3, hspace=0.3)\n",
    "for i, column in enumerate(slow_Measurement_pressures_1min_IQR.columns):\n",
    "    ax = fig.add_subplot(8, 3, i+1)\n",
    "    ax.boxplot(slow_Measurement_pressures_1min_IQR[column], )\n",
    "    ax.set_title(column, size = 16, color = 'black')\n",
    "    ax.set_xlabel('values', size = 14, color = 'black')\n",
    "    ax.set_ylabel('number', size = 14, color = 'black');\n",
    "    \n",
    "fig.savefig('%s/%s%s' % (dir_write, fnames2, 'boxplot_pressures_1min_IQRs.pdf'), dpi=100, facecolor='w', edgecolor='w',\n",
    "        orientation='portrait', papertype=None, format='pdf',\n",
    "        transparent=False, bbox_inches=None, pad_inches=0.1,\n",
    "        frameon=None)"
   ]
  },
  {
   "cell_type": "markdown",
   "metadata": {},
   "source": [
    "### Plotting PIP, Pmean, PEEP versus time - no resampling (this takes some time to compute)"
   ]
  },
  {
   "cell_type": "raw",
   "metadata": {
    "collapsed": true
   },
   "source": [
    "fig = plt.figure()\n",
    "fig.set_size_inches(12, 8)\n",
    "fig.subplots_adjust(left=None, bottom=None, right=None, top=None,\n",
    "wspace=None, hspace=0.7)\n",
    "ax1 = fig.add_subplot(1, 1, 1);\n",
    "slow_Measurement.PIP.plot(ax = ax1, color = 'red', ylim = [0, (slow_Measurement.PIP.max() + 5)] );\n",
    "slow_Measurement.Pmean.plot(ax = ax1, color = 'blue', ylim = [0, (slow_Measurement.PIP.max() + 5)] );\n",
    "slow_Measurement.PEEP.plot(ax = ax1, color = 'green', ylim = [0, (slow_Measurement.PIP.max() + 5)] );\n",
    "ax1.set_title('Pressures', size = 16, color = 'black')\n",
    "ax1.set_xlabel('Time (hours)', size = 14, color = 'black')\n",
    "ax1.set_ylabel('Pressure (mbar)', size = 14, color = 'black')\n",
    "ax1.grid('on', linestyle='-', linewidth=0.5, color = 'gray')\n",
    "ax1.legend(['PIP', 'MAP', 'PEEP']);"
   ]
  },
  {
   "cell_type": "markdown",
   "metadata": {},
   "source": [
    "### Plotting PIP, Pmean and PEEP medians and IQRs (over 1-min time windows) versus time"
   ]
  },
  {
   "cell_type": "code",
   "execution_count": null,
   "metadata": {},
   "outputs": [],
   "source": [
    "fig = plt.figure()\n",
    "fig.set_size_inches(12, 8)\n",
    "fig.subplots_adjust(left=None, bottom=None, right=None, top=None,\n",
    "wspace=None, hspace=0.7)\n",
    "ax1 = fig.add_subplot(1, 1, 1);\n",
    "slow_Measurement_pressures_1min_median['PIP'].plot(ax = ax1, color = 'red', \n",
    "                                        ylim = [0, (slow_Measurement_pressures_1min_median['PIP'].max() + 5)] );\n",
    "slow_Measurement_pressures_1min_median['Pmean'].plot(ax = ax1, color = 'green', \n",
    "                                        ylim = [0, (slow_Measurement_pressures_1min_median['PIP'].max() + 5)] );\n",
    "slow_Measurement_pressures_1min_median['PEEP'].plot(ax = ax1, color = 'blue', \n",
    "                                        ylim = [0, (slow_Measurement_pressures_1min_median['PIP'].max() + 5)] );\n",
    "ax1.set_title('Pressures - 1 minute medians', size = 16, color = 'black')\n",
    "ax1.set_xlabel('Time (hours)', size = 14, color = 'black')\n",
    "ax1.set_ylabel('Pressure (mbar)', size = 14, color = 'black')\n",
    "ax1.grid('on', linestyle='-', linewidth=0.5, color = 'gray')\n",
    "ax1.legend(['PIP', 'MAP', 'PEEP']);"
   ]
  },
  {
   "cell_type": "code",
   "execution_count": null,
   "metadata": {},
   "outputs": [],
   "source": [
    "fig = plt.figure()\n",
    "fig.set_size_inches(12, 8)\n",
    "fig.subplots_adjust(left=None, bottom=None, right=None, top=None,\n",
    "wspace=None, hspace=0.7)\n",
    "ax1 = fig.add_subplot(1, 1, 1);\n",
    "slow_Measurement_pressures_1min_median['Pmean'].plot(ax = ax1, color = 'green', \n",
    "                                        ylim = [0, (slow_Measurement_pressures_1min_median['Pmean'].max() + 5)] );\n",
    "ax1.set_title('Pressures - 1 minute medians', size = 16, color = 'black')\n",
    "ax1.set_xlabel('Time (hours)', size = 14, color = 'black')\n",
    "ax1.set_ylabel('Pressure (mbar)', size = 14, color = 'black')\n",
    "ax1.grid('on', linestyle='-', linewidth=0.5, color = 'gray')\n",
    "ax1.legend([ 'MAP']);"
   ]
  },
  {
   "cell_type": "code",
   "execution_count": null,
   "metadata": {},
   "outputs": [],
   "source": [
    "fig = plt.figure()\n",
    "fig.set_size_inches(12, 8)\n",
    "fig.subplots_adjust(left=None, bottom=None, right=None, top=None,\n",
    "wspace=None, hspace=0.7)\n",
    "ax1 = fig.add_subplot(1, 1, 1);\n",
    "slow_Measurement_pressures_1min_IQR['PIP'].plot(ax = ax1, color = 'red', \n",
    "                                        ylim = [0, (slow_Measurement_pressures_1min_IQR['PIP'].max() + 1)] );\n",
    "slow_Measurement_pressures_1min_IQR['Pmean'].plot(ax = ax1, color = 'green', \n",
    "                                        ylim = [0, (slow_Measurement_pressures_1min_IQR['PIP'].max() + 1)] );\n",
    "slow_Measurement_pressures_1min_IQR['PEEP'].plot(ax = ax1, color = 'blue', \n",
    "                                        ylim = [0, (slow_Measurement_pressures_1min_IQR['PIP'].max() + 1)] );\n",
    "ax1.set_title('Pressures - 1 minute IQRs', size = 16, color = 'black')\n",
    "ax1.set_xlabel('Time (hours)', size = 14, color = 'black')\n",
    "ax1.set_ylabel('Pressure (mbar)', size = 14, color = 'black')\n",
    "ax1.grid('on', linestyle='-', linewidth=0.5, color = 'gray')\n",
    "ax1.legend(['PIP', 'MAP', 'PEEP']);"
   ]
  },
  {
   "cell_type": "code",
   "execution_count": null,
   "metadata": {},
   "outputs": [],
   "source": [
    "fig = plt.figure()\n",
    "fig.set_size_inches(12, 8)\n",
    "fig.subplots_adjust(left=None, bottom=None, right=None, top=None,\n",
    "wspace=None, hspace=0.7)\n",
    "ax1 = fig.add_subplot(1, 1, 1);\n",
    "slow_Measurement_pressures_1min_IQR['Pmean'].plot(ax = ax1, color = 'green', \n",
    "                                        ylim = [0, (slow_Measurement_pressures_1min_IQR['Pmean'].max() + 5)] );\n",
    "ax1.set_title('Pressures - 1 minute IQRs', size = 16, color = 'black')\n",
    "ax1.set_xlabel('Time (hours)', size = 14, color = 'black')\n",
    "ax1.set_ylabel('Pressure (mbar)', size = 14, color = 'black')\n",
    "ax1.grid('on', linestyle='-', linewidth=0.5, color = 'gray')\n",
    "ax1.legend([ 'MAP']);"
   ]
  },
  {
   "cell_type": "markdown",
   "metadata": {},
   "source": [
    "### EIP, PIP versus time -  not resampled"
   ]
  },
  {
   "cell_type": "raw",
   "metadata": {
    "collapsed": true
   },
   "source": [
    "fig = plt.figure()\n",
    "fig.set_size_inches(12, 8)\n",
    "fig.subplots_adjust(left=None, bottom=None, right=None, top=None,\n",
    "wspace=None, hspace=0.7)\n",
    "ax1 = fig.add_subplot(1, 1, 1);\n",
    "slow_Measurement.EIP.plot(ax = ax1, color = 'red', ylim = [0, (slow_Measurement.EIP.max() + 5)])\n",
    "slow_Measurement.PIP.plot(ax = ax1, color = 'green', ylim = [0, (slow_Measurement.EIP.max() + 5)])\n",
    "ax1.set_title('End inspiratory pressure and peak inspiratory pressure', size = 16, color = 'black')\n",
    "ax1.set_xlabel('Time (hours)', size = 14, color = 'black')\n",
    "ax1.set_ylabel('Pressure (mbar)', size = 14, color = 'black')\n",
    "ax1.grid('on', linestyle='-', linewidth=0.5, color = 'gray')\n",
    "ax1.legend(['EIP', 'PIP']);"
   ]
  },
  {
   "cell_type": "markdown",
   "metadata": {},
   "source": [
    "### EIP and  PIP medians and IQRs versus time"
   ]
  },
  {
   "cell_type": "code",
   "execution_count": null,
   "metadata": {},
   "outputs": [],
   "source": [
    "fig = plt.figure()\n",
    "fig.set_size_inches(12, 8)\n",
    "fig.subplots_adjust(left=None, bottom=None, right=None, top=None,\n",
    "wspace=None, hspace=0.7)\n",
    "ax1 = fig.add_subplot(1, 1, 1);\n",
    "slow_Measurement_pressures_1min_median['EIP'].plot(ax = ax1, color = 'red', \n",
    "                                        ylim = [0, (slow_Measurement_pressures_1min_median['PIP'].max() + 1)] );\n",
    "slow_Measurement_pressures_1min_median['PIP'].plot(ax = ax1, color = 'green', \n",
    "                                        ylim = [0, (slow_Measurement_pressures_1min_median['PIP'].max() + 1)] );\n",
    "ax1.set_title('End inspiratory pressure and peak inspiratory pressure - 1 minute medians', size = 16, color = 'black')\n",
    "ax1.set_xlabel('Time (hours)', size = 14, color = 'black')\n",
    "ax1.set_ylabel('Pressure (mbar)', size = 14, color = 'black')\n",
    "ax1.grid('on', linestyle='-', linewidth=0.5, color = 'gray')\n",
    "ax1.legend(['EIP', 'PIP']);"
   ]
  },
  {
   "cell_type": "code",
   "execution_count": null,
   "metadata": {},
   "outputs": [],
   "source": [
    "fig = plt.figure()\n",
    "fig.set_size_inches(12, 8)\n",
    "fig.subplots_adjust(left=None, bottom=None, right=None, top=None,\n",
    "wspace=None, hspace=0.7)\n",
    "ax1 = fig.add_subplot(1, 1, 1);\n",
    "slow_Measurement_pressures_1min_IQR['EIP'].plot(ax = ax1, color = 'red', \n",
    "                                        ylim = [0, (slow_Measurement_pressures_1min_IQR['PIP'].max() + 1)] );\n",
    "slow_Measurement_pressures_1min_IQR['PIP'].plot(ax = ax1, color = 'green', \n",
    "                                        ylim = [0, (slow_Measurement_pressures_1min_IQR['PIP'].max() + 1)] );\n",
    "ax1.set_title('End inspiratory pressure and peak inspiratory pressure - 1 minute IQRs', size = 16, color = 'black')\n",
    "ax1.set_xlabel('Time (hours)', size = 14, color = 'black')\n",
    "ax1.set_ylabel('Pressure (mbar)', size = 14, color = 'black')\n",
    "ax1.grid('on', linestyle='-', linewidth=0.5, color = 'gray')\n",
    "ax1.legend(['EIP', 'PIP']);"
   ]
  },
  {
   "cell_type": "markdown",
   "metadata": {},
   "source": [
    "### PEEP, Pmin versus time - not resampled"
   ]
  },
  {
   "cell_type": "raw",
   "metadata": {
    "collapsed": true
   },
   "source": [
    "fig = plt.figure()\n",
    "fig.set_size_inches(12, 8)\n",
    "fig.subplots_adjust(left=None, bottom=None, right=None, top=None,\n",
    "wspace=None, hspace=0.7)\n",
    "ax1 = fig.add_subplot(1, 1, 1);\n",
    "slow_Measurement.PEEP.plot(ax = ax1, color = 'red', ylim = [0, (slow_Measurement.Pmin.max() + 5)])\n",
    "slow_Measurement.Pmin.plot(ax = ax1, color = 'green', ylim = [0, (slow_Measurement.Pmin.max() + 5)])\n",
    "ax1.set_title('Positive End Expiratory Pressure and Minimum Pressure', size = 16, color = 'black')\n",
    "ax1.set_xlabel('Time (hours)', size = 14, color = 'black')\n",
    "ax1.set_ylabel('Pressure (mbar)', size = 14, color = 'black')\n",
    "ax1.grid('on', linestyle='-', linewidth=0.5, color = 'gray')\n",
    "ax1.legend(['PEEP', 'Pmin']);"
   ]
  },
  {
   "cell_type": "markdown",
   "metadata": {},
   "source": [
    "### PEEP, Pmin medians and IQRs versus time"
   ]
  },
  {
   "cell_type": "code",
   "execution_count": null,
   "metadata": {},
   "outputs": [],
   "source": [
    "fig = plt.figure()\n",
    "fig.set_size_inches(12, 8)\n",
    "fig.subplots_adjust(left=None, bottom=None, right=None, top=None,\n",
    "wspace=None, hspace=0.7)\n",
    "ax1 = fig.add_subplot(1, 1, 1);\n",
    "slow_Measurement_pressures_1min_median['PEEP'].plot(ax = ax1, color = 'red', \n",
    "                                        ylim = [-10, (slow_Measurement_pressures_1min_median['PEEP'].max() + 3)] );\n",
    "slow_Measurement_pressures_1min_median['Pmin'].plot(ax = ax1, color = 'green', \n",
    "                                        ylim = [-10, (slow_Measurement_pressures_1min_median['PEEP'].max() + 3)] );\n",
    "ax1.set_title('Positive End Expiratory Pressure and Minimum Pressure - 1-min medians', size = 16, color = 'black')\n",
    "ax1.set_xlabel('Time (hours)', size = 14, color = 'black')\n",
    "ax1.set_ylabel('Pressure (mbar)', size = 14, color = 'black')\n",
    "ax1.grid('on', linestyle='-', linewidth=0.5, color = 'gray')\n",
    "ax1.legend(['PEEP', 'Pmin']);\n",
    "\n",
    "fig.savefig('%s/%s%s' % (dir_write, fnames2, 'PEEP_Pmin.pdf'), dpi=300, facecolor='w', edgecolor='w',\n",
    "        orientation='portrait', papertype=None, format='pdf',\n",
    "        transparent=False, bbox_inches=None, pad_inches=0.1,\n",
    "        frameon=None)"
   ]
  },
  {
   "cell_type": "code",
   "execution_count": null,
   "metadata": {},
   "outputs": [],
   "source": [
    "fig = plt.figure()\n",
    "fig.set_size_inches(12, 8)\n",
    "fig.subplots_adjust(left=None, bottom=None, right=None, top=None,\n",
    "wspace=None, hspace=0.7)\n",
    "ax1 = fig.add_subplot(1, 1, 1);\n",
    "slow_Measurement_pressures_1min_IQR['PEEP'].plot(ax = ax1, color = 'red', \n",
    "                                        ylim = [0, (slow_Measurement_pressures_1min_IQR['PEEP'].max() + 1)] );\n",
    "slow_Measurement_pressures_1min_IQR['Pmin'].plot(ax = ax1, color = 'green', \n",
    "                                        ylim = [0, (slow_Measurement_pressures_1min_IQR['PEEP'].max() + 1)] );\n",
    "ax1.set_title('Positive End Expiratory Pressure and Minimum Pressure - 1-min IQRs', size = 16, color = 'black')\n",
    "ax1.set_xlabel('Time (hours)', size = 14, color = 'black')\n",
    "ax1.set_ylabel('Pressure (mbar)', size = 14, color = 'black')\n",
    "ax1.grid('on', linestyle='-', linewidth=0.5, color = 'gray')\n",
    "ax1.legend(['PEEP', 'Pmin']);"
   ]
  },
  {
   "cell_type": "markdown",
   "metadata": {},
   "source": [
    "### Tidal Volumes"
   ]
  },
  {
   "cell_type": "markdown",
   "metadata": {},
   "source": [
    "### Boxplot of the medians and IQRs"
   ]
  },
  {
   "cell_type": "code",
   "execution_count": null,
   "metadata": {},
   "outputs": [],
   "source": [
    "fig = plt.figure()\n",
    "fig.set_size_inches(12, 35)\n",
    "fig.suptitle('Boxplots of 1-minute medians \\n\\n Tidal Volumes', color = 'black', size = 22, weight = 'bold')\n",
    "fig.subplots_adjust(left=None, bottom=None, right=None, top=None,\n",
    "wspace=0.3, hspace=0.3)\n",
    "for i, column in enumerate(slow_Measurement_VT_1min_median.columns):\n",
    "    ax = fig.add_subplot(8, 3, i+1)\n",
    "    ax.boxplot(slow_Measurement_VT_1min_median[column], )\n",
    "    ax.set_title(column, size = 16, color = 'black')\n",
    "    ax.set_xlabel('values', size = 14, color = 'black')\n",
    "    ax.set_ylabel('number', size = 14, color = 'black');\n",
    "    \n",
    "fig.savefig('%s/%s%s' % (dir_write, fnames2, 'boxplot_VT_1min_medians.pdf'), dpi=100, facecolor='w', edgecolor='w',\n",
    "        orientation='portrait', papertype=None, format='pdf',\n",
    "        transparent=False, bbox_inches=None, pad_inches=0.1,\n",
    "        frameon=None)"
   ]
  },
  {
   "cell_type": "code",
   "execution_count": null,
   "metadata": {},
   "outputs": [],
   "source": [
    "fig = plt.figure()\n",
    "fig.set_size_inches(12, 35)\n",
    "fig.suptitle('Boxplots of 1-minute IQRs \\n\\n Tidal Volumes', color = 'black', size = 22, weight = 'bold')\n",
    "fig.subplots_adjust(left=None, bottom=None, right=None, top=None,\n",
    "wspace=0.3, hspace=0.3)\n",
    "for i, column in enumerate(slow_Measurement_VT_1min_IQR.columns):\n",
    "    ax = fig.add_subplot(8, 3, i+1)\n",
    "    ax.boxplot(slow_Measurement_VT_1min_IQR[column], )\n",
    "    ax.set_title(column, size = 16, color = 'black')\n",
    "    ax.set_xlabel('values', size = 14, color = 'black')\n",
    "    ax.set_ylabel('number', size = 14, color = 'black');\n",
    "    \n",
    "fig.savefig('%s/%s%s' % (dir_write, fnames2, 'boxplot_VT_1min_IQRs.pdf'), dpi=100, facecolor='w', edgecolor='w',\n",
    "        orientation='portrait', papertype=None, format='pdf',\n",
    "        transparent=False, bbox_inches=None, pad_inches=0.1,\n",
    "        frameon=None)"
   ]
  },
  {
   "cell_type": "markdown",
   "metadata": {},
   "source": [
    "### Inspiratory and expiratory tidal volumes"
   ]
  },
  {
   "cell_type": "markdown",
   "metadata": {},
   "source": [
    "###### *VT* is leakage compensated, VTi and VTe are not leakage compensated"
   ]
  },
  {
   "cell_type": "markdown",
   "metadata": {},
   "source": [
    "#### not resampled"
   ]
  },
  {
   "cell_type": "raw",
   "metadata": {
    "collapsed": true
   },
   "source": [
    "fig = plt.figure()\n",
    "fig.set_size_inches(12, 8)\n",
    "fig.subplots_adjust(left=None, bottom=None, right=None, top=None,\n",
    "wspace=None, hspace=0.7)\n",
    "ax1 = fig.add_subplot(1, 1, 1);\n",
    "slow_Measurement.VT_kg.plot(ax = ax1, color = 'blue', ylim = [0, (slow_Measurement.VT_kg.max() + 5)])\n",
    "slow_Measurement.VTi_kg.plot(ax = ax1, color = 'red', ylim = [0, (slow_Measurement.VTi_kg.max() + 5)],)\n",
    "slow_Measurement.VTe_kg.plot(ax = ax1, color = 'green', ylim = [0, (slow_Measurement.VTe_kg.max() + 5)],)\n",
    "ax1.set_title('Tidal Volumes', size = 16, color = 'black')\n",
    "ax1.set_xlabel('Time (hours)', size = 14, color = 'black')\n",
    "ax1.set_ylabel('Volume (mL/kg)', size = 14, color = 'black')\n",
    "ax1.grid('on', linestyle='-', linewidth=0.5, color = 'gray')\n",
    "ax1.legend(['VT', 'VTi', 'VTe' ]);"
   ]
  },
  {
   "cell_type": "markdown",
   "metadata": {},
   "source": [
    "#### 1-minute medians"
   ]
  },
  {
   "cell_type": "code",
   "execution_count": null,
   "metadata": {},
   "outputs": [],
   "source": [
    "fig = plt.figure()\n",
    "fig.set_size_inches(12, 8)\n",
    "fig.subplots_adjust(left=None, bottom=None, right=None, top=None,\n",
    "wspace=None, hspace=0.7)\n",
    "ax1 = fig.add_subplot(1, 1, 1);\n",
    "slow_Measurement_VT_1min_median['VT_kg'].plot(ax = ax1, color = 'blue', ylim = [0, (slow_Measurement_VT_1min_median['VTi_kg'].max() + 5)])\n",
    "slow_Measurement_VT_1min_median['VTi_kg'].plot(ax = ax1, color = 'red', ylim = [0, (slow_Measurement_VT_1min_median['VTi_kg'].max() + 5)],)\n",
    "slow_Measurement_VT_1min_median['VTe_kg'].plot(ax = ax1, color = 'green', ylim = [0, (slow_Measurement_VT_1min_median['VTi_kg'].max() + 5)],)\n",
    "ax1.set_title('Tidal Volumes - 1-minute medians', size = 16, color = 'black')\n",
    "ax1.set_xlabel('Time (hours)', size = 14, color = 'black')\n",
    "ax1.set_ylabel('Volume (mL/kg)', size = 14, color = 'black')\n",
    "ax1.grid('on', linestyle='-', linewidth=0.5, color = 'gray')\n",
    "ax1.legend(['VT', 'VTi', 'VTe' ]);"
   ]
  },
  {
   "cell_type": "markdown",
   "metadata": {},
   "source": [
    "##### 1-min IQRs"
   ]
  },
  {
   "cell_type": "code",
   "execution_count": null,
   "metadata": {},
   "outputs": [],
   "source": [
    "fig = plt.figure()\n",
    "fig.set_size_inches(12, 8)\n",
    "fig.subplots_adjust(left=None, bottom=None, right=None, top=None,\n",
    "wspace=None, hspace=0.7)\n",
    "ax1 = fig.add_subplot(1, 1, 1);\n",
    "slow_Measurement_VT_1min_IQR['VT_kg'].plot(ax = ax1, color = 'blue', ylim = [0, (slow_Measurement_VT_1min_IQR['VTi_kg'].max() + 5)])\n",
    "slow_Measurement_VT_1min_IQR['VTi_kg'].plot(ax = ax1, color = 'red', ylim = [0, (slow_Measurement_VT_1min_IQR['VTi_kg'].max() + 5)],)\n",
    "slow_Measurement_VT_1min_IQR['VTe_kg'].plot(ax = ax1, color = 'green', ylim = [0, (slow_Measurement_VT_1min_IQR['VTi_kg'].max() + 5)],)\n",
    "ax1.set_title('Tidal Volumes - 1 minute IQRs', size = 16, color = 'black')\n",
    "ax1.set_xlabel('Time (hours)', size = 14, color = 'black')\n",
    "ax1.set_ylabel('Volume (mL/kg)', size = 14, color = 'black')\n",
    "ax1.grid('on', linestyle='-', linewidth=0.5, color = 'gray')\n",
    "ax1.legend(['VT', 'VTi', 'VTe' ]);"
   ]
  },
  {
   "cell_type": "markdown",
   "metadata": {},
   "source": [
    "### Mandatory (supported) and spontaneous tidal volumes "
   ]
  },
  {
   "cell_type": "markdown",
   "metadata": {},
   "source": [
    "###### Both these are leak-corrected"
   ]
  },
  {
   "cell_type": "markdown",
   "metadata": {
    "collapsed": true
   },
   "source": [
    "#### not resampled"
   ]
  },
  {
   "cell_type": "raw",
   "metadata": {
    "collapsed": true
   },
   "source": [
    "fig = plt.figure()\n",
    "fig.set_size_inches(12, 8)\n",
    "fig.subplots_adjust(left=None, bottom=None, right=None, top=None,\n",
    "wspace=None, hspace=0.7)\n",
    "ax1 = fig.add_subplot(1, 1, 1);\n",
    "slow_Measurement.VTmand_kg.plot(ax = ax1, color = 'red', ylim = [0, (slow_Measurement.VTmand_kg.max() * 1.2)])\n",
    "slow_Measurement.VTspon_kg.plot(ax = ax1, color = 'green', ylim = [0, (slow_Measurement.VTmand_kg.max() * 1.2)])\n",
    "ax1.set_title('Tidal Volume - 1 minute averages', size = 16, color = 'black')\n",
    "ax1.set_xlabel('Time (hours)', size = 14, color = 'black')\n",
    "ax1.set_ylabel('Volume (mL/kg)', size = 14, color = 'black')\n",
    "ax1.grid('on', linestyle='-', linewidth=0.5, color = 'gray')\n",
    "ax1.legend(['Mandatory VT', 'Spontaneous VT', ]);"
   ]
  },
  {
   "cell_type": "markdown",
   "metadata": {},
   "source": [
    "#### 1-min medians"
   ]
  },
  {
   "cell_type": "code",
   "execution_count": null,
   "metadata": {},
   "outputs": [],
   "source": [
    "fig = plt.figure()\n",
    "fig.set_size_inches(12, 8)\n",
    "fig.subplots_adjust(left=None, bottom=None, right=None, top=None,\n",
    "wspace=None, hspace=0.7)\n",
    "ax1 = fig.add_subplot(1, 1, 1);\n",
    "slow_Measurement_VT_1min_median.VTmand_kg.plot(ax = ax1, color = 'red', ylim = [0, (slow_Measurement_VT_1min_median.VTmand_kg.max() * 1.2)])\n",
    "slow_Measurement_VT_1min_median.VTspon_kg.plot(ax = ax1, color = 'green', ylim = [0, (slow_Measurement_VT_1min_median.VTmand_kg.max() * 1.2)],)\n",
    "ax1.set_title('Tidal Volume - 1 minute medians', size = 16, color = 'black')\n",
    "ax1.set_xlabel('Time (hours)', size = 14, color = 'black')\n",
    "ax1.set_ylabel('Volume (mL/kg)', size = 14, color = 'black')\n",
    "ax1.grid('on', linestyle='-', linewidth=0.5, color = 'gray')\n",
    "ax1.legend(['VT_mand', 'VT_spon', ]);"
   ]
  },
  {
   "cell_type": "markdown",
   "metadata": {},
   "source": [
    "#### 1-min IQRs"
   ]
  },
  {
   "cell_type": "code",
   "execution_count": null,
   "metadata": {},
   "outputs": [],
   "source": [
    "fig = plt.figure()\n",
    "fig.set_size_inches(12, 8)\n",
    "fig.subplots_adjust(left=None, bottom=None, right=None, top=None,\n",
    "wspace=None, hspace=0.7)\n",
    "ax1 = fig.add_subplot(1, 1, 1);\n",
    "slow_Measurement_VT_1min_IQR.VTmand_kg.plot(ax = ax1, color = 'red', ylim = [0, (slow_Measurement_VT_1min_IQR.VTmand_kg.max() * 1.2)])\n",
    "slow_Measurement_VT_1min_IQR.VTspon_kg.plot(ax = ax1, color = 'green', ylim = [0, (slow_Measurement_VT_1min_IQR.VTmand_kg.max() * 1.2)],)\n",
    "ax1.set_title('Tidal Volume - 1 minute IQRs', size = 16, color = 'black')\n",
    "ax1.set_xlabel('Time (hours)', size = 14, color = 'black')\n",
    "ax1.set_ylabel('Volume (mL/kg)', size = 14, color = 'black')\n",
    "ax1.grid('on', linestyle='-', linewidth=0.5, color = 'gray')\n",
    "ax1.legend(['VT_mand', 'VT_spon', ]);"
   ]
  },
  {
   "cell_type": "markdown",
   "metadata": {},
   "source": [
    "###  Inspiratory and expiratory tidal volumes"
   ]
  },
  {
   "cell_type": "markdown",
   "metadata": {},
   "source": [
    "### inspiratory"
   ]
  },
  {
   "cell_type": "markdown",
   "metadata": {},
   "source": [
    "##### VTimand and VTispon are not leak corrected"
   ]
  },
  {
   "cell_type": "markdown",
   "metadata": {},
   "source": [
    "##### not resampled"
   ]
  },
  {
   "cell_type": "raw",
   "metadata": {
    "collapsed": true
   },
   "source": [
    "fig = plt.figure()\n",
    "fig.set_size_inches(12, 8)\n",
    "fig.subplots_adjust(left=None, bottom=None, right=None, top=None,\n",
    "wspace=None, hspace=0.7)\n",
    "ax1 = fig.add_subplot(1, 1, 1);\n",
    "slow_Measurement.VTimand_kg.plot(ax = ax1, color = 'red', ylim = [0, (slow_Measurement.VTimand_kg.max() * 1.2)])\n",
    "slow_Measurement.VTispon_kg.plot(ax = ax1, color = 'green', ylim = [0, (slow_Measurement.VTimand_kg.max() * 1.2)], )\n",
    "ax1.set_title('Inspiratory Tidal Volumes ', size = 16, color = 'black')\n",
    "ax1.set_xlabel('Time (hours)', size = 14, color = 'black')\n",
    "ax1.set_ylabel('Volume (mL/kg)', size = 14, color = 'black')\n",
    "ax1.grid('on', linestyle='-', linewidth=0.5, color = 'gray')\n",
    "ax1.legend(['VTimand', 'VTispon', ]);"
   ]
  },
  {
   "cell_type": "raw",
   "metadata": {
    "collapsed": true
   },
   "source": [
    "fig = plt.figure()\n",
    "fig.set_size_inches(12, 8)\n",
    "fig.subplots_adjust(left=None, bottom=None, right=None, top=None,\n",
    "wspace=None, hspace=0.7)\n",
    "ax1 = fig.add_subplot(1, 1, 1);\n",
    "slow_Measurement.VTimand_kg.plot(ax = ax1, color = 'red', ylim = [0, (slow_Measurement.VTispon_kg.max() * 10)])\n",
    "slow_Measurement.VTispon_kg.plot(ax = ax1, color = 'green', ylim = [0, (slow_Measurement.VTispon_kg.max() * 10)], )\n",
    "ax1.set_title('Inspiratory Tidal Volumes ', size = 16, color = 'black')\n",
    "ax1.set_xlabel('Time (hours)', size = 14, color = 'black')\n",
    "ax1.set_ylabel('Volume (mL/kg)', size = 14, color = 'black')\n",
    "ax1.grid('on', linestyle='-', linewidth=0.5, color = 'gray')\n",
    "ax1.legend(['VTimand', 'VTispon', ]);"
   ]
  },
  {
   "cell_type": "markdown",
   "metadata": {},
   "source": [
    "##### 1-min medians"
   ]
  },
  {
   "cell_type": "code",
   "execution_count": null,
   "metadata": {},
   "outputs": [],
   "source": [
    "fig = plt.figure()\n",
    "fig.set_size_inches(12, 8)\n",
    "fig.subplots_adjust(left=None, bottom=None, right=None, top=None,\n",
    "wspace=None, hspace=0.7)\n",
    "ax1 = fig.add_subplot(1, 1, 1);\n",
    "slow_Measurement_VT_1min_median.VTimand_kg.plot(ax = ax1, color = 'red', ylim = [0, (slow_Measurement_VT_1min_median.VTimand_kg.max() * 1.2)])\n",
    "slow_Measurement_VT_1min_median.VTispon_kg.plot(ax = ax1, color = 'green', ylim = [0, (slow_Measurement_VT_1min_median.VTimand_kg.max() * 1.2)], )\n",
    "ax1.set_title('Inspiratory Tidal Volumes - 1 minute medians', size = 16, color = 'black')\n",
    "ax1.set_xlabel('Time (hours)', size = 14, color = 'black')\n",
    "ax1.set_ylabel('Volume (mL/kg)', size = 14, color = 'black')\n",
    "ax1.grid('on', linestyle='-', linewidth=0.5, color = 'gray')\n",
    "ax1.legend(['VTimand', 'VTispon', ]);"
   ]
  },
  {
   "cell_type": "markdown",
   "metadata": {},
   "source": [
    "##### 1-min IQRs"
   ]
  },
  {
   "cell_type": "code",
   "execution_count": null,
   "metadata": {},
   "outputs": [],
   "source": [
    "fig = plt.figure()\n",
    "fig.set_size_inches(12, 8)\n",
    "fig.subplots_adjust(left=None, bottom=None, right=None, top=None,\n",
    "wspace=None, hspace=0.7)\n",
    "ax1 = fig.add_subplot(1, 1, 1);\n",
    "slow_Measurement_VT_1min_IQR.VTimand_kg.plot(ax = ax1, color = 'red', ylim = [0, (slow_Measurement_VT_1min_IQR.VTimand_kg.max() * 0.2)])\n",
    "slow_Measurement_VT_1min_IQR.VTispon_kg.plot(ax = ax1, color = 'green', ylim = [0, (slow_Measurement_VT_1min_IQR.VTimand_kg.max() * 0.2)], )\n",
    "ax1.set_title('Inspiratory Tidal Volumes - 1-min IQRs', size = 16, color = 'black')\n",
    "ax1.set_xlabel('Time (hours)', size = 14, color = 'black')\n",
    "ax1.set_ylabel('Volume (mL/kg)', size = 14, color = 'black')\n",
    "ax1.grid('on', linestyle='-', linewidth=0.5, color = 'gray')\n",
    "ax1.legend(['VTimand', 'VTispon', ]);"
   ]
  },
  {
   "cell_type": "markdown",
   "metadata": {},
   "source": [
    "### expiratory"
   ]
  },
  {
   "cell_type": "markdown",
   "metadata": {},
   "source": [
    "##### VTemand and VTiespon are not leak corrected"
   ]
  },
  {
   "cell_type": "markdown",
   "metadata": {},
   "source": [
    "##### not resampled"
   ]
  },
  {
   "cell_type": "raw",
   "metadata": {
    "collapsed": true
   },
   "source": [
    "fig = plt.figure()\n",
    "fig.set_size_inches(12, 8)\n",
    "fig.subplots_adjust(left=None, bottom=None, right=None, top=None,\n",
    "wspace=None, hspace=0.7)\n",
    "ax1 = fig.add_subplot(1, 1, 1);\n",
    "slow_Measurement.VTemand_kg.plot(ax = ax1, color = 'red', ylim = [0, (slow_Measurement.VTemand_kg.max() * 1.2)])\n",
    "slow_Measurement.VTespon_kg.plot(ax = ax1, color = 'green', ylim = [0, (slow_Measurement.VTemand_kg.max() * 1.2)], )\n",
    "ax1.set_title('Expiratory Tidal Volumes', size = 16, color = 'black')\n",
    "ax1.set_xlabel('Time (hours)', size = 14, color = 'black')\n",
    "ax1.set_ylabel('Volume (mL/kg)', size = 14, color = 'black')\n",
    "ax1.grid('on', linestyle='-', linewidth=0.5, color = 'gray')\n",
    "ax1.legend(['VTemand', 'VTespon', ]);"
   ]
  },
  {
   "cell_type": "markdown",
   "metadata": {},
   "source": [
    "##### 1-min medians"
   ]
  },
  {
   "cell_type": "code",
   "execution_count": null,
   "metadata": {},
   "outputs": [],
   "source": [
    "fig = plt.figure()\n",
    "fig.set_size_inches(12, 8)\n",
    "fig.subplots_adjust(left=None, bottom=None, right=None, top=None,\n",
    "wspace=None, hspace=0.7)\n",
    "ax1 = fig.add_subplot(1, 1, 1);\n",
    "slow_Measurement_VT_1min_median.VTemand_kg.plot(ax = ax1, color = 'red', ylim = [0, (slow_Measurement_VT_1min_median.VTespon_kg.max() * 1.2)])\n",
    "slow_Measurement_VT_1min_median.VTespon_kg.plot(ax = ax1, color = 'green', ylim = [0, (slow_Measurement_VT_1min_median.VTespon_kg.max() * 1.2)], )\n",
    "ax1.set_title('Mandatory and Spontaneous Expiratory Tidal Volumes', size = 16, color = 'black')\n",
    "ax1.set_xlabel('Time (hours)', size = 14, color = 'black')\n",
    "ax1.set_ylabel('Volume (mL/kg)', size = 14, color = 'black')\n",
    "ax1.grid('on', linestyle='-', linewidth=0.5, color = 'gray')\n",
    "ax1.legend(['VTemand', 'VTespon', ]);\n",
    "\n",
    "fig.savefig('%s/%s%s' % (dir_write, fnames2, 'VT_emand_espon.pdf'), dpi=300, facecolor='w', edgecolor='w',\n",
    "        orientation='portrait', papertype=None, format='pdf',\n",
    "        transparent=False, bbox_inches=None, pad_inches=0.1,\n",
    "        frameon=None)"
   ]
  },
  {
   "cell_type": "markdown",
   "metadata": {},
   "source": [
    "##### 1-min IQRs "
   ]
  },
  {
   "cell_type": "code",
   "execution_count": null,
   "metadata": {},
   "outputs": [],
   "source": [
    "fig = plt.figure()\n",
    "fig.set_size_inches(12, 8)\n",
    "fig.subplots_adjust(left=None, bottom=None, right=None, top=None,\n",
    "wspace=None, hspace=0.7)\n",
    "ax1 = fig.add_subplot(1, 1, 1);\n",
    "slow_Measurement_VT_1min_IQR.VTemand_kg.plot(ax = ax1, color = 'red', ylim = [0, (slow_Measurement_VT_1min_IQR.VTemand_kg.max() * 1.2)])\n",
    "slow_Measurement_VT_1min_IQR.VTespon_kg.plot(ax = ax1, color = 'green', ylim = [0, (slow_Measurement_VT_1min_IQR.VTemand_kg.max() * 1.2)], )\n",
    "ax1.set_title('Expiratory Tidal Volumes - 1 minute IQRs', size = 16, color = 'black')\n",
    "ax1.set_xlabel('Time (hours)', size = 14, color = 'black')\n",
    "ax1.set_ylabel('Volume (mL/kg)', size = 14, color = 'black')\n",
    "ax1.grid('on', linestyle='-', linewidth=0.5, color = 'gray')\n",
    "ax1.legend(['VTemand', 'VTespon', ]);"
   ]
  },
  {
   "cell_type": "markdown",
   "metadata": {},
   "source": [
    "### Mandatory tidal volumes"
   ]
  },
  {
   "cell_type": "markdown",
   "metadata": {},
   "source": [
    "##### VTmand is leak-corrected, VTimand and VTemand are not leak-corrected"
   ]
  },
  {
   "cell_type": "markdown",
   "metadata": {},
   "source": [
    "##### not resampled"
   ]
  },
  {
   "cell_type": "raw",
   "metadata": {
    "collapsed": true
   },
   "source": [
    "fig = plt.figure()\n",
    "fig.set_size_inches(12, 8)\n",
    "fig.subplots_adjust(left=None, bottom=None, right=None, top=None,\n",
    "wspace=None, hspace=0.7)\n",
    "ax1 = fig.add_subplot(1, 1, 1);\n",
    "slow_Measurement.VTimand_kg.plot(ax = ax1, color = 'red', ylim = [0, (slow_Measurement.VTimand_kg.max() * 1.2)])\n",
    "slow_Measurement.VTmand_kg.plot(ax = ax1, color = 'blue', ylim = [0, (slow_Measurement.VTmand_kg.max() * 1.2)])\n",
    "slow_Measurement.VTemand_kg.plot(ax = ax1, color = 'green', ylim = [0, (slow_Measurement.VTemand_kg.max() * 1.2)], )\n",
    "ax1.set_title('Mandatory Tidal Volumes ', size = 16, color = 'black')\n",
    "ax1.set_xlabel('Time (hours)', size = 14, color = 'black')\n",
    "ax1.set_ylabel('Volume (mL/kg)', size = 14, color = 'black')\n",
    "ax1.grid('on', linestyle='-', linewidth=0.5, color = 'gray')\n",
    "ax1.legend(['VTimand', 'VTmand', 'VTemand', ]);"
   ]
  },
  {
   "cell_type": "markdown",
   "metadata": {},
   "source": [
    "##### 1-min medians"
   ]
  },
  {
   "cell_type": "code",
   "execution_count": null,
   "metadata": {},
   "outputs": [],
   "source": [
    "fig = plt.figure()\n",
    "fig.set_size_inches(12, 8)\n",
    "fig.subplots_adjust(left=None, bottom=None, right=None, top=None,\n",
    "wspace=None, hspace=0.7)\n",
    "ax1 = fig.add_subplot(1, 1, 1);\n",
    "slow_Measurement_VT_1min_median.VTimand_kg.plot(ax = ax1, color = 'red', ylim = [0, (slow_Measurement_VT_1min_median.VTimand_kg.max() * 1.2)])\n",
    "slow_Measurement_VT_1min_median.VTmand_kg.plot(ax = ax1, color = 'blue', ylim = [0, (slow_Measurement_VT_1min_median.VTimand_kg.max() * 1.2)])\n",
    "slow_Measurement_VT_1min_median.VTemand_kg.plot(ax = ax1, color = 'green', ylim = [0, (slow_Measurement_VT_1min_median.VTimand_kg.max() * 1.2)], )\n",
    "ax1.set_title('Mandatory Tidal Volumes - 1 minute medians', size = 16, color = 'black')\n",
    "ax1.set_xlabel('Time (hours)', size = 14, color = 'black')\n",
    "ax1.set_ylabel('Volume (mL/kg)', size = 14, color = 'black')\n",
    "ax1.grid('on', linestyle='-', linewidth=0.5, color = 'gray')\n",
    "ax1.legend(['VTimand', 'VTmand', 'VTemand', ]);"
   ]
  },
  {
   "cell_type": "code",
   "execution_count": null,
   "metadata": {},
   "outputs": [],
   "source": [
    "fig = plt.figure()\n",
    "fig.set_size_inches(12, 8)\n",
    "fig.subplots_adjust(left=None, bottom=None, right=None, top=None,\n",
    "wspace=None, hspace=0.7)\n",
    "ax1 = fig.add_subplot(1, 1, 1);\n",
    "slow_Measurement_VT_1min_median.VTimand_kg.plot(ax = ax1, color = 'red', ylim = [0, (slow_Measurement_VT_1min_median.VTimand_kg.max() * 1.2)])\n",
    "slow_Measurement_VT_1min_median.VTemand_kg.plot(ax = ax1, color = 'green', ylim = [0, (slow_Measurement_VT_1min_median.VTimand_kg.max() * 1.2)], )\n",
    "ax1.set_title('Mandatory Inspiratory and Expiratory Tidal Volumes', size = 16, color = 'black')\n",
    "ax1.set_xlabel('Time (hours)', size = 14, color = 'black')\n",
    "ax1.set_ylabel('Volume (mL/kg)', size = 14, color = 'black')\n",
    "ax1.grid('on', linestyle='-', linewidth=0.5, color = 'gray')\n",
    "ax1.legend(['VTimand', 'VTemand', ]);\n",
    "\n",
    "fig.savefig('%s/%s%s' % (dir_write, fnames2, 'VT_imand_emand.pdf'), dpi=300, facecolor='w', edgecolor='w',\n",
    "        orientation='portrait', papertype=None, format='pdf',\n",
    "        transparent=False, bbox_inches=None, pad_inches=0.1,\n",
    "        frameon=None)"
   ]
  },
  {
   "cell_type": "markdown",
   "metadata": {},
   "source": [
    "##### 1-min IQRs"
   ]
  },
  {
   "cell_type": "code",
   "execution_count": null,
   "metadata": {},
   "outputs": [],
   "source": [
    "fig = plt.figure()\n",
    "fig.set_size_inches(12, 8)\n",
    "fig.subplots_adjust(left=None, bottom=None, right=None, top=None,\n",
    "wspace=None, hspace=0.7)\n",
    "ax1 = fig.add_subplot(1, 1, 1);\n",
    "slow_Measurement_VT_1min_IQR.VTimand_kg.plot(ax = ax1, color = 'red', ylim = [0, (slow_Measurement_VT_1min_IQR.VTimand_kg.max() * 1.2)])\n",
    "slow_Measurement_VT_1min_IQR.VTmand_kg.plot(ax = ax1, color = 'blue', ylim = [0, (slow_Measurement_VT_1min_IQR.VTmand_kg.max() * 1.2)])\n",
    "slow_Measurement_VT_1min_IQR.VTemand_kg.plot(ax = ax1, color = 'green', ylim = [0, (slow_Measurement_VT_1min_IQR.VTemand_kg.max() * 1.2)], )\n",
    "ax1.set_title('Mandatory Tidal Volumes - 1 minute IQRs', size = 16, color = 'black')\n",
    "ax1.set_xlabel('Time (hours)', size = 14, color = 'black')\n",
    "ax1.set_ylabel('Volume (mL/kg)', size = 14, color = 'black')\n",
    "ax1.grid('on', linestyle='-', linewidth=0.5, color = 'gray')\n",
    "ax1.legend(['VTimand', 'VTmand', 'VTemand', ]);"
   ]
  },
  {
   "cell_type": "markdown",
   "metadata": {},
   "source": [
    "### Spontaneous tidal volumes"
   ]
  },
  {
   "cell_type": "markdown",
   "metadata": {},
   "source": [
    "##### VTspon is leak-corrected, VTispon and VTesponare not leak-corrected"
   ]
  },
  {
   "cell_type": "markdown",
   "metadata": {},
   "source": [
    "#### not resampled"
   ]
  },
  {
   "cell_type": "raw",
   "metadata": {
    "collapsed": true
   },
   "source": [
    "fig = plt.figure()\n",
    "fig.set_size_inches(12, 8)\n",
    "fig.subplots_adjust(left=None, bottom=None, right=None, top=None,\n",
    "wspace=None, hspace=0.7)\n",
    "ax1 = fig.add_subplot(1, 1, 1);\n",
    "slow_Measurement.VTispon_kg.plot(ax = ax1, color = 'red', ylim = [0, (slow_Measurement.VTispon_kg.max() * 1.2)])\n",
    "slow_Measurement.VTspon_kg.plot(ax = ax1, color = 'blue', ylim = [0, (slow_Measurement.VTispon_kg.max() * 1.2)])\n",
    "slow_Measurement.VTespon_kg.plot(ax = ax1, color = 'green', ylim = [0, (slow_Measurement.VTispon_kg.max() * 1.2)], )\n",
    "ax1.set_title('Spontaneous Tidal Volumes ', size = 16, color = 'black')\n",
    "ax1.set_xlabel('Time (hours)', size = 14, color = 'black')\n",
    "ax1.set_ylabel('Volume (mL/kg)', size = 14, color = 'black')\n",
    "ax1.grid('on', linestyle='-', linewidth=0.5, color = 'gray')\n",
    "ax1.legend(['VTispon', 'VTspon', 'VTespon', ]);"
   ]
  },
  {
   "cell_type": "markdown",
   "metadata": {},
   "source": [
    "#### 1-min medians"
   ]
  },
  {
   "cell_type": "code",
   "execution_count": null,
   "metadata": {},
   "outputs": [],
   "source": [
    "fig = plt.figure()\n",
    "fig.set_size_inches(12, 8)\n",
    "fig.subplots_adjust(left=None, bottom=None, right=None, top=None,\n",
    "wspace=None, hspace=0.7)\n",
    "ax1 = fig.add_subplot(1, 1, 1);\n",
    "slow_Measurement_VT_1min_median.VTispon_kg.plot(ax = ax1, color = 'red', ylim = [0, (slow_Measurement_VT_1min_median.VTispon_kg.max() * 1.2)])\n",
    "slow_Measurement_VT_1min_median.VTspon_kg.plot(ax = ax1, color = 'blue', ylim = [0, (slow_Measurement_VT_1min_median.VTispon_kg.max() * 1.2)])\n",
    "slow_Measurement_VT_1min_median.VTespon_kg.plot(ax = ax1, color = 'green', ylim = [0, (slow_Measurement_VT_1min_median.VTispon_kg.max() * 1.2)], )\n",
    "ax1.set_title('Spontaneous Tidal Volumes - 1 minute medians', size = 16, color = 'black')\n",
    "ax1.set_xlabel('Time (hours)', size = 14, color = 'black')\n",
    "ax1.set_ylabel('Volume (mL/kg)', size = 14, color = 'black')\n",
    "ax1.grid('on', linestyle='-', linewidth=0.5, color = 'gray')\n",
    "ax1.legend(['VTispon', 'VTspon', 'VTespon', ]);"
   ]
  },
  {
   "cell_type": "markdown",
   "metadata": {},
   "source": [
    "##### 1-min IQRs"
   ]
  },
  {
   "cell_type": "code",
   "execution_count": null,
   "metadata": {},
   "outputs": [],
   "source": [
    "fig = plt.figure()\n",
    "fig.set_size_inches(12, 8)\n",
    "fig.subplots_adjust(left=None, bottom=None, right=None, top=None,\n",
    "wspace=None, hspace=0.7)\n",
    "ax1 = fig.add_subplot(1, 1, 1);\n",
    "slow_Measurement_VT_1min_IQR.VTispon_kg.plot(ax = ax1, color = 'red', ylim = [0, (slow_Measurement_VT_1min_IQR.VTispon_kg.max() * 1.2)])\n",
    "slow_Measurement_VT_1min_IQR.VTspon_kg.plot(ax = ax1, color = 'blue', ylim = [0, (slow_Measurement_VT_1min_IQR.VTispon_kg.max() * 1.2)])\n",
    "slow_Measurement_VT_1min_IQR.VTespon_kg.plot(ax = ax1, color = 'green', ylim = [0, (slow_Measurement_VT_1min_IQR.VTispon_kg.max() * 1.2)], )\n",
    "ax1.set_title('Spontaneous Tidal Volumes - 1 minute IQRs', size = 16, color = 'black')\n",
    "ax1.set_xlabel('Time (hours)', size = 14, color = 'black')\n",
    "ax1.set_ylabel('Volume (mL/kg)', size = 14, color = 'black')\n",
    "ax1.grid('on', linestyle='-', linewidth=0.5, color = 'gray')\n",
    "ax1.legend(['VTispon', 'VTspon', 'VTespon', ]);"
   ]
  },
  {
   "cell_type": "markdown",
   "metadata": {},
   "source": [
    "## Minute Volumes"
   ]
  },
  {
   "cell_type": "markdown",
   "metadata": {},
   "source": [
    "### 1/sec data, no resampling"
   ]
  },
  {
   "cell_type": "raw",
   "metadata": {
    "collapsed": true
   },
   "source": [
    "fig = plt.figure()\n",
    "fig.set_size_inches(12, 8)\n",
    "fig.subplots_adjust(left=None, bottom=None, right=None, top=None, wspace=None, hspace=0.7)\n",
    "ax1 = fig.add_subplot(1, 1, 1);\n",
    "slow_Measurement.MV_kg.plot(ax = ax1, color = 'blue', ylim = [0, (slow_Measurement.MV_kg.max() * 1.2)])\n",
    "slow_Measurement.MVemand_kg.plot(ax = ax1, color = 'red', ylim = [0, (slow_Measurement.MVemand_kg.max() * 1.2)]) \n",
    "slow_Measurement.MVespon_kg.plot(ax = ax1, color = 'green', ylim = [0, (slow_Measurement.MVespon_kg.max() * 1.2)])\n",
    "ax1.set_title('Mandatory and Spontaneous Expiratory Minute Volume', size = 16, color = 'black')\n",
    "ax1.set_xlabel('Time (hours)', size = 14, color = 'black')\n",
    "ax1.set_ylabel('Minute Volume (L/min/kg)', size = 14, color = 'black')\n",
    "ax1.grid('on', linestyle='-', linewidth=0.5, color = 'gray')\n",
    "ax1.legend(['MV', 'MVemand', 'MVespon' ]);"
   ]
  },
  {
   "cell_type": "raw",
   "metadata": {
    "collapsed": true
   },
   "source": [
    "fig = plt.figure()\n",
    "fig.set_size_inches(12, 8)\n",
    "fig.subplots_adjust(left=None, bottom=None, right=None, top=None,\n",
    "wspace=None, hspace=0.7)\n",
    "ax1 = fig.add_subplot(1, 1, 1);\n",
    "slow_Measurement.MV_kg.plot(ax = ax1, color = 'blue', ylim = [0, (slow_Measurement.MVi_kg.max() * 1.2)])\n",
    "slow_Measurement.MVi_kg.plot(ax = ax1, color = 'red', ylim = [0, (slow_Measurement.MVi_kg.max() * 1.2)])\n",
    "slow_Measurement.MVe_kg.plot(ax = ax1, color = 'green', ylim = [0, (slow_Measurement.MVi_kg.max() * 1.2)])\n",
    "ax1.set_title('Inspiratory and Expiratory Minute Volume', size = 16, color = 'black')\n",
    "ax1.set_xlabel('Time (hours)', size = 14, color = 'black')\n",
    "ax1.set_ylabel(' Minute Volume (L/min/kg)', size = 14, color = 'black')\n",
    "ax1.grid('on', linestyle='-', linewidth=0.5, color = 'gray')\n",
    "ax1.legend(['MV', 'MVi', 'MVe', ]);"
   ]
  },
  {
   "cell_type": "raw",
   "metadata": {
    "collapsed": true
   },
   "source": [
    "fig = plt.figure()\n",
    "fig.set_size_inches(12, 8)\n",
    "fig.subplots_adjust(left=None, bottom=None, right=None, top=None,\n",
    "wspace=None, hspace=0.7)\n",
    "ax1 = fig.add_subplot(1, 1, 1);\n",
    "slow_Measurement.MVspon_pc.plot(ax = ax1, color = 'blue', \n",
    "                                     ylim = [0, (slow_Measurement.MVspon_pc.max() * 1.2)])\n",
    "ax1.set_title('Percentage of spontaneous minute volume', size = 16, color = 'black')\n",
    "ax1.set_xlabel('Time (hours)', size = 14, color = 'black', )\n",
    "ax1.set_ylabel('%', size = 14, color = 'black')\n",
    "ax1.grid('on', linestyle='-', linewidth=0.5, color = 'gray')\n",
    "ax1.legend('MVspon%');"
   ]
  },
  {
   "cell_type": "raw",
   "metadata": {
    "collapsed": true
   },
   "source": [
    "fig = plt.figure()\n",
    "fig.set_size_inches(12, 8)\n",
    "fig.subplots_adjust(left=None, bottom=None, right=None, top=None,\n",
    "wspace=None, hspace=0.7)\n",
    "ax1 = fig.add_subplot(1, 1, 1);\n",
    "slow_Measurement.MVleak_kg.plot(ax = ax1, color = 'blue', ylim = [0, (slow_Measurement.MVleak_kg.max() * 1.2)])\n",
    "ax1.set_title('Leak minute volume', size = 16, color = 'black')\n",
    "ax1.set_xlabel('Time (hours)', size = 14, color = 'black', )\n",
    "ax1.set_ylabel('L/min/kg', size = 14, color = 'black')\n",
    "ax1.grid('on', linestyle='-', linewidth=0.5, color = 'gray')\n",
    "ax1.legend('MVleak');"
   ]
  },
  {
   "cell_type": "markdown",
   "metadata": {},
   "source": [
    "### Boxplot of of the medians and IQRs over 1-minute time windows"
   ]
  },
  {
   "cell_type": "code",
   "execution_count": null,
   "metadata": {},
   "outputs": [],
   "source": [
    "fig = plt.figure()\n",
    "fig.set_size_inches(12, 35)\n",
    "fig.suptitle('Boxplots of 1-minute medians \\n\\n Minute Volumes', color = 'black', size = 22, weight = 'bold')\n",
    "fig.subplots_adjust(left=None, bottom=None, right=None, top=None,\n",
    "wspace=0.3, hspace=0.3)\n",
    "for i, column in enumerate(slow_Measurement_MV_1min_median.columns):\n",
    "    ax = fig.add_subplot(8, 3, i+1)\n",
    "    ax.boxplot(slow_Measurement_MV_1min_median[column], )\n",
    "    ax.set_title(column, size = 16, color = 'black')\n",
    "    ax.set_xlabel('values', size = 14, color = 'black')\n",
    "    ax.set_ylabel('number', size = 14, color = 'black');\n",
    "    \n",
    "fig.savefig('%s/%s%s' % (dir_write, fnames2, 'boxplot_MV_1min_medians.pdf'), dpi=100, facecolor='w', edgecolor='w',\n",
    "        orientation='portrait', papertype=None, format='pdf',\n",
    "        transparent=False, bbox_inches=None, pad_inches=0.1,\n",
    "        frameon=None)"
   ]
  },
  {
   "cell_type": "code",
   "execution_count": null,
   "metadata": {},
   "outputs": [],
   "source": [
    "fig = plt.figure()\n",
    "fig.set_size_inches(12, 35)\n",
    "fig.suptitle('Boxplots of 1-minute IQRs \\n\\n Minute Volumes', color = 'black', size = 22, weight = 'bold')\n",
    "fig.subplots_adjust(left=None, bottom=None, right=None, top=None,\n",
    "wspace=0.3, hspace=0.3)\n",
    "for i, column in enumerate(slow_Measurement_MV_1min_IQR.columns):\n",
    "    ax = fig.add_subplot(8, 3, i+1)\n",
    "    ax.boxplot(slow_Measurement_MV_1min_IQR[column], )\n",
    "    ax.set_title(column, size = 16, color = 'black')\n",
    "    ax.set_xlabel('values', size = 14, color = 'black')\n",
    "    ax.set_ylabel('number', size = 14, color = 'black');\n",
    "    \n",
    "fig.savefig('%s/%s%s' % (dir_write, fnames2, 'boxplot_MV_1min_IQR.pdf'), dpi=100, facecolor='w', edgecolor='w',\n",
    "        orientation='portrait', papertype=None, format='pdf',\n",
    "        transparent=False, bbox_inches=None, pad_inches=0.1,\n",
    "        frameon=None)"
   ]
  },
  {
   "cell_type": "markdown",
   "metadata": {},
   "source": [
    "### Calculating mandatory (supported) and spontaneous minute volumes over 1-minute time windows"
   ]
  },
  {
   "cell_type": "markdown",
   "metadata": {},
   "source": [
    "##### 1-min medians"
   ]
  },
  {
   "cell_type": "code",
   "execution_count": null,
   "metadata": {},
   "outputs": [],
   "source": [
    "fig = plt.figure()\n",
    "fig.set_size_inches(12, 8)\n",
    "fig.subplots_adjust(left=None, bottom=None, right=None, top=None, wspace=None, hspace=0.7)\n",
    "ax1 = fig.add_subplot(1, 1, 1);\n",
    "slow_Measurement_MV_1min_median.MV_kg.plot(ax = ax1, color = 'blue', ylim = [0, (slow_Measurement_MV_1min_median.MV_kg.max() * 1.2)])\n",
    "slow_Measurement_MV_1min_median.MVemand_kg.plot(ax = ax1, color = 'red', ylim = [0, (slow_Measurement_MV_1min_median.MV_kg.max() * 1.2)]) \n",
    "slow_Measurement_MV_1min_median.MVespon_kg.plot(ax = ax1, color = 'green', ylim = [0, (slow_Measurement_MV_1min_median.MV_kg.max() * 1.2)])\n",
    "ax1.set_title('Mandatory and Spontaneous Expiratory Minute Volume - 1 minute medians', size = 16, color = 'black')\n",
    "ax1.set_xlabel('Time (hours)', size = 14, color = 'black')\n",
    "ax1.set_ylabel('Minute Volume (L/min/kg)', size = 14, color = 'black')\n",
    "ax1.grid('on', linestyle='-', linewidth=0.5, color = 'gray')\n",
    "ax1.legend(['MV', 'MVemand', 'MVespon' ]);"
   ]
  },
  {
   "cell_type": "code",
   "execution_count": null,
   "metadata": {},
   "outputs": [],
   "source": [
    "fig = plt.figure()\n",
    "fig.set_size_inches(12, 8)\n",
    "fig.subplots_adjust(left=None, bottom=None, right=None, top=None, wspace=None, hspace=0.7)\n",
    "ax1 = fig.add_subplot(1, 1, 1);\n",
    "slow_Measurement_MV_1min_median.MVemand_kg.plot(ax = ax1, color = 'red', ylim = [0, (slow_Measurement_MV_1min_median.MV_kg.max() * 1.2)]) \n",
    "slow_Measurement_MV_1min_median.MVespon_kg.plot(ax = ax1, color = 'green', ylim = [0, (slow_Measurement_MV_1min_median.MV_kg.max() * 1.2)])\n",
    "ax1.set_title('Mandatory and Spontaneous Expiratory Minute Volume', size = 16, color = 'black')\n",
    "ax1.set_xlabel('Time (hours)', size = 14, color = 'black')\n",
    "ax1.set_ylabel('Minute Volume (L/min/kg)', size = 14, color = 'black')\n",
    "ax1.grid('on', linestyle='-', linewidth=0.5, color = 'gray')\n",
    "ax1.legend([ 'MVemand', 'MVespon' ]);\n",
    "\n",
    "fig.savefig('%s/%s%s' % (dir_write, fnames2, 'minute_volumes.pdf'), dpi=300, facecolor='w', edgecolor='w',\n",
    "        orientation='portrait', papertype=None, format='pdf',\n",
    "        transparent=False, bbox_inches=None, pad_inches=0.1,\n",
    "        frameon=None)"
   ]
  },
  {
   "cell_type": "code",
   "execution_count": null,
   "metadata": {},
   "outputs": [],
   "source": [
    "fig = plt.figure()\n",
    "fig.set_size_inches(12, 8)\n",
    "fig.subplots_adjust(left=None, bottom=None, right=None, top=None, wspace=None, hspace=0.7)\n",
    "ax1 = fig.add_subplot(1, 1, 1);\n",
    "slow_Measurement_MV_1min_median.MV_kg.plot(ax = ax1, color = 'blue', ylim = [0, 0.5])\n",
    "slow_Measurement_MV_1min_median.MVemand_kg.plot(ax = ax1, color = 'red', ylim = [0, 0.5]) \n",
    "slow_Measurement_MV_1min_median.MVespon_kg.plot(ax = ax1, color = 'green', ylim = [0, 0.5])\n",
    "ax1.set_title('Mandatory and Spontaneous Expiratory Minute Volume - 1 minute medians', size = 16, color = 'black')\n",
    "ax1.set_xlabel('Time (hours)', size = 14, color = 'black')\n",
    "ax1.set_ylabel('Minute Volume (L/min/kg)', size = 14, color = 'black')\n",
    "ax1.grid('on', linestyle='-', linewidth=0.5, color = 'gray')\n",
    "ax1.legend(['MV', 'MVemand', 'MVespon' ]);"
   ]
  },
  {
   "cell_type": "markdown",
   "metadata": {},
   "source": [
    "##### 1-min IQRs"
   ]
  },
  {
   "cell_type": "code",
   "execution_count": null,
   "metadata": {},
   "outputs": [],
   "source": [
    "fig = plt.figure()\n",
    "fig.set_size_inches(12, 8)\n",
    "fig.subplots_adjust(left=None, bottom=None, right=None, top=None, wspace=None, hspace=0.7)\n",
    "ax1 = fig.add_subplot(1, 1, 1);\n",
    "slow_Measurement_MV_1min_IQR.MVemand_kg.plot(ax = ax1, color = 'red', ylim = [0, (slow_Measurement_MV_1min_IQR.MVemand_kg.max() * 1.2)]) \n",
    "slow_Measurement_MV_1min_IQR.MVespon_kg.plot(ax = ax1, color = 'green', ylim = [0, (slow_Measurement_MV_1min_IQR.MVespon_kg.max() * 1.2)])\n",
    "ax1.set_title('Mandatory and Spontaneous Expiratory Minute Volume - 1 minute IQRs', size = 16, color = 'black')\n",
    "ax1.set_xlabel('Time (hours)', size = 14, color = 'black')\n",
    "ax1.set_ylabel('Minute Volume (L/min/kg)', size = 14, color = 'black')\n",
    "ax1.grid('on', linestyle='-', linewidth=0.5, color = 'gray')\n",
    "ax1.legend(['MVemand', 'MVespon' ]);"
   ]
  },
  {
   "cell_type": "markdown",
   "metadata": {},
   "source": [
    "### Calculating inspiratory and expiratory minute volumes over 1-min time windows"
   ]
  },
  {
   "cell_type": "markdown",
   "metadata": {},
   "source": [
    "##### 1-min medians"
   ]
  },
  {
   "cell_type": "code",
   "execution_count": null,
   "metadata": {},
   "outputs": [],
   "source": [
    "fig = plt.figure()\n",
    "fig.set_size_inches(12, 8)\n",
    "fig.subplots_adjust(left=None, bottom=None, right=None, top=None,\n",
    "wspace=None, hspace=0.7)\n",
    "ax1 = fig.add_subplot(1, 1, 1);\n",
    "slow_Measurement_MV_1min_median.MV_kg.plot(ax = ax1, color = 'blue', ylim = [0, (slow_Measurement_MV_1min_median.MVi_kg.max() * 1.2)])\n",
    "slow_Measurement_MV_1min_median.MVi_kg.plot(ax = ax1, color = 'red', ylim = [0, (slow_Measurement_MV_1min_median.MVi_kg.max() * 1.2)])\n",
    "slow_Measurement_MV_1min_median.MVe_kg.plot(ax = ax1, color = 'green', ylim = [0, (slow_Measurement_MV_1min_median.MVi_kg.max() * 1.2)])\n",
    "ax1.set_title('Inspiratory and Expiratory Minute Volume - 1-minute medians', size = 16, color = 'black')\n",
    "ax1.set_xlabel('Time (hours)', size = 14, color = 'black')\n",
    "ax1.set_ylabel(' Minute Volume (L/min/kg)', size = 14, color = 'black')\n",
    "ax1.grid('on', linestyle='-', linewidth=0.5, color = 'gray')\n",
    "ax1.legend(['MV', 'MVi', 'MVe', ]);"
   ]
  },
  {
   "cell_type": "markdown",
   "metadata": {},
   "source": [
    "##### 1-min IQRs"
   ]
  },
  {
   "cell_type": "code",
   "execution_count": null,
   "metadata": {},
   "outputs": [],
   "source": [
    "fig = plt.figure()\n",
    "fig.set_size_inches(12, 8)\n",
    "fig.subplots_adjust(left=None, bottom=None, right=None, top=None,\n",
    "wspace=None, hspace=0.7)\n",
    "ax1 = fig.add_subplot(1, 1, 1);\n",
    "slow_Measurement_MV_1min_IQR.MV_kg.plot(ax = ax1, color = 'blue', ylim = [0, (slow_Measurement_MV_1min_IQR.MVi_kg.max() * 1.2)])\n",
    "slow_Measurement_MV_1min_IQR.MVi_kg.plot(ax = ax1, color = 'red', ylim = [0, (slow_Measurement_MV_1min_IQR.MVi_kg.max() * 1.2)])\n",
    "slow_Measurement_MV_1min_IQR.MVe_kg.plot(ax = ax1, color = 'green', ylim = [0, (slow_Measurement_MV_1min_IQR.MVi_kg.max() * 1.2)])\n",
    "ax1.set_title('Inspiratory and Expiratory Minute Volume - 1-min IQRs', size = 16, color = 'black')\n",
    "ax1.set_xlabel('Time (hours)', size = 14, color = 'black')\n",
    "ax1.set_ylabel(' Minute Volume (L/min/kg)', size = 14, color = 'black')\n",
    "ax1.grid('on', linestyle='-', linewidth=0.5, color = 'gray')\n",
    "ax1.legend(['MV', 'MVi', 'MVe', ]);"
   ]
  },
  {
   "cell_type": "markdown",
   "metadata": {},
   "source": [
    "### Percentage of spontaneaous minute volume ( minute volume from unsupported breaths)"
   ]
  },
  {
   "cell_type": "markdown",
   "metadata": {},
   "source": [
    "##### 1-min medians"
   ]
  },
  {
   "cell_type": "code",
   "execution_count": null,
   "metadata": {},
   "outputs": [],
   "source": [
    "fig = plt.figure()\n",
    "fig.set_size_inches(12, 8)\n",
    "fig.subplots_adjust(left=None, bottom=None, right=None, top=None,\n",
    "wspace=None, hspace=0.7)\n",
    "ax1 = fig.add_subplot(1, 1, 1);\n",
    "slow_Measurement_MV_1min_median.MVspon_pc.plot(ax = ax1, color = 'blue', \n",
    "                                     ylim = [0, (slow_Measurement_MV_1min_median.MVspon_pc.max() * 1.2)])\n",
    "ax1.set_title('Percentage of spontaneous minute volume - 1-minute medians', size = 16, color = 'black')\n",
    "ax1.set_xlabel('Time (hours)', size = 14, color = 'black', )\n",
    "ax1.set_ylabel('%', size = 14, color = 'black')\n",
    "ax1.grid('on', linestyle='-', linewidth=0.5, color = 'gray')\n",
    "ax1.legend('MVspon%');"
   ]
  },
  {
   "cell_type": "markdown",
   "metadata": {},
   "source": [
    "##### 1-min IQRs"
   ]
  },
  {
   "cell_type": "code",
   "execution_count": null,
   "metadata": {},
   "outputs": [],
   "source": [
    "fig = plt.figure()\n",
    "fig.set_size_inches(12, 8)\n",
    "fig.subplots_adjust(left=None, bottom=None, right=None, top=None,\n",
    "wspace=None, hspace=0.7)\n",
    "ax1 = fig.add_subplot(1, 1, 1);\n",
    "slow_Measurement_MV_1min_IQR.MVspon_pc.plot(ax = ax1, color = 'blue', \n",
    "                                     ylim = [0, (slow_Measurement_MV_1min_IQR.MVspon_pc.max() * 1.2)])\n",
    "ax1.set_title('Percentage of spontaneous minute volume - 1-minute IQRs', size = 16, color = 'black')\n",
    "ax1.set_xlabel('Time (hours)', size = 14, color = 'black', )\n",
    "ax1.set_ylabel('%', size = 14, color = 'black')\n",
    "ax1.grid('on', linestyle='-', linewidth=0.5, color = 'gray')\n",
    "ax1.legend('MVspon%');"
   ]
  },
  {
   "cell_type": "markdown",
   "metadata": {},
   "source": [
    "### Leak minute volume"
   ]
  },
  {
   "cell_type": "markdown",
   "metadata": {},
   "source": [
    "##### 1-min medians"
   ]
  },
  {
   "cell_type": "code",
   "execution_count": null,
   "metadata": {},
   "outputs": [],
   "source": [
    "fig = plt.figure()\n",
    "fig.set_size_inches(12, 8)\n",
    "fig.subplots_adjust(left=None, bottom=None, right=None, top=None,\n",
    "wspace=None, hspace=0.7)\n",
    "ax1 = fig.add_subplot(1, 1, 1);\n",
    "slow_Measurement_MV_1min_median.MVleak_kg.plot(ax = ax1, color = 'blue', ylim = [0, (slow_Measurement_MV_1min_median.MVleak_kg.max() * 1.2)])\n",
    "ax1.set_title('Leak minute volume - 1-minute medians', size = 16, color = 'black')\n",
    "ax1.set_xlabel('Time (hours)', size = 14, color = 'black', )\n",
    "ax1.set_ylabel('L/min/kg', size = 14, color = 'black')\n",
    "ax1.grid('on', linestyle='-', linewidth=0.5, color = 'gray')\n",
    "ax1.legend('MVleak');"
   ]
  },
  {
   "cell_type": "markdown",
   "metadata": {},
   "source": [
    "##### 1-min IQRs"
   ]
  },
  {
   "cell_type": "code",
   "execution_count": null,
   "metadata": {},
   "outputs": [],
   "source": [
    "fig = plt.figure()\n",
    "fig.set_size_inches(12, 8)\n",
    "fig.subplots_adjust(left=None, bottom=None, right=None, top=None,\n",
    "wspace=None, hspace=0.7)\n",
    "ax1 = fig.add_subplot(1, 1, 1);\n",
    "slow_Measurement_MV_1min_IQR.MVleak_kg.plot(ax = ax1, color = 'blue', ylim = [0, 0.5])\n",
    "ax1.set_title('Leak minute volume - 1-minute IQRs', size = 16, color = 'black')\n",
    "ax1.set_xlabel('Time (hours)', size = 14, color = 'black', )\n",
    "ax1.set_ylabel('L/min/kg', size = 14, color = 'black')\n",
    "ax1.grid('on', linestyle='-', linewidth=0.5, color = 'gray')\n",
    "ax1.legend('MVleak');"
   ]
  },
  {
   "cell_type": "markdown",
   "metadata": {},
   "source": [
    "## Respiratory rates"
   ]
  },
  {
   "cell_type": "markdown",
   "metadata": {},
   "source": [
    "### 1/sec data, no resampling"
   ]
  },
  {
   "cell_type": "raw",
   "metadata": {
    "collapsed": true
   },
   "source": [
    "fig = plt.figure()\n",
    "fig.set_size_inches(12, 8)\n",
    "fig.subplots_adjust(left=None, bottom=None, right=None, top=None,\n",
    "wspace=None, hspace=0.7)\n",
    "ax1 = fig.add_subplot(1, 1, 1);\n",
    "slow_Measurement.RRmand.plot(ax = ax1, color = 'red', ylim = [0, (slow_Measurement.RRmand.max() * 1.2 )])\n",
    "slow_Measurement.RRspon.plot(ax = ax1, color = 'green', ylim = [0, (slow_Measurement.RRmand.max() * 1.2)])\n",
    "ax1.set_title('Respiratory rate - not resampled', size = 16, color = 'black')\n",
    "ax1.set_xlabel('Time (hours)', size = 14, color = 'black')\n",
    "ax1.set_ylabel('Breaths / min', size = 14, color = 'black')\n",
    "ax1.grid('on', linestyle='-', linewidth=0.5, color = 'gray')\n",
    "ax1.legend([ 'RRmand', 'RRspon']);"
   ]
  },
  {
   "cell_type": "markdown",
   "metadata": {},
   "source": [
    "### Boxplot of of the medians and IQRs"
   ]
  },
  {
   "cell_type": "code",
   "execution_count": null,
   "metadata": {},
   "outputs": [],
   "source": [
    "fig = plt.figure()\n",
    "fig.set_size_inches(12, 35)\n",
    "fig.suptitle('Boxplots of 1-minute medians \\n\\n Respiratory rates', color = 'black', size = 22, weight = 'bold')\n",
    "fig.subplots_adjust(left=None, bottom=None, right=None, top=None,\n",
    "wspace=0.3, hspace=0.3)\n",
    "for i, column in enumerate(slow_Measurement_RR_1min_median.columns):\n",
    "    ax = fig.add_subplot(8, 3, i+1)\n",
    "    ax.boxplot(slow_Measurement_RR_1min_median[column], )\n",
    "    ax.set_title(column, size = 16, color = 'black')\n",
    "    ax.set_xlabel('values', size = 14, color = 'black')\n",
    "    ax.set_ylabel('number', size = 14, color = 'black');\n",
    "    \n",
    "fig.savefig('%s/%s%s' % (dir_write, fnames2, 'boxplot_RR_1min_medians.pdf'), dpi=100, facecolor='w', edgecolor='w',\n",
    "        orientation='portrait', papertype=None, format='pdf',\n",
    "        transparent=False, bbox_inches=None, pad_inches=0.1,\n",
    "        frameon=None)"
   ]
  },
  {
   "cell_type": "code",
   "execution_count": null,
   "metadata": {},
   "outputs": [],
   "source": [
    "fig = plt.figure()\n",
    "fig.set_size_inches(12, 35)\n",
    "fig.suptitle('Boxplots of 1-minute IQRs \\n\\n Respiratory rates', color = 'black', size = 22, weight = 'bold')\n",
    "fig.subplots_adjust(left=None, bottom=None, right=None, top=None,\n",
    "wspace=0.3, hspace=0.3)\n",
    "for i, column in enumerate(slow_Measurement_RR_1min_IQR.columns):\n",
    "    ax = fig.add_subplot(8, 3, i+1)\n",
    "    ax.boxplot(slow_Measurement_RR_1min_IQR[column], )\n",
    "    ax.set_title(column, size = 16, color = 'black')\n",
    "    ax.set_xlabel('values', size = 14, color = 'black')\n",
    "    ax.set_ylabel('number', size = 14, color = 'black');\n",
    "    \n",
    "fig.savefig('%s/%s%s' % (dir_write, fnames2, 'boxplot_RR_1min_IQRs.pdf'), dpi=100, facecolor='w', edgecolor='w',\n",
    "        orientation='portrait', papertype=None, format='pdf',\n",
    "        transparent=False, bbox_inches=None, pad_inches=0.1,\n",
    "        frameon=None)"
   ]
  },
  {
   "cell_type": "markdown",
   "metadata": {},
   "source": [
    "### Calculating and plotting supported and spontaneous respiratory rates over 1-minute time windows"
   ]
  },
  {
   "cell_type": "markdown",
   "metadata": {},
   "source": [
    "#### 1-min medians"
   ]
  },
  {
   "cell_type": "code",
   "execution_count": null,
   "metadata": {},
   "outputs": [],
   "source": [
    "fig = plt.figure()\n",
    "fig.set_size_inches(12, 8)\n",
    "fig.subplots_adjust(left=None, bottom=None, right=None, top=None,\n",
    "wspace=None, hspace=0.7)\n",
    "ax1 = fig.add_subplot(1, 1, 1);\n",
    "slow_Measurement_RR_1min_median.RRmand.plot(ax = ax1, color = 'red', ylim = [0, (slow_Measurement_RR_1min_median.RRmand.max() * 1.2 )])\n",
    "slow_Measurement_RR_1min_median.RRspon.plot(ax = ax1, color = 'green', ylim = [0, (slow_Measurement_RR_1min_median.RRmand.max() * 1.2)])\n",
    "ax1.set_title('Respiratory rate - 1-minute medians', size = 16, color = 'black')\n",
    "ax1.set_xlabel('Time (hours)', size = 14, color = 'black')\n",
    "ax1.set_ylabel('Breaths / min', size = 14, color = 'black')\n",
    "ax1.grid('on', linestyle='-', linewidth=0.5, color = 'gray')\n",
    "ax1.legend([ 'RRmand', 'RRspon']);"
   ]
  },
  {
   "cell_type": "markdown",
   "metadata": {},
   "source": [
    "##### IQRs"
   ]
  },
  {
   "cell_type": "code",
   "execution_count": null,
   "metadata": {},
   "outputs": [],
   "source": [
    "fig = plt.figure()\n",
    "fig.set_size_inches(12, 8)\n",
    "fig.subplots_adjust(left=None, bottom=None, right=None, top=None,\n",
    "wspace=None, hspace=0.7)\n",
    "ax1 = fig.add_subplot(1, 1, 1);\n",
    "slow_Measurement_RR_1min_IQR.RRmand.plot(ax = ax1, color = 'red', ylim = [0, (slow_Measurement_RR_1min_IQR.RRmand.max() * 1.2 )])\n",
    "slow_Measurement_RR_1min_IQR.RRspon.plot(ax = ax1, color = 'green', ylim = [0, (slow_Measurement_RR_1min_IQR.RRspon.max() * 1.2)])\n",
    "ax1.set_title('Respiratory rate - IQRs over 1-minute windows', size = 16, color = 'black')\n",
    "ax1.set_xlabel('Time (hours)', size = 14, color = 'black')\n",
    "ax1.set_ylabel('Breaths / min', size = 14, color = 'black')\n",
    "ax1.grid('on', linestyle='-', linewidth=0.5, color = 'gray')\n",
    "ax1.legend([ 'RRmand', 'RRspon']);"
   ]
  },
  {
   "cell_type": "markdown",
   "metadata": {},
   "source": [
    "## Leak"
   ]
  },
  {
   "cell_type": "markdown",
   "metadata": {},
   "source": [
    "#### Not resampled, 1/sec data"
   ]
  },
  {
   "cell_type": "raw",
   "metadata": {
    "collapsed": true
   },
   "source": [
    "fig = plt.figure()\n",
    "fig.set_size_inches(12, 8)\n",
    "fig.subplots_adjust(left=None, bottom=None, right=None, top=None,\n",
    "wspace=None, hspace=0.7)\n",
    "ax1 = fig.add_subplot(1, 1, 1);\n",
    "slow_Measurement.leak_pc.plot(ax = ax1, color = 'blue', \n",
    "                                   ylim = [0, (slow_Measurement.leak_pc.max() * 1.2)], )\n",
    "ax1.set_title('Percentage of leak - no resampling', size = 16, color = 'black')\n",
    "ax1.set_xlabel('Time (hours)', size = 14, color = 'black', )\n",
    "ax1.set_ylabel('%', size = 14, color = 'black')\n",
    "ax1.grid('on', linestyle='-', linewidth=0.5, color = 'gray')\n",
    "ax1.legend('Leak');"
   ]
  },
  {
   "cell_type": "markdown",
   "metadata": {},
   "source": [
    "#### Boxplot of the 1-min medians and IQRs"
   ]
  },
  {
   "cell_type": "code",
   "execution_count": null,
   "metadata": {},
   "outputs": [],
   "source": [
    "fig = plt.figure()\n",
    "fig.set_size_inches(12, 35)\n",
    "fig.suptitle('Boxplots of 1-minute medians \\n\\n Leak Values', color = 'black', size = 22, weight = 'bold')\n",
    "fig.subplots_adjust(left=None, bottom=None, right=None, top=None,\n",
    "wspace=0.3, hspace=0.3)\n",
    "for i, column in enumerate(slow_Measurement_leak_1min_median.columns):\n",
    "    ax = fig.add_subplot(8, 3, i+1)\n",
    "    ax.boxplot(slow_Measurement_leak_1min_median[column], )\n",
    "    ax.set_title(column, size = 16, color = 'black')\n",
    "    ax.set_xlabel('values', size = 14, color = 'black')\n",
    "    ax.set_ylabel('number', size = 14, color = 'black');\n",
    "    \n",
    "fig.savefig('%s/%s%s' % (dir_write, fnames2, 'boxplot_leak_1min_medians.pdf'), dpi=100, facecolor='w', edgecolor='w',\n",
    "        orientation='portrait', papertype=None, format='pdf',\n",
    "        transparent=False, bbox_inches=None, pad_inches=0.1,\n",
    "        frameon=None)"
   ]
  },
  {
   "cell_type": "code",
   "execution_count": null,
   "metadata": {},
   "outputs": [],
   "source": [
    "fig = plt.figure()\n",
    "fig.set_size_inches(12, 35)\n",
    "fig.suptitle('Boxplots of 1-minute IQRs \\n\\n Leak Values', color = 'black', size = 22, weight = 'bold')\n",
    "fig.subplots_adjust(left=None, bottom=None, right=None, top=None,\n",
    "wspace=0.3, hspace=0.3)\n",
    "for i, column in enumerate(slow_Measurement_leak_1min_IQR.columns):\n",
    "    ax = fig.add_subplot(8, 3, i+1)\n",
    "    ax.boxplot(slow_Measurement_leak_1min_IQR[column], )\n",
    "    ax.set_title(column, size = 16, color = 'black')\n",
    "    ax.set_xlabel('values', size = 14, color = 'black')\n",
    "    ax.set_ylabel('number', size = 14, color = 'black');\n",
    "    \n",
    "fig.savefig('%s/%s%s' % (dir_write, fnames2, 'boxplot_leak_1min_IQRs.pdf'), dpi=100, facecolor='w', edgecolor='w',\n",
    "        orientation='portrait', papertype=None, format='pdf',\n",
    "        transparent=False, bbox_inches=None, pad_inches=0.1,\n",
    "        frameon=None)"
   ]
  },
  {
   "cell_type": "markdown",
   "metadata": {},
   "source": [
    "### Resampled over 1-min time windows"
   ]
  },
  {
   "cell_type": "code",
   "execution_count": null,
   "metadata": {
    "scrolled": false
   },
   "outputs": [],
   "source": [
    "fig = plt.figure()\n",
    "fig.set_size_inches(12, 8)\n",
    "fig.subplots_adjust(left=None, bottom=None, right=None, top=None,\n",
    "wspace=None, hspace=0.7)\n",
    "ax1 = fig.add_subplot(1, 1, 1);\n",
    "slow_Measurement_leak_1min_median.leak_pc.plot(ax = ax1, color = 'blue', \n",
    "                                   ylim = [0, (slow_Measurement_leak_1min_median.leak_pc.max() * 1.2)], )\n",
    "ax1.set_title('Percentage of leak - 1-minute medians', size = 16, color = 'black')\n",
    "ax1.set_xlabel('Time (hours)', size = 14, color = 'black', )\n",
    "ax1.set_ylabel('%', size = 14, color = 'black')\n",
    "ax1.grid('on', linestyle='-', linewidth=0.5, color = 'gray')\n",
    "ax1.legend('Leak');"
   ]
  },
  {
   "cell_type": "code",
   "execution_count": null,
   "metadata": {
    "scrolled": false
   },
   "outputs": [],
   "source": [
    "fig = plt.figure()\n",
    "fig.set_size_inches(12, 8)\n",
    "fig.subplots_adjust(left=None, bottom=None, right=None, top=None,\n",
    "wspace=None, hspace=0.7)\n",
    "ax1 = fig.add_subplot(1, 1, 1);\n",
    "slow_Measurement_leak_1min_median.leak_pc.plot(ax = ax1, color = 'blue', \n",
    "                                   ylim = [0, 50], )\n",
    "ax1.set_title('Percentage of leak - 1-minute medians', size = 16, color = 'black')\n",
    "ax1.set_xlabel('Time (hours)', size = 14, color = 'black', )\n",
    "ax1.set_ylabel('%', size = 14, color = 'black')\n",
    "ax1.grid('on', linestyle='-', linewidth=0.5, color = 'gray')\n",
    "ax1.legend('Leak');"
   ]
  },
  {
   "cell_type": "code",
   "execution_count": null,
   "metadata": {
    "scrolled": false
   },
   "outputs": [],
   "source": [
    "fig = plt.figure()\n",
    "fig.set_size_inches(12, 8)\n",
    "fig.subplots_adjust(left=None, bottom=None, right=None, top=None,\n",
    "wspace=None, hspace=0.7)\n",
    "ax1 = fig.add_subplot(1, 1, 1);\n",
    "slow_Measurement_leak_1min_IQR.leak_pc.plot(ax = ax1, color = 'blue', \n",
    "                                   ylim = [0, 50], )\n",
    "ax1.set_title('Percentage of leak - 1-minute IQRs', size = 16, color = 'black')\n",
    "ax1.set_xlabel('Time (hours)', size = 14, color = 'black', )\n",
    "ax1.set_ylabel('%', size = 14, color = 'black')\n",
    "ax1.grid('on', linestyle='-', linewidth=0.5, color = 'gray')\n",
    "ax1.legend('Leak');"
   ]
  },
  {
   "cell_type": "markdown",
   "metadata": {},
   "source": [
    "## Flow"
   ]
  },
  {
   "cell_type": "markdown",
   "metadata": {},
   "source": [
    "#### 1/sec data, not resampled"
   ]
  },
  {
   "cell_type": "raw",
   "metadata": {
    "collapsed": true
   },
   "source": [
    "fig = plt.figure()\n",
    "fig.set_size_inches(12, 8)\n",
    "fig.subplots_adjust(left=None, bottom=None, right=None, top=None,\n",
    "wspace=None, hspace=0.7)\n",
    "ax1 = fig.add_subplot(1, 1, 1);\n",
    "slow_Measurement.FlowDev.plot(ax = ax1, color = 'blue', ylim = [0, (slow_Measurement.FlowDev.max() * 1.2)])\n",
    "ax1.set_title('Ventilator flow', size = 16, color = 'black')\n",
    "ax1.set_xlabel('Time (hours)', size = 14, color = 'black')\n",
    "ax1.set_ylabel('Flow (L/min)', size = 14, color = 'black')\n",
    "ax1.grid('on', linestyle='-', linewidth=0.5, color = 'gray')\n",
    "ax1.legend(['Ventilator Flow' ]);"
   ]
  },
  {
   "cell_type": "markdown",
   "metadata": {},
   "source": [
    "#### resampled over 1-min time windows "
   ]
  },
  {
   "cell_type": "code",
   "execution_count": null,
   "metadata": {
    "scrolled": false
   },
   "outputs": [],
   "source": [
    "fig = plt.figure()\n",
    "fig.set_size_inches(12, 8)\n",
    "fig.subplots_adjust(left=None, bottom=None, right=None, top=None,\n",
    "wspace=None, hspace=0.7)\n",
    "ax1 = fig.add_subplot(1, 1, 1);\n",
    "slow_Measurement_flow_1min_median.FlowDev.plot(ax = ax1, color = 'blue', ylim = [0, (slow_Measurement_flow_1min_median.FlowDev.max() * 1.2)])\n",
    "ax1.set_title('Ventilator flow - 1 minute medians', size = 16, color = 'black')\n",
    "ax1.set_xlabel('Time (hours)', size = 14, color = 'black')\n",
    "ax1.set_ylabel('Flow (L/min)', size = 14, color = 'black')\n",
    "ax1.grid('on', linestyle='-', linewidth=0.5, color = 'gray')\n",
    "ax1.legend(['Ventilator Flow' ]);"
   ]
  },
  {
   "cell_type": "code",
   "execution_count": null,
   "metadata": {},
   "outputs": [],
   "source": [
    "fig = plt.figure()\n",
    "fig.set_size_inches(12, 8)\n",
    "fig.subplots_adjust(left=None, bottom=None, right=None, top=None,\n",
    "wspace=None, hspace=0.7)\n",
    "ax1 = fig.add_subplot(1, 1, 1);\n",
    "slow_Measurement_flow_1min_IQR.FlowDev.plot(ax = ax1, color = 'blue', ylim = [0, \n",
    "                                                     (slow_Measurement_flow_1min_IQR.FlowDev.max() * 1.2)])\n",
    "ax1.set_title('Ventilator flow - 1 minute IQRs', size = 16, color = 'black')\n",
    "ax1.set_xlabel('Time (hours)', size = 14, color = 'black')\n",
    "ax1.set_ylabel('Flow (L/min)', size = 14, color = 'black')\n",
    "ax1.grid('on', linestyle='-', linewidth=0.5, color = 'gray')\n",
    "ax1.legend(['Ventilator Flow' ]);"
   ]
  },
  {
   "cell_type": "markdown",
   "metadata": {},
   "source": [
    "## I : E ratios"
   ]
  },
  {
   "cell_type": "markdown",
   "metadata": {},
   "source": [
    "#### Resampled over 1-min time windows"
   ]
  },
  {
   "cell_type": "code",
   "execution_count": null,
   "metadata": {},
   "outputs": [],
   "source": [
    "fig = plt.figure()\n",
    "fig.set_size_inches(12, 8)\n",
    "fig.subplots_adjust(left=None, bottom=None, right=None, top=None,\n",
    "wspace=None, hspace=0.7)\n",
    "ax1 = fig.add_subplot(1, 1, 1);\n",
    "slow_Measurement_IE_1min_median.IE_mand.plot(ax = ax1, color = 'red', ylim = [0, (slow_Measurement_IE_1min_median.IE_mand.max() * 1.2)])\n",
    "ax1.set_title('I:E ratio - 1 minute medians', size = 16, color = 'black')\n",
    "ax1.set_xlabel('Time (hours)', size = 14, color = 'black')\n",
    "ax1.set_ylabel('', size = 14, color = 'black')\n",
    "ax1.grid('on', linestyle='-', linewidth=0.5, color = 'gray')\n",
    "ax1.legend(['I : E']);"
   ]
  },
  {
   "cell_type": "code",
   "execution_count": null,
   "metadata": {},
   "outputs": [],
   "source": [
    "fig = plt.figure()\n",
    "fig.set_size_inches(12, 8)\n",
    "fig.subplots_adjust(left=None, bottom=None, right=None, top=None,\n",
    "wspace=None, hspace=0.7)\n",
    "ax1 = fig.add_subplot(1, 1, 1);\n",
    "slow_Measurement_IE_1min_IQR.IE_mand.plot(ax = ax1, color = 'red', ylim = [0, (slow_Measurement_IE_1min_IQR.IE_mand.max() * 1.2)])\n",
    "ax1.set_title('I:E ratio - 1 minute IQRs', size = 16, color = 'black')\n",
    "ax1.set_xlabel('Time (hours)', size = 14, color = 'black')\n",
    "ax1.set_ylabel('', size = 14, color = 'black')\n",
    "ax1.grid('on', linestyle='-', linewidth=0.5, color = 'gray')\n",
    "ax1.legend(['I : E']);"
   ]
  },
  {
   "cell_type": "markdown",
   "metadata": {
    "collapsed": true
   },
   "source": [
    "## Compliance, resistance and time constant"
   ]
  },
  {
   "cell_type": "markdown",
   "metadata": {},
   "source": [
    "#### 1 / sec data, no resampling"
   ]
  },
  {
   "cell_type": "raw",
   "metadata": {},
   "source": [
    "fig = plt.figure()\n",
    "fig.set_size_inches(12, 8)\n",
    "fig.subplots_adjust(left=None, bottom=None, right=None, top=None,\n",
    "wspace=None, hspace=0.7)\n",
    "ax1 = fig.add_subplot(1, 1, 1);\n",
    "slow_Measurement.Cdyn.plot(ax = ax1, color = 'red', \n",
    "                                                ylim = [0, (slow_Measurement.Cdyn.max() * 1.2 )])\n",
    "ax1.set_title('Dynamic compliance ', size = 16, color = 'black')\n",
    "ax1.set_xlabel('Time (hours)', size = 14, color = 'black')\n",
    "ax1.set_ylabel('Compliance (L/bar)', size = 14, color = 'black')\n",
    "ax1.grid('on', linestyle='-', linewidth=0.5, color = 'gray')\n",
    "ax1.legend(['Cdyn']);"
   ]
  },
  {
   "cell_type": "raw",
   "metadata": {
    "collapsed": true
   },
   "source": [
    "fig = plt.figure()\n",
    "fig.set_size_inches(12, 8)\n",
    "fig.subplots_adjust(left=None, bottom=None, right=None, top=None,\n",
    "wspace=None, hspace=0.7)\n",
    "ax1 = fig.add_subplot(1, 1, 1);\n",
    "slow_Measurement.R.plot(ax = ax1, color = 'blue', ylim = [0, (slow_Measurement.R.max() * 1.2 )])\n",
    "ax1.set_title('Resistance', size = 16, color = 'black')\n",
    "ax1.set_xlabel('Time (hours)', size = 14, color = 'black')\n",
    "ax1.set_ylabel('Resistance (mbar/L/sec)', size = 14, color = 'black')\n",
    "ax1.grid('on', linestyle='-', linewidth=0.5, color = 'gray')\n",
    "ax1.legend(['R']);"
   ]
  },
  {
   "cell_type": "raw",
   "metadata": {
    "collapsed": true
   },
   "source": [
    "fig = plt.figure()\n",
    "fig.set_size_inches(12, 8)\n",
    "fig.subplots_adjust(left=None, bottom=None, right=None, top=None,\n",
    "wspace=None, hspace=0.7)\n",
    "ax1 = fig.add_subplot(1, 1, 1);\n",
    "slow_Measurement.TC.plot(ax = ax1, color = 'green', ylim = [0, (slow_Measurement.TC.max() * 1.2 )])\n",
    "ax1.set_title('Time constant - 1 minute medians', size = 16, color = 'black')\n",
    "ax1.set_xlabel('Time (hours)', size = 14, color = 'black')\n",
    "ax1.set_ylabel('Time constant (sec)', size = 14, color = 'black')\n",
    "ax1.grid('on', linestyle='-', linewidth=0.5, color = 'gray')\n",
    "ax1.legend(['TC']);"
   ]
  },
  {
   "cell_type": "markdown",
   "metadata": {},
   "source": [
    "#### Resampled over 1-minute windows"
   ]
  },
  {
   "cell_type": "code",
   "execution_count": null,
   "metadata": {},
   "outputs": [],
   "source": [
    "fig = plt.figure()\n",
    "fig.set_size_inches(12, 8)\n",
    "fig.subplots_adjust(left=None, bottom=None, right=None, top=None,\n",
    "wspace=None, hspace=0.7)\n",
    "ax1 = fig.add_subplot(1, 1, 1);\n",
    "slow_Measurement_der_data_1min_median.Cdyn.plot(ax = ax1, color = 'red', \n",
    "                                                ylim = [0, (slow_Measurement_der_data_1min_median.Cdyn.max() * 1.2 )])\n",
    "ax1.set_title('Dynamic compliance - 1 minute medians', size = 16, color = 'black')\n",
    "ax1.set_xlabel('Time (hours)', size = 14, color = 'black')\n",
    "ax1.set_ylabel('Compliance (L/bar)', size = 14, color = 'black')\n",
    "ax1.grid('on', linestyle='-', linewidth=0.5, color = 'gray')\n",
    "ax1.legend(['Cdyn']);"
   ]
  },
  {
   "cell_type": "code",
   "execution_count": null,
   "metadata": {},
   "outputs": [],
   "source": [
    "fig = plt.figure()\n",
    "fig.set_size_inches(12, 8)\n",
    "fig.subplots_adjust(left=None, bottom=None, right=None, top=None,\n",
    "wspace=None, hspace=0.7)\n",
    "ax1 = fig.add_subplot(1, 1, 1);\n",
    "slow_Measurement_der_data_1min_IQR.Cdyn.plot(ax = ax1, color = 'red', \n",
    "                                                ylim = [0, (slow_Measurement_der_data_1min_IQR.Cdyn.max() * 1.2 )])\n",
    "ax1.set_title('Dynamic compliance - 1 minute IQRs', size = 16, color = 'black')\n",
    "ax1.set_xlabel('Time (hours)', size = 14, color = 'black')\n",
    "ax1.set_ylabel('Compliance (L/bar)', size = 14, color = 'black')\n",
    "ax1.grid('on', linestyle='-', linewidth=0.5, color = 'gray')\n",
    "ax1.legend(['Cdyn']);"
   ]
  },
  {
   "cell_type": "code",
   "execution_count": null,
   "metadata": {},
   "outputs": [],
   "source": [
    "fig = plt.figure()\n",
    "fig.set_size_inches(12, 8)\n",
    "fig.subplots_adjust(left=None, bottom=None, right=None, top=None,\n",
    "wspace=None, hspace=0.7)\n",
    "ax1 = fig.add_subplot(1, 1, 1);\n",
    "slow_Measurement_der_data_1min_median.R.plot(ax = ax1, color = 'blue', \n",
    "                                                ylim = [0, (slow_Measurement_der_data_1min_median.R.max() * 1.2 )])\n",
    "ax1.set_title('Resistance - 1 minute medians', size = 16, color = 'black')\n",
    "ax1.set_xlabel('Time (hours)', size = 14, color = 'black')\n",
    "ax1.set_ylabel('Resistance (mbar/L/sec)', size = 14, color = 'black')\n",
    "ax1.grid('on', linestyle='-', linewidth=0.5, color = 'gray')\n",
    "ax1.legend(['R']);"
   ]
  },
  {
   "cell_type": "code",
   "execution_count": null,
   "metadata": {},
   "outputs": [],
   "source": [
    "fig = plt.figure()\n",
    "fig.set_size_inches(12, 8)\n",
    "fig.subplots_adjust(left=None, bottom=None, right=None, top=None,\n",
    "wspace=None, hspace=0.7)\n",
    "ax1 = fig.add_subplot(1, 1, 1);\n",
    "slow_Measurement_der_data_1min_IQR.R.plot(ax = ax1, color = 'blue', \n",
    "                                                ylim = [0, (slow_Measurement_der_data_1min_IQR.R.max() * 1.2 )])\n",
    "ax1.set_title('Resistance - 1 minute IQRs', size = 16, color = 'black')\n",
    "ax1.set_xlabel('Time (hours)', size = 14, color = 'black')\n",
    "ax1.set_ylabel('Resistance (mbar/L/sec)', size = 14, color = 'black')\n",
    "ax1.grid('on', linestyle='-', linewidth=0.5, color = 'gray')\n",
    "ax1.legend(['R']);"
   ]
  },
  {
   "cell_type": "code",
   "execution_count": null,
   "metadata": {},
   "outputs": [],
   "source": [
    "fig = plt.figure()\n",
    "fig.set_size_inches(12, 8)\n",
    "fig.subplots_adjust(left=None, bottom=None, right=None, top=None,\n",
    "wspace=None, hspace=0.7)\n",
    "ax1 = fig.add_subplot(1, 1, 1);\n",
    "slow_Measurement_der_data_1min_median.TC.plot(ax = ax1, color = 'green', \n",
    "                                                ylim = [0, (slow_Measurement_der_data_1min_median.TC.max() * 1.2 )])\n",
    "ax1.set_title('Time constant - 1 minute medians', size = 16, color = 'black')\n",
    "ax1.set_xlabel('Time (hours)', size = 14, color = 'black')\n",
    "ax1.set_ylabel('Time constant (sec)', size = 14, color = 'black')\n",
    "ax1.grid('on', linestyle='-', linewidth=0.5, color = 'gray')\n",
    "ax1.legend(['TC']);"
   ]
  },
  {
   "cell_type": "code",
   "execution_count": null,
   "metadata": {},
   "outputs": [],
   "source": [
    "fig = plt.figure()\n",
    "fig.set_size_inches(12, 8)\n",
    "fig.subplots_adjust(left=None, bottom=None, right=None, top=None,\n",
    "wspace=None, hspace=0.7)\n",
    "ax1 = fig.add_subplot(1, 1, 1);\n",
    "slow_Measurement_der_data_1min_IQR.TC.plot(ax = ax1, color = 'green', \n",
    "                                                ylim = [0, (slow_Measurement_der_data_1min_IQR.TC.max() * 1.2 )])\n",
    "ax1.set_title('Time constant - 1 minute IQRs', size = 16, color = 'black')\n",
    "ax1.set_xlabel('Time (hours)', size = 14, color = 'black')\n",
    "ax1.set_ylabel('Time constant (sec)', size = 14, color = 'black')\n",
    "ax1.grid('on', linestyle='-', linewidth=0.5, color = 'gray')\n",
    "ax1.legend(['TC']);"
   ]
  },
  {
   "cell_type": "code",
   "execution_count": null,
   "metadata": {},
   "outputs": [],
   "source": []
  },
  {
   "cell_type": "code",
   "execution_count": null,
   "metadata": {},
   "outputs": [],
   "source": []
  },
  {
   "cell_type": "code",
   "execution_count": null,
   "metadata": {},
   "outputs": [],
   "source": [
    "fig = plt.figure()\n",
    "fig.set_size_inches(12, 8)\n",
    "fig.subplots_adjust(left=None, bottom=None, right=None, top=None,\n",
    "wspace=None, hspace=0)\n",
    "ax0 = fig.add_subplot(2, 1, 1);\n",
    "slow_Measurement_pressures_1min_median['PEEP'].plot(ax = ax0, color = 'red', \n",
    "                ylim = [-10, (slow_Measurement_pressures_1min_median['PEEP'].max() + 10)], fontsize = 12, xticks = []  );\n",
    "slow_Measurement_pressures_1min_median['Pmin'].plot(ax = ax0, color = 'green', \n",
    "                 ylim = [-10, (slow_Measurement_pressures_1min_median['PEEP'].max() + 10)], xticks = [] );\n",
    "ax0.set_title('Positive End Expiratory Pressure and Minimum Pressure', size = 16, color = 'black')\n",
    "ax0.set_xlabel('Time (hours)', size = 14, color = 'black')\n",
    "ax0.set_ylabel('Pressure (mbar)', size = 14, color = 'black')\n",
    "ax0.grid('on', linestyle='-', linewidth=0.5, color = 'gray')\n",
    "ax0.legend(['PEEP', 'Pmin']);\n",
    "\n",
    "\n",
    "ax1 = fig.add_subplot(2, 1, 2);\n",
    "slow_Measurement_MV_1min_median.MVemand_kg.plot(ax = ax1, color = 'red', \n",
    "                        ylim = [0, (slow_Measurement_MV_1min_median.MV_kg.max() * 1.2)], fontsize = 12) \n",
    "slow_Measurement_MV_1min_median.MVespon_kg.plot(ax = ax1, color = 'green', \n",
    "                        ylim = [0, (slow_Measurement_MV_1min_median.MV_kg.max() * 1.2)])\n",
    "ax1.set_title('Mandatory and Spontaneous Expiratory Minute Volume', size = 16, color = 'black')\n",
    "ax1.set_xlabel('Time (hours)', size = 14, color = 'black')\n",
    "ax1.set_ylabel('Minute Volume (L/min/kg)', size = 14, color = 'black')\n",
    "ax1.grid('on', linestyle='-', linewidth=0.5, color = 'gray')\n",
    "ax1.legend([ 'MVemand', 'MVespon' ]);\n",
    "\n",
    "fig.savefig('%s/%s%s' % (dir_write, fnames2, 'Figure_1.jpg'), dpi=600, facecolor='w', edgecolor='w',\n",
    "        orientation='portrait', papertype=None, format='jpg',\n",
    "        transparent=False, bbox_inches=None, pad_inches=0.1,\n",
    "        frameon=True)"
   ]
  },
  {
   "cell_type": "code",
   "execution_count": null,
   "metadata": {},
   "outputs": [],
   "source": [
    "fig = plt.figure()\n",
    "fig.set_size_inches(12, 8)\n",
    "fig.subplots_adjust(left=None, bottom=None, right=None, top=None,\n",
    "wspace=None, hspace=0)\n",
    "ax0 = fig.add_subplot(2, 1, 1);\n",
    "slow_Measurement_pressures_1min_median['Pmin'].plot(ax = ax0, color = 'black', \n",
    "                 ylim = [-10, (slow_Measurement_pressures_1min_median['PEEP'].max() + 10)], xticks = [] );\n",
    "ax0.set_title('Minimum Pressure', size = 16, color = 'black')\n",
    "ax0.set_xlabel('Time (hours)', size = 14, color = 'black')\n",
    "ax0.set_ylabel('Pressure (mbar)', size = 14, color = 'black')\n",
    "ax0.grid('on', linestyle='-', linewidth=0.5, color = 'gray')\n",
    "ax0.legend([ 'Pmin']);\n",
    "\n",
    "\n",
    "ax1 = fig.add_subplot(2, 1, 2);\n",
    "slow_Measurement_MV_1min_median.MVemand_kg.plot(ax = ax1, color = 'black', \n",
    "                        ylim = [0, (slow_Measurement_MV_1min_median.MV_kg.max() * 1.2)], fontsize = 12) \n",
    "ax1.set_title('Mandatory  Expiratory Minute Volume', size = 16, color = 'black')\n",
    "ax1.set_xlabel('Time (hours)', size = 14, color = 'black')\n",
    "ax1.set_ylabel('Minute Volume (L/min/kg)', size = 14, color = 'black')\n",
    "ax1.grid('on', linestyle='-', linewidth=0.5, color = 'gray')\n",
    "ax1.legend([ 'MVemand' ]);\n",
    "\n",
    "fig.savefig('%s/%s%s' % (dir_write, fnames2, 'Figure_1_bw.jpg'), dpi=600, facecolor='w', edgecolor='w',\n",
    "        orientation='portrait', papertype=None, format='jpg',\n",
    "        transparent=False, bbox_inches=None, pad_inches=0.1,\n",
    "        frameon=True)"
   ]
  },
  {
   "cell_type": "code",
   "execution_count": null,
   "metadata": {},
   "outputs": [],
   "source": [
    "fig = plt.figure()\n",
    "fig.set_size_inches(12, 8)\n",
    "fig.subplots_adjust(left=None, bottom=None, right=None, top=None,\n",
    "wspace=None, hspace=0)\n",
    "ax0 = fig.add_subplot(2, 1, 1);\n",
    "slow_Measurement_pressures_1min_median['PEEP'].plot(ax = ax0, color = 'red', \n",
    "                ylim = [-10, (slow_Measurement_pressures_1min_median['PEEP'].max() + 10)], fontsize = 12, xticks = []  );\n",
    "slow_Measurement_pressures_1min_median['Pmin'].plot(ax = ax0, color = 'green', \n",
    "                 ylim = [-10, (slow_Measurement_pressures_1min_median['PEEP'].max() + 10)], xticks = [] );\n",
    "ax0.set_title('Positive End Expiratory Pressure and Minimum Pressure', size = 16, color = 'black')\n",
    "ax0.get_xaxis().set_visible(False)\n",
    "ax0.set_xlabel('')\n",
    "ax0.set_ylabel('Pressure (mbar)', size = 14, color = 'black')\n",
    "ax0.grid('on', linestyle='-', linewidth=0.5, color = 'gray')\n",
    "ax0.legend(['PEEP', 'Pmin']);\n",
    "\n",
    "\n",
    "ax1 = fig.add_subplot(2, 1, 2);\n",
    "slow_Measurement_MV_1min_median.MVe_kg.plot(ax = ax1, color = 'blue', \n",
    "                        ylim = [0, (slow_Measurement_MV_1min_median.MVe_kg.max() * 1.2)], fontsize = 12) \n",
    "ax1.set_title('Expiratory Minute Volume', size = 16, color = 'black')\n",
    "ax1.set_xlabel('Time (hours)', size = 14, color = 'black')\n",
    "ax1.set_ylabel('Volume (L/min/kg)', size = 14, color = 'black')\n",
    "ax1.grid('on', linestyle='-', linewidth=0.5, color = 'gray')\n",
    "ax1.legend([ 'MV' ]);\n",
    "\n",
    "fig.savefig('%s/%s%s' % (dir_write, fnames2, 'Figure_1_v2.jpg'), dpi=600, facecolor='w', edgecolor='w',\n",
    "        orientation='portrait', papertype=None, format='jpg',\n",
    "        transparent=False, bbox_inches=None, pad_inches=0.1,\n",
    "        frameon=True)"
   ]
  },
  {
   "cell_type": "code",
   "execution_count": null,
   "metadata": {},
   "outputs": [],
   "source": [
    "fig = plt.figure()\n",
    "fig.set_size_inches(12, 8)\n",
    "fig.subplots_adjust(left=None, bottom=None, right=None, top=None,\n",
    "wspace=None, hspace=0)\n",
    "ax0 = fig.add_subplot(2, 1, 1);\n",
    "slow_Measurement_pressures_1min_median['PEEP'].plot(ax = ax0, color = 'black', linestyle = 'dotted',\n",
    "                ylim = [-10, (slow_Measurement_pressures_1min_median['PEEP'].max() + 10)], fontsize = 12, xticks = []  );\n",
    "slow_Measurement_pressures_1min_median['Pmin'].plot(ax = ax0, color = 'black', \n",
    "                 ylim = [-10, (slow_Measurement_pressures_1min_median['PEEP'].max() + 10)], xticks = [] );\n",
    "ax0.set_title('Positive End Expiratory Pressure and Minimum Pressure', size = 16, color = 'black')\n",
    "ax0.get_xaxis().set_visible(False)\n",
    "ax0.set_xlabel('')\n",
    "ax0.set_ylabel('Pressure (mbar)', size = 14, color = 'black')\n",
    "ax0.grid('on', linestyle='-', linewidth=0.5, color = 'gray')\n",
    "ax0.legend(['PEEP', 'Pmin']);\n",
    "\n",
    "\n",
    "ax1 = fig.add_subplot(2, 1, 2);\n",
    "slow_Measurement_MV_1min_median.MVe_kg.plot(ax = ax1, color = 'black', \n",
    "                        ylim = [0, (slow_Measurement_MV_1min_median.MVe_kg.max() * 1.2)], fontsize = 12) \n",
    "ax1.set_title('Expiratory Minute Volume', size = 16, color = 'black')\n",
    "ax1.set_xlabel('Time (hours)', size = 14, color = 'black')\n",
    "ax1.set_ylabel('Volume (L/min/kg)', size = 14, color = 'black')\n",
    "ax1.grid('on', linestyle='-', linewidth=0.5, color = 'gray')\n",
    "ax1.legend([ 'MVe' ]);\n",
    "\n",
    "fig.savefig('%s/%s%s' % (dir_write, fnames2, 'Figure_1_v2_bw.jpg'), dpi=600, facecolor='w', edgecolor='w',\n",
    "        orientation='portrait', papertype=None, format='jpg',\n",
    "        transparent=False, bbox_inches=None, pad_inches=0.1,\n",
    "        frameon=True)"
   ]
  },
  {
   "cell_type": "code",
   "execution_count": null,
   "metadata": {},
   "outputs": [],
   "source": [
    "slow_Measurement_MV_1min_median.MVe_kg.plot?"
   ]
  },
  {
   "cell_type": "code",
   "execution_count": null,
   "metadata": {},
   "outputs": [],
   "source": []
  }
 ],
 "metadata": {
  "kernelspec": {
   "display_name": "Python 3",
   "language": "python",
   "name": "python3"
  },
  "language_info": {
   "codemirror_mode": {
    "name": "ipython",
    "version": 3
   },
   "file_extension": ".py",
   "mimetype": "text/x-python",
   "name": "python",
   "nbconvert_exporter": "python",
   "pygments_lexer": "ipython3",
   "version": "3.7.1"
  }
 },
 "nbformat": 4,
 "nbformat_minor": 1
}
