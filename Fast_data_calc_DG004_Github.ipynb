{
 "cells": [
  {
   "cell_type": "markdown",
   "metadata": {},
   "source": [
    "![alt text](./pageheader_rose2_babies.jpg)"
   ]
  },
  {
   "cell_type": "markdown",
   "metadata": {},
   "source": [
    "# ANALYZING VENTILATOR DATA DG004\n",
    "\n",
    "**Author: Dr Gusztav Belteki**\n",
    "\n",
    "This notebook contains the Python code to produce the data and the illustrations \n",
    "published in the paper:\n",
    "\n",
    "Panayiotou E, Spike K, Morley C, Belteki G. **Ventilator respiratory graphic\n",
    "diagnosis of hiccupping in non-ketotic hyperglycinaemia.** _BMJ Case Reports_ \n",
    "2017 Aug9;2017. pii: bcr-2017-220267.\n",
    "\n",
    "Contact: gbelteki@aol.com"
   ]
  },
  {
   "cell_type": "markdown",
   "metadata": {},
   "source": [
    "### Importing the necessary libraries and setting options"
   ]
  },
  {
   "cell_type": "code",
   "execution_count": null,
   "metadata": {},
   "outputs": [],
   "source": [
    "import pandas as pd\n",
    "import numpy as np\n",
    "import matplotlib.pyplot as plt\n",
    "from pandas import Series, DataFrame\n",
    "from datetime import datetime, timedelta\n",
    "from pprint import pprint\n",
    "%matplotlib inline\n",
    "pd.set_option('display.max_rows', 200)\n",
    "pd.set_option('display.max_columns', 50)"
   ]
  },
  {
   "cell_type": "markdown",
   "metadata": {},
   "source": [
    "### Clinical details"
   ]
  },
  {
   "cell_type": "code",
   "execution_count": null,
   "metadata": {},
   "outputs": [],
   "source": [
    "clin_details = pd.read_excel('/Users/guszti/Desktop/ventilation_data/data_grabber_patient_data.xlsx', \n",
    "                             sheetname = 'DG004')"
   ]
  },
  {
   "cell_type": "code",
   "execution_count": null,
   "metadata": {},
   "outputs": [],
   "source": [
    "clin_details"
   ]
  },
  {
   "cell_type": "code",
   "execution_count": null,
   "metadata": {},
   "outputs": [],
   "source": [
    "gestation = clin_details.ix[0, 1]; bw = clin_details.ix[2, 1]/1000; cw = clin_details.ix[4, 1]/1000\n",
    "gestation"
   ]
  },
  {
   "cell_type": "code",
   "execution_count": null,
   "metadata": {},
   "outputs": [],
   "source": [
    "bw"
   ]
  },
  {
   "cell_type": "code",
   "execution_count": null,
   "metadata": {},
   "outputs": [],
   "source": [
    "cw"
   ]
  },
  {
   "cell_type": "code",
   "execution_count": null,
   "metadata": {},
   "outputs": [],
   "source": [
    "dg = clin_details.ix[5, 1].split(',')\n",
    "dg"
   ]
  },
  {
   "cell_type": "code",
   "execution_count": null,
   "metadata": {},
   "outputs": [],
   "source": [
    "comments = clin_details.ix[9, 1].split(',')\n",
    "comments"
   ]
  },
  {
   "cell_type": "markdown",
   "metadata": {},
   "source": [
    "### Blood gases"
   ]
  },
  {
   "cell_type": "code",
   "execution_count": null,
   "metadata": {},
   "outputs": [],
   "source": [
    "gases = pd.read_excel('/Users/guszti/Desktop/ventilation_data/data_grabber_gases.xlsx', sheetname = 'DG004')\n",
    "gases = gases.T\n",
    "gases.columns = gases.ix[0]\n",
    "gases = gases.reset_index()\n",
    "\n",
    "gases[[0,1,5,6,7,8,9,14,30]]\n",
    "\n"
   ]
  },
  {
   "cell_type": "markdown",
   "metadata": {},
   "source": [
    "### Importing and cleaning up the ventilator data"
   ]
  },
  {
   "cell_type": "markdown",
   "metadata": {},
   "source": [
    "### List and set the working directory"
   ]
  },
  {
   "cell_type": "code",
   "execution_count": null,
   "metadata": {
    "scrolled": false
   },
   "outputs": [],
   "source": [
    "%cd /Users/guszti/Desktop/ventilation_data/DG004\n",
    "cwd = '/Users/guszti/Desktop/ventilation_data/DG004'\n",
    "!ls -l"
   ]
  },
  {
   "cell_type": "code",
   "execution_count": null,
   "metadata": {},
   "outputs": [],
   "source": [
    "fnames = ['CsvLogBase_2015-10-12_085111.498_' , 'CsvLogBase_2015-10-12_175541.015_']"
   ]
  },
  {
   "cell_type": "code",
   "execution_count": null,
   "metadata": {},
   "outputs": [],
   "source": [
    "dir_write = '/Users/guszti/Desktop/ventilation_data/Analyses/DG004'"
   ]
  },
  {
   "cell_type": "code",
   "execution_count": null,
   "metadata": {},
   "outputs": [],
   "source": [
    "fnames2 = 'DG004_'"
   ]
  },
  {
   "cell_type": "markdown",
   "metadata": {},
   "source": [
    "###  Importing fast data"
   ]
  },
  {
   "cell_type": "code",
   "execution_count": null,
   "metadata": {},
   "outputs": [],
   "source": [
    "fast_1 = pd.read_csv('%s/%s%s' % (cwd, fnames[0], 'fast_Unknown.csv'), parse_dates = [[1, 2]])\n",
    "fast_1.columns = ['date_time','time_ms', 'rel_time_s', 'paw', 'flow', 'volume']\n",
    "fast_1.index = fast_1.date_time\n",
    "fast_2 = pd.read_csv('%s/%s%s' % (cwd, fnames[1], 'fast_Unknown.csv'), parse_dates = [[1, 2]])\n",
    "fast_2.columns = ['date_time','time_ms', 'rel_time_s', 'paw', 'flow', 'volume']\n",
    "fast_2.index = fast_2.date_time"
   ]
  },
  {
   "cell_type": "code",
   "execution_count": null,
   "metadata": {},
   "outputs": [],
   "source": [
    "fast_1.head()"
   ]
  },
  {
   "cell_type": "code",
   "execution_count": null,
   "metadata": {},
   "outputs": [],
   "source": [
    "fast_1.tail()"
   ]
  },
  {
   "cell_type": "code",
   "execution_count": null,
   "metadata": {},
   "outputs": [],
   "source": [
    "fast_2.head()"
   ]
  },
  {
   "cell_type": "code",
   "execution_count": null,
   "metadata": {},
   "outputs": [],
   "source": [
    "fast_2.tail()"
   ]
  },
  {
   "cell_type": "code",
   "execution_count": null,
   "metadata": {},
   "outputs": [],
   "source": [
    "fast = pd.concat([fast_1, fast_2])\n",
    "del fast_1\n",
    "del fast_2"
   ]
  },
  {
   "cell_type": "code",
   "execution_count": null,
   "metadata": {
    "scrolled": true
   },
   "outputs": [],
   "source": [
    "fast.info()"
   ]
  },
  {
   "cell_type": "code",
   "execution_count": null,
   "metadata": {},
   "outputs": [],
   "source": [
    "fast.head()"
   ]
  },
  {
   "cell_type": "code",
   "execution_count": null,
   "metadata": {},
   "outputs": [],
   "source": [
    "fast.tail()"
   ]
  },
  {
   "cell_type": "markdown",
   "metadata": {},
   "source": [
    "### Importing ventilator settings"
   ]
  },
  {
   "cell_type": "code",
   "execution_count": null,
   "metadata": {},
   "outputs": [],
   "source": [
    "slow_Setting_1 = pd.read_csv('%s/%s%s' % (cwd, fnames[0], 'slow_Setting.csv'), parse_dates = [[1, 2]])\n",
    "slow_Setting_1.index = slow_Setting_1.Date_Time\n",
    "slow_Setting_2 = pd.read_csv('%s/%s%s' % (cwd, fnames[1], 'slow_Setting.csv'), parse_dates = [[1, 2]])\n",
    "slow_Setting_2.index = slow_Setting_2.Date_Time"
   ]
  },
  {
   "cell_type": "code",
   "execution_count": null,
   "metadata": {},
   "outputs": [],
   "source": [
    "slow_Setting = pd.concat([slow_Setting_1, slow_Setting_2])\n",
    "del slow_Setting_1\n",
    "del slow_Setting_2"
   ]
  },
  {
   "cell_type": "code",
   "execution_count": null,
   "metadata": {
    "scrolled": false
   },
   "outputs": [],
   "source": [
    "slow_Setting;"
   ]
  },
  {
   "cell_type": "code",
   "execution_count": null,
   "metadata": {},
   "outputs": [],
   "source": [
    "a = slow_Setting[slow_Setting.Id != 'FiO2']\n",
    "a = a[a.Id != 'Ø tube']\n",
    "a = a[a.Id != 'Tapn']\n",
    "a = a[a.Id != 'ΔPsupp']\n",
    "a = a[a.Id != 'Tube Æ']\n",
    "a = a[a.Id != 'RRsigh']\n",
    "a = a[a.Id != 'Psigh']\n",
    "a = a[a.Id != 'Slopesigh']\n",
    "a = a[a.Unit != 'L']\n",
    "a = a[a.Id != 'I (I:E)']\n",
    "a = a[a.Id != 'E (I:E)']\n",
    "a = a[a.Id != 'Te']\n",
    "a = a[a.Id != 'Ti']\n",
    "a = a[a.Id != 'MVlow delay']\n",
    "a = a[a.Id != 'MVhigh delay']\n",
    "a.drop_duplicates([\"Rel.Time [s]\", \"Name\"], inplace = True)\n",
    "slow_Setting_selected = a"
   ]
  },
  {
   "cell_type": "code",
   "execution_count": null,
   "metadata": {},
   "outputs": [],
   "source": [
    "slow_Setting_selected"
   ]
  },
  {
   "cell_type": "code",
   "execution_count": null,
   "metadata": {},
   "outputs": [],
   "source": [
    "slow_Text_1 = pd.read_csv('%s/%s%s' % (cwd, fnames[0], 'slow_Text.csv'), parse_dates = [[1, 2]])\n",
    "slow_Text_2 = pd.read_csv('%s/%s%s' % (cwd, fnames[1], 'slow_Text.csv'), parse_dates = [[1, 2]])\n",
    "slow_Text_1.index = slow_Text_1.Date_Time\n",
    "slow_Text_2.index = slow_Text_2.Date_Time"
   ]
  },
  {
   "cell_type": "code",
   "execution_count": null,
   "metadata": {},
   "outputs": [],
   "source": [
    "slow_Text = pd.concat([slow_Text_1, slow_Text_2])\n",
    "del slow_Text_1\n",
    "del slow_Text_2"
   ]
  },
  {
   "cell_type": "code",
   "execution_count": null,
   "metadata": {},
   "outputs": [],
   "source": [
    "a = slow_Text[slow_Text.Id != 'Device is in neonatal mode']\n",
    "a = a[a.Id != 'Device is in neonatal mode']\n",
    "a = a[a.Id != 'Selected CO2 unit is mmHg']\n",
    "a = a[a.Id != \"Selected language (variable text string transmitted with this code, see 'MEDIBUS.X, Rules and Standards for Implementation' for further information)\"]\n",
    "a = a[a.Id != 'Device configured for intubated patient ventilation']\n",
    "a = a[a.Id != 'Active humid heated']\n",
    "a = a[a.Id != 'Audio pause active']\n",
    "a = a[a.Id != 'Active humid unheated']\n",
    "a = a[a.Id != 'Suction maneuver active']\n",
    "a = a[a.Id != 'Tube type endotracheal']\n",
    "a = a[a.Id != 'Tracheal pressure calculation enabled as real-time value (independent of ATC adjunct)']\n",
    "a.drop_duplicates([\"Rel.Time [s]\", \"Id\"], inplace = True)\n",
    "slow_Text_selected = a"
   ]
  },
  {
   "cell_type": "code",
   "execution_count": null,
   "metadata": {},
   "outputs": [],
   "source": [
    "slow_Text.index = range(len(slow_Text))\n",
    "slow_Text;"
   ]
  },
  {
   "cell_type": "code",
   "execution_count": null,
   "metadata": {},
   "outputs": [],
   "source": [
    "slow_Text_selected"
   ]
  },
  {
   "cell_type": "markdown",
   "metadata": {},
   "source": [
    "### Calculate recording period"
   ]
  },
  {
   "cell_type": "code",
   "execution_count": null,
   "metadata": {},
   "outputs": [],
   "source": [
    "recording_period = (fast.index[-1] - fast.index[0]).total_seconds()\n",
    "recording_period"
   ]
  },
  {
   "cell_type": "code",
   "execution_count": null,
   "metadata": {},
   "outputs": [],
   "source": [
    "recording_period_2 = (fast.index[-1] - fast.index[0])\n",
    "print(recording_period_2)"
   ]
  },
  {
   "cell_type": "markdown",
   "metadata": {},
   "source": [
    "### Calculate descriptive statistics about, PAW, FLOW, VOLUME"
   ]
  },
  {
   "cell_type": "code",
   "execution_count": null,
   "metadata": {},
   "outputs": [],
   "source": [
    "def par_stats(par):\n",
    "    '''\n",
    "    input: DataFrame containing 1 column of data \n",
    "    This function return detailed statistics about the reduced data ;\n",
    "    - number of data points in the aggregated data set, mean, standard deviation, median, mean absolute deviation,\n",
    "      minium,5th centila, 25th centile, 75th centile, 95th centile, maximum of the time periods over the recording time \n",
    "    '''\n",
    "    return (par.size, par.mean(), par.std(), par.median(), par.mad(), par.min(), par.quantile(0.05), \n",
    "            par.quantile(0.25), par.quantile(0.75), par.quantile(0.95), par.max())"
   ]
  },
  {
   "cell_type": "code",
   "execution_count": null,
   "metadata": {},
   "outputs": [],
   "source": [
    "fast['flow_abs'] = abs(fast['flow'])"
   ]
  },
  {
   "cell_type": "code",
   "execution_count": null,
   "metadata": {},
   "outputs": [],
   "source": [
    "paw_stats = par_stats(fast['paw'])\n",
    "flow_stats = par_stats(fast['flow_abs']) \n",
    "volume_stats = par_stats(fast['volume'])"
   ]
  },
  {
   "cell_type": "code",
   "execution_count": null,
   "metadata": {},
   "outputs": [],
   "source": [
    "paw_stats = DataFrame([paw_stats], columns = ['number_of_minutes', 'mean', 'stdev', 'median', 'mad',\n",
    "                'min', '5pc', '25pc', '75pc', '95pc', 'max' ])\n",
    "flow_stats = DataFrame([flow_stats], columns = ['number_of_minutes', 'mean', 'stdev', 'median', 'mad',\n",
    "                'min', '5pc', '25pc', '75pc', '95pc', 'max' ])\n",
    "volume_stats = DataFrame([volume_stats], columns = ['number_of_minutes', 'mean', 'stdev', 'median', 'mad',\n",
    "                'min', '5pc', '25pc', '75pc', '95pc', 'max' ])"
   ]
  },
  {
   "cell_type": "code",
   "execution_count": null,
   "metadata": {},
   "outputs": [],
   "source": [
    "paw_stats"
   ]
  },
  {
   "cell_type": "code",
   "execution_count": null,
   "metadata": {},
   "outputs": [],
   "source": [
    "flow_stats"
   ]
  },
  {
   "cell_type": "code",
   "execution_count": null,
   "metadata": {},
   "outputs": [],
   "source": [
    "volume_stats"
   ]
  },
  {
   "cell_type": "code",
   "execution_count": null,
   "metadata": {},
   "outputs": [],
   "source": [
    "writer = pd.ExcelWriter('%s/%s%s' % (dir_write, fnames2, 'fast_data_stats.xlsx'))\n",
    "paw_stats.to_excel(writer, 'paw')\n",
    "flow_stats.to_excel(writer, 'flow')\n",
    "volume_stats.to_excel(writer, 'volume')\n",
    "writer.save()"
   ]
  },
  {
   "cell_type": "markdown",
   "metadata": {},
   "source": [
    "### Check how many duplicated time stamps"
   ]
  },
  {
   "cell_type": "code",
   "execution_count": null,
   "metadata": {},
   "outputs": [],
   "source": [
    "mask = fast.duplicated(subset = 'date_time')"
   ]
  },
  {
   "cell_type": "code",
   "execution_count": null,
   "metadata": {},
   "outputs": [],
   "source": [
    "len(mask)"
   ]
  },
  {
   "cell_type": "code",
   "execution_count": null,
   "metadata": {},
   "outputs": [],
   "source": [
    "uniq = fast[~mask]"
   ]
  },
  {
   "cell_type": "code",
   "execution_count": null,
   "metadata": {},
   "outputs": [],
   "source": [
    "len(uniq)"
   ]
  },
  {
   "cell_type": "code",
   "execution_count": null,
   "metadata": {},
   "outputs": [],
   "source": [
    "dupl = fast[mask]"
   ]
  },
  {
   "cell_type": "code",
   "execution_count": null,
   "metadata": {},
   "outputs": [],
   "source": [
    "len(dupl)"
   ]
  },
  {
   "cell_type": "markdown",
   "metadata": {},
   "source": [
    "### Reindex the duplicates "
   ]
  },
  {
   "cell_type": "markdown",
   "metadata": {},
   "source": [
    "#### using the timestamp-shifting method. This method is shifting the timestamp of the duplicates up by 8 msec"
   ]
  },
  {
   "cell_type": "code",
   "execution_count": null,
   "metadata": {},
   "outputs": [],
   "source": [
    "dupl.index = dupl.ix[:].date_time.apply(lambda x: x + pd.offsets.Milli(8))"
   ]
  },
  {
   "cell_type": "code",
   "execution_count": null,
   "metadata": {},
   "outputs": [],
   "source": [
    "dupl.head(10)"
   ]
  },
  {
   "cell_type": "code",
   "execution_count": null,
   "metadata": {},
   "outputs": [],
   "source": [
    "fast_non_dupl = pd.concat([uniq, dupl])"
   ]
  },
  {
   "cell_type": "code",
   "execution_count": null,
   "metadata": {
    "scrolled": true
   },
   "outputs": [],
   "source": [
    "len(fast_non_dupl)"
   ]
  },
  {
   "cell_type": "code",
   "execution_count": null,
   "metadata": {},
   "outputs": [],
   "source": [
    "fast_non_dupl = fast_non_dupl.sort()"
   ]
  },
  {
   "cell_type": "code",
   "execution_count": null,
   "metadata": {
    "scrolled": false
   },
   "outputs": [],
   "source": [
    "fast_non_dupl = fast_non_dupl.drop('date_time', axis = 1)"
   ]
  },
  {
   "cell_type": "code",
   "execution_count": null,
   "metadata": {
    "scrolled": false
   },
   "outputs": [],
   "source": [
    "fast_non_dupl.head()"
   ]
  },
  {
   "cell_type": "code",
   "execution_count": null,
   "metadata": {},
   "outputs": [],
   "source": [
    "fast = fast_non_dupl"
   ]
  },
  {
   "cell_type": "markdown",
   "metadata": {},
   "source": [
    "###  Writing data structures into .csv text files - not run"
   ]
  },
  {
   "cell_type": "raw",
   "metadata": {},
   "source": [
    "fast.to_csv('%s/%s%s' % (dir_write, fnames2, 'fast.csv'))"
   ]
  },
  {
   "cell_type": "markdown",
   "metadata": {},
   "source": [
    "###  Importing the edited .csv text files - not run"
   ]
  },
  {
   "cell_type": "raw",
   "metadata": {},
   "source": [
    "fast = pd.read_csv('%s/%s%s' % (dir_write, fnames2, 'fast.csv'), parse_dates = [1] )"
   ]
  },
  {
   "cell_type": "markdown",
   "metadata": {},
   "source": [
    "### Identifying  and visualizing individual waveforms"
   ]
  },
  {
   "cell_type": "code",
   "execution_count": null,
   "metadata": {},
   "outputs": [],
   "source": [
    "start_1 = '2015-10-12 10:37:00'\n",
    "end_1 = '2015-10-12 10:37:30'"
   ]
  },
  {
   "cell_type": "code",
   "execution_count": null,
   "metadata": {},
   "outputs": [],
   "source": [
    "start_2 = '2015-10-12 10:30:00'\n",
    "end_2 = '2015-10-12 10:30:30'"
   ]
  },
  {
   "cell_type": "code",
   "execution_count": null,
   "metadata": {},
   "outputs": [],
   "source": [
    "start_3 = '2015-10-12 10:37:00'\n",
    "end_3 = '2015-10-12 10:37:10'"
   ]
  },
  {
   "cell_type": "code",
   "execution_count": null,
   "metadata": {},
   "outputs": [],
   "source": [
    "fast_short_1 = fast[start_1 : end_1]"
   ]
  },
  {
   "cell_type": "code",
   "execution_count": null,
   "metadata": {},
   "outputs": [],
   "source": [
    "fast_short_2 = fast[start_2 : end_2]"
   ]
  },
  {
   "cell_type": "code",
   "execution_count": null,
   "metadata": {},
   "outputs": [],
   "source": [
    "fast_short_3 = fast[start_3 : end_3]"
   ]
  },
  {
   "cell_type": "code",
   "execution_count": null,
   "metadata": {},
   "outputs": [],
   "source": [
    "len(fast_short_1), len(fast_short_2), len(fast_short_3)"
   ]
  },
  {
   "cell_type": "code",
   "execution_count": null,
   "metadata": {
    "scrolled": false
   },
   "outputs": [],
   "source": [
    "fig, axes = plt.subplots(nrows=3, ncols=1, sharex = 'all', sharey = 'none')\n",
    "fig.set_size_inches(12,9); fig.set_label('res')\n",
    "fig.subplots_adjust(left=None, bottom=None, right=None, top=None, wspace=None, hspace=0.2)\n",
    "fast_short_1.paw.plot(ax = axes[0], color = 'red', title = 'Pressure',  \n",
    "                      ylim = [-10, (fast_short_1.paw.max() * 1.2)], fontsize = 12);\n",
    "fast_short_1.flow.plot(ax = axes[1], color = 'green', title = 'Flow', \n",
    "                ylim = [(fast_short_1.flow.min() * 1.2), (fast_short_1.flow.max() * 1.2)], fontsize = 12);\n",
    "fast_short_1.volume.plot(ax = axes[2], \n",
    "                 color = 'blue', title = 'Volume', ylim = [0, (fast_short_1.volume.max() * 1.2)], fontsize = 12, rot = 0);\n",
    "axes[0].set_xlabel(''); axes[1].set_xlabel(''); axes[2].set_xlabel('Time', size = 16, color = 'black', rotation = 0 )\n",
    "axes[0].set_ylabel('mbar', size = 16, color = 'black'); axes[1].set_ylabel('L/min', size = 14, color = 'black')\n",
    "axes[2].set_ylabel('mL', size = 16, color = 'black')\n",
    "\n",
    "axes[0].set_title('Pressure', size = 16, color = 'black'); axes[1].set_title('Flow', size = 16, color = 'black')\n",
    "axes[2].set_title('Volume', size = 16, color = 'black')\n",
    "\n",
    "axes[0].grid('on', linestyle='-', linewidth=0.5, color = 'gray'); \n",
    "axes[1].grid('on', linestyle='-', linewidth=0.5, color = 'gray')\n",
    "axes[2].grid('on', linestyle='-', linewidth=0.5, color = 'gray')\n",
    "\n",
    "fig.savefig('%s/%s%s' % (dir_write, fnames2, 'Figure_2a.jpg'), dpi=600, facecolor='w', edgecolor='w',\n",
    "        orientation='portrait', papertype=None, format='jpg',\n",
    "        transparent=False, bbox_inches=None, pad_inches=0.1,\n",
    "        frameon=True)"
   ]
  },
  {
   "cell_type": "code",
   "execution_count": null,
   "metadata": {
    "scrolled": false
   },
   "outputs": [],
   "source": [
    "fig, axes = plt.subplots(nrows=3, ncols=1, sharex = 'all', sharey = 'none')\n",
    "fig.set_size_inches(12,9); fig.set_label('res')\n",
    "fig.subplots_adjust(left=None, bottom=None, right=None, top=None, wspace=None, hspace=0.2)\n",
    "fast_short_1.paw.plot(ax = axes[0], color = 'black', title = 'Pressure',  \n",
    "                      ylim = [-10, (fast_short_1.paw.max() * 1.2)], fontsize = 12);\n",
    "fast_short_1.flow.plot(ax = axes[1], color = 'black', title = 'Flow', \n",
    "                ylim = [(fast_short_1.flow.min() * 1.2), (fast_short_1.flow.max() * 1.2)], fontsize = 12);\n",
    "fast_short_1.volume.plot(ax = axes[2], \n",
    "                 color = 'black', title = 'Volume', ylim = [0, (fast_short_1.volume.max() * 1.2)], fontsize = 12, rot = 0);\n",
    "axes[0].set_xlabel(''); axes[1].set_xlabel(''); axes[2].set_xlabel('Time', size = 16, color = 'black', rotation = 0 )\n",
    "axes[0].set_ylabel('mbar', size = 16, color = 'black'); axes[1].set_ylabel('L/min', size = 14, color = 'black')\n",
    "axes[2].set_ylabel('mL', size = 16, color = 'black')\n",
    "\n",
    "axes[0].set_title('Pressure', size = 16, color = 'black'); axes[1].set_title('Flow', size = 16, color = 'black')\n",
    "axes[2].set_title('Volume', size = 16, color = 'black')\n",
    "\n",
    "axes[0].grid('on', linestyle='-', linewidth=0.5, color = 'gray'); \n",
    "axes[1].grid('on', linestyle='-', linewidth=0.5, color = 'gray')\n",
    "axes[2].grid('on', linestyle='-', linewidth=0.5, color = 'gray')\n",
    "\n",
    "fig.savefig('%s/%s%s' % (dir_write, fnames2, 'Figure_2a_bw.jpg'), dpi=600, facecolor='w', edgecolor='w',\n",
    "        orientation='portrait', papertype=None, format='jpg',\n",
    "        transparent=False, bbox_inches=None, pad_inches=0.1,\n",
    "        frameon=True)"
   ]
  },
  {
   "cell_type": "code",
   "execution_count": null,
   "metadata": {},
   "outputs": [],
   "source": [
    "fig, axes = plt.subplots(nrows=3, ncols=1, sharex = 'all', sharey = 'none')\n",
    "fig.set_size_inches(30,9); fig.set_label('res')\n",
    "fig.subplots_adjust(left=None, bottom=None, right=None, top=None, wspace=None, hspace=0.2)\n",
    "fast_short_1.paw.plot(ax = axes[0], color = 'red', title = 'Pressure',  \n",
    "                      ylim = [-10, (fast_short_1.paw.max() * 1.2)], fontsize = 12);\n",
    "fast_short_1.flow.plot(ax = axes[1], color = 'green', title = 'Flow', \n",
    "                ylim = [(fast_short_1.flow.min() * 1.2), (fast_short_1.flow.max() * 1.2)], fontsize = 12);\n",
    "fast_short_1.volume.plot(ax = axes[2], \n",
    "                 color = 'blue', title = 'Volume', ylim = [0, (fast_short_1.volume.max() * 1.2)], fontsize = 12, rot = 0);\n",
    "axes[0].set_xlabel(''); axes[1].set_xlabel(''); axes[2].set_xlabel('Time', size = 16, color = 'black', rotation = 0 )\n",
    "axes[0].set_ylabel('mbar', size = 16, color = 'black'); axes[1].set_ylabel('L/min', size = 14, color = 'black')\n",
    "axes[2].set_ylabel('mL', size = 16, color = 'black')\n",
    "\n",
    "axes[0].set_title('Pressure', size = 16, color = 'black'); axes[1].set_title('Flow', size = 16, color = 'black')\n",
    "axes[2].set_title('Volume', size = 16, color = 'black')\n",
    "\n",
    "axes[0].grid('on', linestyle='-', linewidth=0.5, color = 'gray'); \n",
    "axes[1].grid('on', linestyle='-', linewidth=0.5, color = 'gray')\n",
    "axes[2].grid('on', linestyle='-', linewidth=0.5, color = 'gray')\n",
    "\n",
    "fig.savefig('%s/%s%s' % (dir_write, fnames2, 'Figure_2a_wide.jpg'), dpi=600, facecolor='w', edgecolor='w',\n",
    "        orientation='portrait', papertype=None, format='jpg',\n",
    "        transparent=False, bbox_inches=None, pad_inches=0.1,\n",
    "        frameon=True)"
   ]
  },
  {
   "cell_type": "code",
   "execution_count": null,
   "metadata": {
    "scrolled": false
   },
   "outputs": [],
   "source": [
    "fig, axes = plt.subplots(nrows=3, ncols=1, sharex = 'all', sharey = 'none')\n",
    "fig.set_size_inches(12,9); fig.set_label('res')\n",
    "fig.subplots_adjust(left=None, bottom=None, right=None, top=None, wspace=None, hspace=0.2)\n",
    "fast_short_2.paw.plot(ax = axes[0], color = 'red', title = 'Pressure',  \n",
    "                      ylim = [0, (fast_short_2.paw.max() * 1.2)], fontsize = 12);\n",
    "fast_short_2.flow.plot(ax = axes[1], color = 'green', title = 'Flow', \n",
    "                ylim = [(fast_short_2.flow.min() * 1.2), (fast_short_2.flow.max() * 1.2)], fontsize = 12);\n",
    "fast_short_2.volume.plot(ax = axes[2], color = 'blue', title = 'Volume', \n",
    "                         ylim = [0, (fast_short_2.volume.max() * 1.2)], fontsize = 12, rot = 0);\n",
    "axes[0].set_xlabel(''); axes[1].set_xlabel(''); axes[2].set_xlabel('Time', size = 16, color = 'black', rotation = 0 )\n",
    "axes[0].set_ylabel('mbar', size = 14, color = 'black'); axes[1].set_ylabel('L/min', size = 14, color = 'black')\n",
    "axes[2].set_ylabel('mL', size = 14, color = 'black')\n",
    "\n",
    "axes[0].set_title('Pressure', size = 16, color = 'black'); axes[1].set_title('Flow', size = 16, color = 'black')\n",
    "axes[2].set_title('Volume', size = 16, color = 'black')\n",
    "\n",
    "axes[0].grid('on', linestyle='-', linewidth=0.5, color = 'gray'); \n",
    "axes[1].grid('on', linestyle='-', linewidth=0.5, color = 'gray')\n",
    "axes[2].grid('on', linestyle='-', linewidth=0.5, color = 'gray')\n",
    "\n",
    "fig.savefig('%s/%s%s' % (dir_write, fnames2, 'DG004_Figure_2b.jpg'), dpi=600, facecolor='w', edgecolor='w',\n",
    "        orientation='portrait', papertype=None, format='jpg',\n",
    "        transparent=False, bbox_inches=None, pad_inches=0.1,\n",
    "        frameon=True)"
   ]
  },
  {
   "cell_type": "code",
   "execution_count": null,
   "metadata": {
    "scrolled": false
   },
   "outputs": [],
   "source": [
    "fig, axes = plt.subplots(nrows=3, ncols=1, sharex = 'all', sharey = 'none')\n",
    "fig.set_size_inches(12,9); fig.set_label('res')\n",
    "fig.subplots_adjust(left=None, bottom=None, right=None, top=None, wspace=None, hspace=0.2)\n",
    "fast_short_2.paw.plot(ax = axes[0], color = 'black', title = 'Pressure',  \n",
    "                      ylim = [0, (fast_short_2.paw.max() * 1.2)], fontsize = 12);\n",
    "fast_short_2.flow.plot(ax = axes[1], color = 'black', title = 'Flow', \n",
    "                ylim = [(fast_short_2.flow.min() * 1.2), (fast_short_2.flow.max() * 1.2)], fontsize = 12);\n",
    "fast_short_2.volume.plot(ax = axes[2], color = 'black', title = 'Volume', \n",
    "                         ylim = [0, (fast_short_2.volume.max() * 1.2)], fontsize = 12, rot = 0);\n",
    "axes[0].set_xlabel(''); axes[1].set_xlabel(''); axes[2].set_xlabel('Time', size = 16, color = 'black', rotation = 0 )\n",
    "axes[0].set_ylabel('mbar', size = 14, color = 'black'); axes[1].set_ylabel('L/min', size = 14, color = 'black')\n",
    "axes[2].set_ylabel('mL', size = 14, color = 'black')\n",
    "\n",
    "axes[0].set_title('Pressure', size = 16, color = 'black'); axes[1].set_title('Flow', size = 16, color = 'black')\n",
    "axes[2].set_title('Volume', size = 16, color = 'black')\n",
    "\n",
    "axes[0].grid('on', linestyle='-', linewidth=0.5, color = 'gray'); \n",
    "axes[1].grid('on', linestyle='-', linewidth=0.5, color = 'gray')\n",
    "axes[2].grid('on', linestyle='-', linewidth=0.5, color = 'gray')\n",
    "\n",
    "fig.savefig('%s/%s%s' % (dir_write, fnames2, 'Figure_2b_bw.jpg'), dpi=600, facecolor='w', edgecolor='w',\n",
    "        orientation='portrait', papertype=None, format='jpg',\n",
    "        transparent=False, bbox_inches=None, pad_inches=0.1,\n",
    "        frameon=True)"
   ]
  },
  {
   "cell_type": "code",
   "execution_count": null,
   "metadata": {
    "scrolled": false
   },
   "outputs": [],
   "source": [
    "fig, axes = plt.subplots(nrows=3, ncols=1, sharex = 'all', sharey = 'none')\n",
    "fig.set_size_inches(30,9); fig.set_label('res')\n",
    "fig.subplots_adjust(left=None, bottom=None, right=None, top=None, wspace=None, hspace=0.2)\n",
    "fast_short_2.paw.plot(ax = axes[0], color = 'red', title = 'Pressure',  \n",
    "                      ylim = [0, (fast_short_2.paw.max() * 1.2)], fontsize = 12);\n",
    "fast_short_2.flow.plot(ax = axes[1], color = 'green', title = 'Flow', \n",
    "                ylim = [(fast_short_2.flow.min() * 1.2), (fast_short_2.flow.max() * 1.2)], fontsize = 12);\n",
    "fast_short_2.volume.plot(ax = axes[2], color = 'blue', title = 'Volume', \n",
    "                         ylim = [0, (fast_short_2.volume.max() * 1.2)], fontsize = 12, rot = 0);\n",
    "axes[0].set_xlabel(''); axes[1].set_xlabel(''); axes[2].set_xlabel('Time', size = 16, color = 'black', rotation = 0 )\n",
    "axes[0].set_ylabel('mbar', size = 14, color = 'black'); axes[1].set_ylabel('L/min', size = 14, color = 'black')\n",
    "axes[2].set_ylabel('mL', size = 14, color = 'black')\n",
    "\n",
    "axes[0].set_title('Pressure', size = 16, color = 'black'); axes[1].set_title('Flow', size = 16, color = 'black')\n",
    "axes[2].set_title('Volume', size = 16, color = 'black')\n",
    "\n",
    "axes[0].grid('on', linestyle='-', linewidth=0.5, color = 'gray'); \n",
    "axes[1].grid('on', linestyle='-', linewidth=0.5, color = 'gray')\n",
    "axes[2].grid('on', linestyle='-', linewidth=0.5, color = 'gray')\n",
    "\n",
    "fig.savefig('%s/%s%s' % (dir_write, fnames2, 'Figure_2b_wide.jpg'), dpi=600, facecolor='w', edgecolor='w',\n",
    "        orientation='portrait', papertype=None, format='jpg',\n",
    "        transparent=False, bbox_inches=None, pad_inches=0.1,\n",
    "        frameon=True)"
   ]
  },
  {
   "cell_type": "code",
   "execution_count": null,
   "metadata": {
    "scrolled": false
   },
   "outputs": [],
   "source": [
    "fig, axes = plt.subplots(nrows=3, ncols=1, sharex = 'all', sharey = 'none')\n",
    "fig.set_size_inches(30,9); fig.set_label('res')\n",
    "fig.subplots_adjust(left=None, bottom=None, right=None, top=None, wspace=None, hspace=0.2)\n",
    "fast_short_3.paw.plot(ax = axes[0], color = 'red', title = 'Pressure',  \n",
    "                      ylim = [-10, (fast_short_3.paw.max() * 1.2)], fontsize = 12);\n",
    "fast_short_3.flow.plot(ax = axes[1], color = 'green', title = 'Flow', \n",
    "                ylim = [(fast_short_3.flow.min() * 1.2), (fast_short_3.flow.max() * 1.2)], fontsize = 12);\n",
    "fast_short_3.volume.plot(ax = axes[2], color = 'blue', title = 'Volume', \n",
    "                         ylim = [0, (fast_short_3.volume.max() * 1.2)], fontsize = 12, rot = 0);\n",
    "axes[0].set_xlabel(''); axes[1].set_xlabel(''); axes[2].set_xlabel('Time', size = 16, color = 'black', rotation = 0 )\n",
    "axes[0].set_ylabel('mbar', size = 14, color = 'black'); axes[1].set_ylabel('L/min', size = 14, color = 'black')\n",
    "axes[2].set_ylabel('mL', size = 14, color = 'black')\n",
    "\n",
    "axes[0].set_title('Pressure', size = 16, color = 'black'); axes[1].set_title('Flow', size = 16, color = 'black')\n",
    "axes[2].set_title('Volume', size = 16, color = 'black')\n",
    "\n",
    "axes[0].grid('on', linestyle='-', linewidth=0.5, color = 'gray'); \n",
    "axes[1].grid('on', linestyle='-', linewidth=0.5, color = 'gray')\n",
    "axes[2].grid('on', linestyle='-', linewidth=0.5, color = 'gray')\n",
    "\n",
    "fig.savefig('%s/%s%s' % (dir_write, fnames2, 'Figure_2a_wider.jpg'), dpi=600, facecolor='w', edgecolor='w',\n",
    "        orientation='portrait', papertype=None, format='jpg',\n",
    "        transparent=False, bbox_inches=None, pad_inches=0.1,\n",
    "        frameon=True)"
   ]
  },
  {
   "cell_type": "markdown",
   "metadata": {},
   "source": [
    "###  Longer (30 seconds/line) visualization of waveforms"
   ]
  },
  {
   "cell_type": "code",
   "execution_count": null,
   "metadata": {},
   "outputs": [],
   "source": [
    "timelist = (pd.date_range('2015-10-12 10:37:00', '2015-10-12 10:42:00', freq = '10S'))\n",
    "timelist"
   ]
  },
  {
   "cell_type": "code",
   "execution_count": null,
   "metadata": {
    "scrolled": false
   },
   "outputs": [],
   "source": [
    "fig = plt.figure()\n",
    "fig.set_size_inches(15,250)\n",
    "fig.subplots_adjust(left=None, bottom=None, right=None, top=None,\n",
    "wspace=None, hspace=0.2)\n",
    "j = 1\n",
    "for i in timelist[:-1]:\n",
    "    ax1 = fig.add_subplot(len(timelist)*3, 1, j)\n",
    "    fast.ix[i : i + pd.to_timedelta('00:00:30')].paw.plot(ax = ax1, color = 'red', title = 'Paw', grid = 'on', rot = 0)\n",
    "    ax1.set_xlabel('')\n",
    "    ax2 = fig.add_subplot(len(timelist)*3, 1, j+1)\n",
    "    fast.ix[i : i + pd.to_timedelta('00:00:30')].flow.plot(ax = ax2, color = 'green', title = 'flow', grid = 'on', rot = 0)\n",
    "    ax2.set_xlabel('')\n",
    "    ax3 = fig.add_subplot(len(timelist)*3, 1, j+2)\n",
    "    fast.ix[i : i + pd.to_timedelta('00:00:30')].volume.plot(ax = ax3, color = 'blue', title = 'volume', grid = 'on', rot = 0)\n",
    "    ax3.set_xlabel('Time')\n",
    "    j += 3"
   ]
  },
  {
   "cell_type": "code",
   "execution_count": null,
   "metadata": {},
   "outputs": [],
   "source": []
  }
 ],
 "metadata": {
  "kernelspec": {
   "display_name": "Python 3",
   "language": "python",
   "name": "python3"
  },
  "language_info": {
   "codemirror_mode": {
    "name": "ipython",
    "version": 3
   },
   "file_extension": ".py",
   "mimetype": "text/x-python",
   "name": "python",
   "nbconvert_exporter": "python",
   "pygments_lexer": "ipython3",
   "version": "3.7.1"
  }
 },
 "nbformat": 4,
 "nbformat_minor": 1
}
